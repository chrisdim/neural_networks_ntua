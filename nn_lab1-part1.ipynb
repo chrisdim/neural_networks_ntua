{
 "cells": [
  {
   "cell_type": "markdown",
   "metadata": {
    "id": "qGP1PWqA80Th"
   },
   "source": [
    "# Neural Networks & Intelligent Computer Systems\n",
    "## **Exercise 1**. Supervised Learning: Classification\n",
    "\n",
    "---\n",
    "Christos Dimopoulos - 03117037 <br />\n",
    "Dimitris Dimos - 03117165 <br />\n",
    "Team No. 01\n",
    "\n",
    "---"
   ]
  },
  {
   "cell_type": "code",
   "execution_count": null,
   "metadata": {
    "id": "lOTQuijDBmKV"
   },
   "outputs": [],
   "source": [
    "# Import libraries\n",
    "import numpy as np\n",
    "import matplotlib.pyplot as plt\n",
    "import sklearn\n",
    "import pandas as pd\n",
    "%matplotlib inline\n",
    "\n",
    "import warnings \n",
    "warnings.filterwarnings('ignore')\n",
    "\n",
    "from sklearn.model_selection import train_test_split\n",
    "from imblearn.pipeline import Pipeline\n",
    "\n",
    "# import scikit-learn models\n",
    "from sklearn.dummy import DummyClassifier\n",
    "from sklearn.naive_bayes import GaussianNB\n",
    "from sklearn.neighbors import KNeighborsClassifier\n",
    "from sklearn.linear_model import LogisticRegression\n",
    "\n",
    "from sklearn.model_selection import cross_val_score\n",
    "# Import classes for preprocessing\n",
    "from sklearn.feature_selection import VarianceThreshold\n",
    "from sklearn.preprocessing import StandardScaler\n",
    "from imblearn.over_sampling import RandomOverSampler\n",
    "from sklearn.decomposition import PCA\n",
    "\n",
    "from sklearn.model_selection import GridSearchCV\n",
    "import time\n",
    "from sklearn.metrics import classification_report\n",
    "from sklearn.metrics import confusion_matrix\n",
    "import seaborn as sns"
   ]
  },
  {
   "cell_type": "markdown",
   "metadata": {
    "id": "Y6zZHflE_thA"
   },
   "source": [
    "# Μέρος 1. UCI dataset"
   ]
  },
  {
   "cell_type": "markdown",
   "metadata": {
    "id": "Drk3EZZrB41K"
   },
   "source": [
    "## Εισαγωγή και Επισκόπηση"
   ]
  },
  {
   "cell_type": "markdown",
   "metadata": {
    "id": "zP_G-GnKE7Dx"
   },
   "source": [
    "Σε πρώτο στάδιο, εισάγουμε το σύνολο δεδομένων **U05 (HCC Survival Data Set)** της UCI, το οποίο αφορά σε δεδομένα Hepatocellular Καρκινωμάτων του ήπατος και συλλέχθει σε Πανεπιστημειακό Νοσοκομείο της Πορτογαλίας. Περιλαμβάνει αληθινά κλινικά δεδομένα από 165 ασθενείς που διαγνώστηκαν με HCC. Δεν χρειάζεται κάποια προεργασία στο .txt αρχείο εισόδου (πχ concatenation), γι'αυτό απλώς φορτώνουμε το dataset.\n",
    "\n"
   ]
  },
  {
   "cell_type": "code",
   "execution_count": null,
   "metadata": {
    "colab": {
     "base_uri": "https://localhost:8080/",
     "height": 439
    },
    "id": "xY6lXUjOAPIa",
    "outputId": "ad06a805-7dd0-401f-ae7a-7e4c384d7ed2"
   },
   "outputs": [
    {
     "data": {
      "text/html": [
       "<div>\n",
       "<style scoped>\n",
       "    .dataframe tbody tr th:only-of-type {\n",
       "        vertical-align: middle;\n",
       "    }\n",
       "\n",
       "    .dataframe tbody tr th {\n",
       "        vertical-align: top;\n",
       "    }\n",
       "\n",
       "    .dataframe thead th {\n",
       "        text-align: right;\n",
       "    }\n",
       "</style>\n",
       "<table border=\"1\" class=\"dataframe\">\n",
       "  <thead>\n",
       "    <tr style=\"text-align: right;\">\n",
       "      <th></th>\n",
       "      <th>0</th>\n",
       "      <th>1</th>\n",
       "      <th>2</th>\n",
       "      <th>3</th>\n",
       "      <th>4</th>\n",
       "      <th>5</th>\n",
       "      <th>6</th>\n",
       "      <th>7</th>\n",
       "      <th>8</th>\n",
       "      <th>9</th>\n",
       "      <th>10</th>\n",
       "      <th>11</th>\n",
       "      <th>12</th>\n",
       "      <th>13</th>\n",
       "      <th>14</th>\n",
       "      <th>15</th>\n",
       "      <th>16</th>\n",
       "      <th>17</th>\n",
       "      <th>18</th>\n",
       "      <th>19</th>\n",
       "      <th>20</th>\n",
       "      <th>21</th>\n",
       "      <th>22</th>\n",
       "      <th>23</th>\n",
       "      <th>24</th>\n",
       "      <th>25</th>\n",
       "      <th>26</th>\n",
       "      <th>27</th>\n",
       "      <th>28</th>\n",
       "      <th>29</th>\n",
       "      <th>30</th>\n",
       "      <th>31</th>\n",
       "      <th>32</th>\n",
       "      <th>33</th>\n",
       "      <th>34</th>\n",
       "      <th>35</th>\n",
       "      <th>36</th>\n",
       "      <th>37</th>\n",
       "      <th>38</th>\n",
       "      <th>39</th>\n",
       "      <th>40</th>\n",
       "      <th>41</th>\n",
       "      <th>42</th>\n",
       "      <th>43</th>\n",
       "      <th>44</th>\n",
       "      <th>45</th>\n",
       "      <th>46</th>\n",
       "      <th>47</th>\n",
       "      <th>48</th>\n",
       "      <th>49</th>\n",
       "    </tr>\n",
       "  </thead>\n",
       "  <tbody>\n",
       "    <tr>\n",
       "      <th>0</th>\n",
       "      <td>1</td>\n",
       "      <td>0</td>\n",
       "      <td>1</td>\n",
       "      <td>0</td>\n",
       "      <td>0</td>\n",
       "      <td>0</td>\n",
       "      <td>0</td>\n",
       "      <td>1</td>\n",
       "      <td>0</td>\n",
       "      <td>1</td>\n",
       "      <td>1</td>\n",
       "      <td>?</td>\n",
       "      <td>1</td>\n",
       "      <td>0</td>\n",
       "      <td>0</td>\n",
       "      <td>0</td>\n",
       "      <td>0</td>\n",
       "      <td>1</td>\n",
       "      <td>0</td>\n",
       "      <td>0</td>\n",
       "      <td>0</td>\n",
       "      <td>0</td>\n",
       "      <td>1</td>\n",
       "      <td>67</td>\n",
       "      <td>137</td>\n",
       "      <td>15</td>\n",
       "      <td>0</td>\n",
       "      <td>1</td>\n",
       "      <td>1</td>\n",
       "      <td>1.53</td>\n",
       "      <td>95</td>\n",
       "      <td>13.7</td>\n",
       "      <td>106.6</td>\n",
       "      <td>4.9</td>\n",
       "      <td>99</td>\n",
       "      <td>3.4</td>\n",
       "      <td>2.1</td>\n",
       "      <td>34</td>\n",
       "      <td>41</td>\n",
       "      <td>183</td>\n",
       "      <td>150</td>\n",
       "      <td>7.1</td>\n",
       "      <td>0.7</td>\n",
       "      <td>1</td>\n",
       "      <td>3.5</td>\n",
       "      <td>0.5</td>\n",
       "      <td>?</td>\n",
       "      <td>?</td>\n",
       "      <td>?</td>\n",
       "      <td>1</td>\n",
       "    </tr>\n",
       "    <tr>\n",
       "      <th>1</th>\n",
       "      <td>0</td>\n",
       "      <td>?</td>\n",
       "      <td>0</td>\n",
       "      <td>0</td>\n",
       "      <td>0</td>\n",
       "      <td>0</td>\n",
       "      <td>1</td>\n",
       "      <td>1</td>\n",
       "      <td>?</td>\n",
       "      <td>?</td>\n",
       "      <td>1</td>\n",
       "      <td>0</td>\n",
       "      <td>0</td>\n",
       "      <td>1</td>\n",
       "      <td>0</td>\n",
       "      <td>0</td>\n",
       "      <td>0</td>\n",
       "      <td>1</td>\n",
       "      <td>0</td>\n",
       "      <td>0</td>\n",
       "      <td>0</td>\n",
       "      <td>0</td>\n",
       "      <td>1</td>\n",
       "      <td>62</td>\n",
       "      <td>0</td>\n",
       "      <td>?</td>\n",
       "      <td>0</td>\n",
       "      <td>1</td>\n",
       "      <td>1</td>\n",
       "      <td>?</td>\n",
       "      <td>?</td>\n",
       "      <td>?</td>\n",
       "      <td>?</td>\n",
       "      <td>?</td>\n",
       "      <td>?</td>\n",
       "      <td>?</td>\n",
       "      <td>?</td>\n",
       "      <td>?</td>\n",
       "      <td>?</td>\n",
       "      <td>?</td>\n",
       "      <td>?</td>\n",
       "      <td>?</td>\n",
       "      <td>?</td>\n",
       "      <td>1</td>\n",
       "      <td>1.8</td>\n",
       "      <td>?</td>\n",
       "      <td>?</td>\n",
       "      <td>?</td>\n",
       "      <td>?</td>\n",
       "      <td>1</td>\n",
       "    </tr>\n",
       "    <tr>\n",
       "      <th>2</th>\n",
       "      <td>1</td>\n",
       "      <td>0</td>\n",
       "      <td>1</td>\n",
       "      <td>1</td>\n",
       "      <td>0</td>\n",
       "      <td>1</td>\n",
       "      <td>0</td>\n",
       "      <td>1</td>\n",
       "      <td>0</td>\n",
       "      <td>1</td>\n",
       "      <td>0</td>\n",
       "      <td>0</td>\n",
       "      <td>0</td>\n",
       "      <td>1</td>\n",
       "      <td>1</td>\n",
       "      <td>0</td>\n",
       "      <td>0</td>\n",
       "      <td>0</td>\n",
       "      <td>0</td>\n",
       "      <td>1</td>\n",
       "      <td>0</td>\n",
       "      <td>1</td>\n",
       "      <td>1</td>\n",
       "      <td>78</td>\n",
       "      <td>50</td>\n",
       "      <td>50</td>\n",
       "      <td>2</td>\n",
       "      <td>1</td>\n",
       "      <td>2</td>\n",
       "      <td>0.96</td>\n",
       "      <td>5.8</td>\n",
       "      <td>8.9</td>\n",
       "      <td>79.8</td>\n",
       "      <td>8.4</td>\n",
       "      <td>472</td>\n",
       "      <td>3.3</td>\n",
       "      <td>0.4</td>\n",
       "      <td>58</td>\n",
       "      <td>68</td>\n",
       "      <td>202</td>\n",
       "      <td>109</td>\n",
       "      <td>7</td>\n",
       "      <td>2.1</td>\n",
       "      <td>5</td>\n",
       "      <td>13</td>\n",
       "      <td>0.1</td>\n",
       "      <td>28</td>\n",
       "      <td>6</td>\n",
       "      <td>16</td>\n",
       "      <td>1</td>\n",
       "    </tr>\n",
       "    <tr>\n",
       "      <th>3</th>\n",
       "      <td>1</td>\n",
       "      <td>1</td>\n",
       "      <td>1</td>\n",
       "      <td>0</td>\n",
       "      <td>0</td>\n",
       "      <td>0</td>\n",
       "      <td>0</td>\n",
       "      <td>1</td>\n",
       "      <td>0</td>\n",
       "      <td>1</td>\n",
       "      <td>1</td>\n",
       "      <td>0</td>\n",
       "      <td>0</td>\n",
       "      <td>1</td>\n",
       "      <td>0</td>\n",
       "      <td>0</td>\n",
       "      <td>0</td>\n",
       "      <td>0</td>\n",
       "      <td>0</td>\n",
       "      <td>0</td>\n",
       "      <td>0</td>\n",
       "      <td>1</td>\n",
       "      <td>1</td>\n",
       "      <td>77</td>\n",
       "      <td>40</td>\n",
       "      <td>30</td>\n",
       "      <td>0</td>\n",
       "      <td>1</td>\n",
       "      <td>1</td>\n",
       "      <td>0.95</td>\n",
       "      <td>2440</td>\n",
       "      <td>13.4</td>\n",
       "      <td>97.1</td>\n",
       "      <td>9</td>\n",
       "      <td>279</td>\n",
       "      <td>3.7</td>\n",
       "      <td>0.4</td>\n",
       "      <td>16</td>\n",
       "      <td>64</td>\n",
       "      <td>94</td>\n",
       "      <td>174</td>\n",
       "      <td>8.1</td>\n",
       "      <td>1.11</td>\n",
       "      <td>2</td>\n",
       "      <td>15.7</td>\n",
       "      <td>0.2</td>\n",
       "      <td>?</td>\n",
       "      <td>?</td>\n",
       "      <td>?</td>\n",
       "      <td>0</td>\n",
       "    </tr>\n",
       "    <tr>\n",
       "      <th>4</th>\n",
       "      <td>1</td>\n",
       "      <td>1</td>\n",
       "      <td>1</td>\n",
       "      <td>1</td>\n",
       "      <td>0</td>\n",
       "      <td>1</td>\n",
       "      <td>0</td>\n",
       "      <td>1</td>\n",
       "      <td>0</td>\n",
       "      <td>1</td>\n",
       "      <td>0</td>\n",
       "      <td>0</td>\n",
       "      <td>0</td>\n",
       "      <td>1</td>\n",
       "      <td>1</td>\n",
       "      <td>0</td>\n",
       "      <td>0</td>\n",
       "      <td>0</td>\n",
       "      <td>0</td>\n",
       "      <td>0</td>\n",
       "      <td>0</td>\n",
       "      <td>0</td>\n",
       "      <td>1</td>\n",
       "      <td>76</td>\n",
       "      <td>100</td>\n",
       "      <td>30</td>\n",
       "      <td>0</td>\n",
       "      <td>1</td>\n",
       "      <td>1</td>\n",
       "      <td>0.94</td>\n",
       "      <td>49</td>\n",
       "      <td>14.3</td>\n",
       "      <td>95.1</td>\n",
       "      <td>6.4</td>\n",
       "      <td>199</td>\n",
       "      <td>4.1</td>\n",
       "      <td>0.7</td>\n",
       "      <td>147</td>\n",
       "      <td>306</td>\n",
       "      <td>173</td>\n",
       "      <td>109</td>\n",
       "      <td>6.9</td>\n",
       "      <td>1.8</td>\n",
       "      <td>1</td>\n",
       "      <td>9</td>\n",
       "      <td>?</td>\n",
       "      <td>59</td>\n",
       "      <td>15</td>\n",
       "      <td>22</td>\n",
       "      <td>1</td>\n",
       "    </tr>\n",
       "    <tr>\n",
       "      <th>...</th>\n",
       "      <td>...</td>\n",
       "      <td>...</td>\n",
       "      <td>...</td>\n",
       "      <td>...</td>\n",
       "      <td>...</td>\n",
       "      <td>...</td>\n",
       "      <td>...</td>\n",
       "      <td>...</td>\n",
       "      <td>...</td>\n",
       "      <td>...</td>\n",
       "      <td>...</td>\n",
       "      <td>...</td>\n",
       "      <td>...</td>\n",
       "      <td>...</td>\n",
       "      <td>...</td>\n",
       "      <td>...</td>\n",
       "      <td>...</td>\n",
       "      <td>...</td>\n",
       "      <td>...</td>\n",
       "      <td>...</td>\n",
       "      <td>...</td>\n",
       "      <td>...</td>\n",
       "      <td>...</td>\n",
       "      <td>...</td>\n",
       "      <td>...</td>\n",
       "      <td>...</td>\n",
       "      <td>...</td>\n",
       "      <td>...</td>\n",
       "      <td>...</td>\n",
       "      <td>...</td>\n",
       "      <td>...</td>\n",
       "      <td>...</td>\n",
       "      <td>...</td>\n",
       "      <td>...</td>\n",
       "      <td>...</td>\n",
       "      <td>...</td>\n",
       "      <td>...</td>\n",
       "      <td>...</td>\n",
       "      <td>...</td>\n",
       "      <td>...</td>\n",
       "      <td>...</td>\n",
       "      <td>...</td>\n",
       "      <td>...</td>\n",
       "      <td>...</td>\n",
       "      <td>...</td>\n",
       "      <td>...</td>\n",
       "      <td>...</td>\n",
       "      <td>...</td>\n",
       "      <td>...</td>\n",
       "      <td>...</td>\n",
       "    </tr>\n",
       "    <tr>\n",
       "      <th>160</th>\n",
       "      <td>0</td>\n",
       "      <td>0</td>\n",
       "      <td>1</td>\n",
       "      <td>?</td>\n",
       "      <td>?</td>\n",
       "      <td>?</td>\n",
       "      <td>1</td>\n",
       "      <td>1</td>\n",
       "      <td>0</td>\n",
       "      <td>1</td>\n",
       "      <td>0</td>\n",
       "      <td>0</td>\n",
       "      <td>0</td>\n",
       "      <td>0</td>\n",
       "      <td>0</td>\n",
       "      <td>1</td>\n",
       "      <td>0</td>\n",
       "      <td>0</td>\n",
       "      <td>0</td>\n",
       "      <td>0</td>\n",
       "      <td>0</td>\n",
       "      <td>0</td>\n",
       "      <td>0</td>\n",
       "      <td>40</td>\n",
       "      <td>?</td>\n",
       "      <td>?</td>\n",
       "      <td>0</td>\n",
       "      <td>1</td>\n",
       "      <td>1</td>\n",
       "      <td>0.84</td>\n",
       "      <td>?</td>\n",
       "      <td>15.4</td>\n",
       "      <td>109.2</td>\n",
       "      <td>9.3</td>\n",
       "      <td>184000</td>\n",
       "      <td>4.6</td>\n",
       "      <td>0.5</td>\n",
       "      <td>35</td>\n",
       "      <td>40</td>\n",
       "      <td>449</td>\n",
       "      <td>109</td>\n",
       "      <td>7.6</td>\n",
       "      <td>0.7</td>\n",
       "      <td>5</td>\n",
       "      <td>3</td>\n",
       "      <td>?</td>\n",
       "      <td>?</td>\n",
       "      <td>?</td>\n",
       "      <td>?</td>\n",
       "      <td>1</td>\n",
       "    </tr>\n",
       "    <tr>\n",
       "      <th>161</th>\n",
       "      <td>0</td>\n",
       "      <td>1</td>\n",
       "      <td>0</td>\n",
       "      <td>?</td>\n",
       "      <td>?</td>\n",
       "      <td>?</td>\n",
       "      <td>?</td>\n",
       "      <td>1</td>\n",
       "      <td>0</td>\n",
       "      <td>0</td>\n",
       "      <td>0</td>\n",
       "      <td>0</td>\n",
       "      <td>0</td>\n",
       "      <td>1</td>\n",
       "      <td>0</td>\n",
       "      <td>?</td>\n",
       "      <td>0</td>\n",
       "      <td>1</td>\n",
       "      <td>1</td>\n",
       "      <td>1</td>\n",
       "      <td>0</td>\n",
       "      <td>0</td>\n",
       "      <td>1</td>\n",
       "      <td>68</td>\n",
       "      <td>0</td>\n",
       "      <td>0</td>\n",
       "      <td>2</td>\n",
       "      <td>1</td>\n",
       "      <td>1</td>\n",
       "      <td>1.33</td>\n",
       "      <td>4887</td>\n",
       "      <td>12.1</td>\n",
       "      <td>88.9</td>\n",
       "      <td>2.5</td>\n",
       "      <td>141</td>\n",
       "      <td>3</td>\n",
       "      <td>3.6</td>\n",
       "      <td>50</td>\n",
       "      <td>91</td>\n",
       "      <td>147</td>\n",
       "      <td>280</td>\n",
       "      <td>6.7</td>\n",
       "      <td>0.7</td>\n",
       "      <td>1</td>\n",
       "      <td>2.2</td>\n",
       "      <td>2.3</td>\n",
       "      <td>?</td>\n",
       "      <td>?</td>\n",
       "      <td>?</td>\n",
       "      <td>0</td>\n",
       "    </tr>\n",
       "    <tr>\n",
       "      <th>162</th>\n",
       "      <td>1</td>\n",
       "      <td>0</td>\n",
       "      <td>1</td>\n",
       "      <td>0</td>\n",
       "      <td>0</td>\n",
       "      <td>0</td>\n",
       "      <td>0</td>\n",
       "      <td>1</td>\n",
       "      <td>0</td>\n",
       "      <td>1</td>\n",
       "      <td>1</td>\n",
       "      <td>1</td>\n",
       "      <td>0</td>\n",
       "      <td>1</td>\n",
       "      <td>1</td>\n",
       "      <td>0</td>\n",
       "      <td>?</td>\n",
       "      <td>?</td>\n",
       "      <td>?</td>\n",
       "      <td>?</td>\n",
       "      <td>0</td>\n",
       "      <td>0</td>\n",
       "      <td>1</td>\n",
       "      <td>65</td>\n",
       "      <td>?</td>\n",
       "      <td>48</td>\n",
       "      <td>0</td>\n",
       "      <td>1</td>\n",
       "      <td>1</td>\n",
       "      <td>1.13</td>\n",
       "      <td>75</td>\n",
       "      <td>13.3</td>\n",
       "      <td>90</td>\n",
       "      <td>8</td>\n",
       "      <td>385000</td>\n",
       "      <td>4.3</td>\n",
       "      <td>0.6</td>\n",
       "      <td>53</td>\n",
       "      <td>52</td>\n",
       "      <td>164</td>\n",
       "      <td>181</td>\n",
       "      <td>7.5</td>\n",
       "      <td>1.46</td>\n",
       "      <td>5</td>\n",
       "      <td>18.6</td>\n",
       "      <td>?</td>\n",
       "      <td>?</td>\n",
       "      <td>?</td>\n",
       "      <td>?</td>\n",
       "      <td>1</td>\n",
       "    </tr>\n",
       "    <tr>\n",
       "      <th>163</th>\n",
       "      <td>1</td>\n",
       "      <td>0</td>\n",
       "      <td>1</td>\n",
       "      <td>1</td>\n",
       "      <td>0</td>\n",
       "      <td>1</td>\n",
       "      <td>1</td>\n",
       "      <td>1</td>\n",
       "      <td>1</td>\n",
       "      <td>1</td>\n",
       "      <td>0</td>\n",
       "      <td>0</td>\n",
       "      <td>0</td>\n",
       "      <td>0</td>\n",
       "      <td>0</td>\n",
       "      <td>1</td>\n",
       "      <td>0</td>\n",
       "      <td>?</td>\n",
       "      <td>?</td>\n",
       "      <td>?</td>\n",
       "      <td>1</td>\n",
       "      <td>1</td>\n",
       "      <td>1</td>\n",
       "      <td>44</td>\n",
       "      <td>?</td>\n",
       "      <td>?</td>\n",
       "      <td>2</td>\n",
       "      <td>1</td>\n",
       "      <td>1</td>\n",
       "      <td>2.14</td>\n",
       "      <td>94964</td>\n",
       "      <td>15.6</td>\n",
       "      <td>117.3</td>\n",
       "      <td>5200</td>\n",
       "      <td>118000</td>\n",
       "      <td>4.8</td>\n",
       "      <td>1.1</td>\n",
       "      <td>50</td>\n",
       "      <td>60</td>\n",
       "      <td>320</td>\n",
       "      <td>170</td>\n",
       "      <td>8.4</td>\n",
       "      <td>0.74</td>\n",
       "      <td>5</td>\n",
       "      <td>18</td>\n",
       "      <td>?</td>\n",
       "      <td>?</td>\n",
       "      <td>?</td>\n",
       "      <td>?</td>\n",
       "      <td>0</td>\n",
       "    </tr>\n",
       "    <tr>\n",
       "      <th>164</th>\n",
       "      <td>1</td>\n",
       "      <td>1</td>\n",
       "      <td>1</td>\n",
       "      <td>0</td>\n",
       "      <td>0</td>\n",
       "      <td>0</td>\n",
       "      <td>1</td>\n",
       "      <td>1</td>\n",
       "      <td>0</td>\n",
       "      <td>1</td>\n",
       "      <td>0</td>\n",
       "      <td>0</td>\n",
       "      <td>0</td>\n",
       "      <td>0</td>\n",
       "      <td>0</td>\n",
       "      <td>0</td>\n",
       "      <td>0</td>\n",
       "      <td>?</td>\n",
       "      <td>1</td>\n",
       "      <td>1</td>\n",
       "      <td>0</td>\n",
       "      <td>1</td>\n",
       "      <td>1</td>\n",
       "      <td>52</td>\n",
       "      <td>50</td>\n",
       "      <td>?</td>\n",
       "      <td>0</td>\n",
       "      <td>1</td>\n",
       "      <td>1</td>\n",
       "      <td>1.79</td>\n",
       "      <td>44340</td>\n",
       "      <td>12.7</td>\n",
       "      <td>95.8</td>\n",
       "      <td>14.4</td>\n",
       "      <td>412000</td>\n",
       "      <td>2.2</td>\n",
       "      <td>28.5</td>\n",
       "      <td>78</td>\n",
       "      <td>127</td>\n",
       "      <td>444</td>\n",
       "      <td>462</td>\n",
       "      <td>6.6</td>\n",
       "      <td>3.95</td>\n",
       "      <td>5</td>\n",
       "      <td>8.5</td>\n",
       "      <td>19.8</td>\n",
       "      <td>?</td>\n",
       "      <td>?</td>\n",
       "      <td>?</td>\n",
       "      <td>0</td>\n",
       "    </tr>\n",
       "  </tbody>\n",
       "</table>\n",
       "<p>165 rows × 50 columns</p>\n",
       "</div>"
      ],
      "text/plain": [
       "     0  1   2  3  4  5  6   7  8   ...   41    42 43    44    45  46  47  48 49\n",
       "0     1  0   1  0  0  0  0   1  0  ...  7.1   0.7  1   3.5   0.5   ?   ?   ?  1\n",
       "1     0  ?   0  0  0  0  1   1  ?  ...    ?     ?  1   1.8     ?   ?   ?   ?  1\n",
       "2     1  0   1  1  0  1  0   1  0  ...    7   2.1  5    13   0.1  28   6  16  1\n",
       "3     1  1   1  0  0  0  0   1  0  ...  8.1  1.11  2  15.7   0.2   ?   ?   ?  0\n",
       "4     1  1   1  1  0  1  0   1  0  ...  6.9   1.8  1     9     ?  59  15  22  1\n",
       "..   .. ..  .. .. .. .. ..  .. ..  ...  ...   ... ..   ...   ...  ..  ..  .. ..\n",
       "160   0  0   1  ?  ?  ?  1   1  0  ...  7.6   0.7  5     3     ?   ?   ?   ?  1\n",
       "161   0  1   0  ?  ?  ?  ?   1  0  ...  6.7   0.7  1   2.2   2.3   ?   ?   ?  0\n",
       "162   1  0   1  0  0  0  0   1  0  ...  7.5  1.46  5  18.6     ?   ?   ?   ?  1\n",
       "163   1  0   1  1  0  1  1   1  1  ...  8.4  0.74  5    18     ?   ?   ?   ?  0\n",
       "164   1  1   1  0  0  0  1   1  0  ...  6.6  3.95  5   8.5  19.8   ?   ?   ?  0\n",
       "\n",
       "[165 rows x 50 columns]"
      ]
     },
     "execution_count": 57,
     "metadata": {},
     "output_type": "execute_result"
    }
   ],
   "source": [
    "# Read Dataset\n",
    "df = pd.read_csv(\"hcc-data.txt\", header=None)\n",
    "df"
   ]
  },
  {
   "cell_type": "markdown",
   "metadata": {
    "id": "hWSm8XpuNVqj"
   },
   "source": [
    "**Πλήθος Δειγμάτων**: 165 \\\\\n",
    "**Πλήθος Features ανά Δείγμα**: 49 (+1 για το label) \\\\\n",
    "Σημειώνεται, επίσης, ότι πρόκειται για ένα **ετερογενές σύνολο δεδομένων**, καθώς περιλαμβάνει 23 ποσοστικές μεταβλητές και 26 ποιοτικές μεταβλητές ανά δείγμα. Τα features του κάθε δείγματος αναγράφονται παρακάτω με τη σειρά των κολώνων:\n",
    "- Gender: nominal\n",
    "- Symptoms: nominal\n",
    "- Alcohol: nominal\n",
    "- Hepatitis B Surface Antigen: nominal\n",
    "- Hepatitis B e Antigen: nominal\n",
    "- Hepatitis B Core Antibody: nominal\n",
    "- Hepatitis C Virus Antibody: nominal\n",
    "- Cirrhosis : nominal\n",
    "- Endemic Countries: nominal\n",
    "- Smoking: nominal\n",
    "- Diabetes: nominal\n",
    "- Obesity: nominal\n",
    "- Hemochromatosis: nominal\n",
    "- Arterial Hypertension: nominal\n",
    "- Chronic Renal Insufficiency: nominal\n",
    "- Human Immunodeficiency Virus: nominal\n",
    "- Nonalcoholic Steatohepatitis: nominal\n",
    "- Esophageal Varices: nominal\n",
    "- Splenomegaly: nominal\n",
    "- Portal Hypertension: nominal\n",
    "- Portal Vein Thrombosis: nominal\n",
    "- Liver Metastasis: nominal\n",
    "- Radiological Hallmark: nominal\n",
    "- Age at diagnosis: integer\n",
    "- Grams of Alcohol per day: continuous\n",
    "- Packs of cigarets per year: continuous\n",
    "- Performance Status: ordinal\n",
    "- Encefalopathy degree: ordinal\n",
    "- Ascites degree: ordinal\n",
    "- International Normalised Ratio: continuous\n",
    "- Alpha-Fetoprotein (ng/mL): continuous\n",
    "- Haemoglobin (g/dL): continuous\n",
    "- Mean Corpuscular Volume (fl): continuous\n",
    "- Leukocytes(G/L): continuous\n",
    "- Platelets (G/L): continuous\n",
    "- Albumin (mg/dL): continuous\n",
    "- Total Bilirubin(mg/dL): continuous\n",
    "- Alanine transaminase (U/L): continuous\n",
    "- Aspartate transaminase (U/L): continuous\n",
    "- Gamma glutamyl transferase (U/L): continuous\n",
    "- Alkaline phosphatase (U/L): continuous\n",
    "- Total Proteins (g/dL): continuous\n",
    "- Creatinine (mg/dL): continuous\n",
    "- Number of Nodules: integer\n",
    "- Major dimension of nodule (cm): continuous\n",
    "- Direct Bilirubin (mg/dL): continuous\n",
    "- Iron (mcg/dL): continuous\n",
    "- Oxygen Saturation (%): continuous\n",
    "- Ferritin (ng/mL): continuous\n",
    "- Class: nominal (1 if patient survives, 0 if patient died) \n"
   ]
  },
  {
   "cell_type": "markdown",
   "metadata": {
    "id": "JTdeB9oDN4Vf"
   },
   "source": [
    "Σημειώνεται ότι τα features στις κολώνες 0-22 είναι **nominal**. Παρατηρούμε ότι η **γραμμές του dataset είναι αριθμημένες** από το 0 έως το 164 (συνολικά για τα 165 samples). Κάθε κολώνα έχει ως **επικεφαλίδα** έναν αριθμό, ο οποίος κυμαίνεται από 0 έως 49: για τα 49 features κάθε δείγματος και επιπλέον 1 για την ετικέτα του."
   ]
  },
  {
   "cell_type": "markdown",
   "metadata": {
    "id": "lr03T5dfOL8E"
   },
   "source": [
    "Οι ετικέτες των δειγμάτων βρίσκονται στην **τελευταία κολώνα**. Πρόκειται για ένα δυαδικό πρόβλημα κατηγοριοποίησης που αφορά στην επιβίωση ή μη των ασθενών σε διάστημα 1 χρόνου και για το οποίο ακολουθούμε τον εξής συμβολισμό: \\\\\n",
    "- Με 0 σημειώνουμε τους ασθενείς που πέθαναν από την ασθένεια.\n",
    "- Με 1 σημειώνουμε τους ασθενείς που επιβίωσαν."
   ]
  },
  {
   "cell_type": "markdown",
   "metadata": {
    "id": "6o6nzpzkOnex"
   },
   "source": [
    "Επιπλέπν, **υπάρχουν απουσιάζουσες τιμές**, οι οποίες αποτελούν το **10.22%** του συνόλου του dataset. Μόνο 8 ασθενείς - samples έχουν καταγεγραμμένα και τα 49 πεδία των features τους από όλο το dataset (4.85%)."
   ]
  },
  {
   "cell_type": "markdown",
   "metadata": {
    "id": "bh8TFfoQPsDR"
   },
   "source": [
    "Όπως αναφέρθηκε, το πλήθος των κλάσεων στο εν λόγω πρόβλημα κατηγοριοποίησης είναι 2 (**binary classification problem**). Συνολικά, 63 δείγματα - ασθενείς έχουν την **ετικέτα 0** (θάνατος), δηλαδή ποσοστό 38.18% επί του συνόλου, και 102 δείγματα - ασθενείς έχουν την **ετικέτα 1** (επιβίωση), δηλαδή ποσοστό 61.82% επί του συνόλου. Το εν λόγω dataset, λοιπόν, θεωρείται **unbalanced** με περισσότερα δείγματα στην κατηγορία 1."
   ]
  },
  {
   "cell_type": "markdown",
   "metadata": {
    "id": "GjJyJFG5SRPE"
   },
   "source": [
    "## Προετοιμασία"
   ]
  },
  {
   "cell_type": "markdown",
   "metadata": {
    "id": "P0zN6rTmvEKE"
   },
   "source": [
    "Ως πρώτο στάδιο προεργασίας, καλούμαστε να διαχειριστούμε τις απουσιάζουσες τιμές (με ένδειξη ?) στο δοθέν dataset. Προκειμένου να το καταφέρουμε αυτό, αφού τις επισημειώσουμε ως NaN, εργαζόμαστε ανάλογα με το είδος του κάθε feature:\n",
    "- Για **continuous και integer variables** αντικαθιστούμε τις ΝaΝ τιμές με τη median τιμή όσων εμφανίζονται στην ίδια κολώνα. Μέσω αυτής της τεχνικής, δεν λαμβάνουμε υπόψη πιθανά outliers ενώ διαχειριζόμαστε καλύτερα skewed κατανομές τιμών της ίδιας μεταβλητής.\n",
    "- Για **nominal και ordinal variables** αντικαθιστούμε τις NaN τιμές με την πιο συχνά εμφανιζόμενη τιμή της εκάστοτε κολώνας. \\\\\n",
    "\n",
    "Σημειώνεται ότι η τακτική διαγραφής σειρών ή/και στηλών με missing values δεν συμφέρει στην προκειμένη περίπτωση, καθώς όπως αναφέρθηκε μόνο 8 δείγματα-ασθενείς εκ των 165 δεν έχουν κανένα missing value, οπότε το dataset θα εκφυλλιζόταν."
   ]
  },
  {
   "cell_type": "code",
   "execution_count": null,
   "metadata": {
    "id": "kEM029-OgEhL"
   },
   "outputs": [],
   "source": [
    "# First, define the indexes for each type of variables\n",
    "continuous_feats_idx = [24,25, *range(29,43), *range(44,49)]\n",
    "integer_feats_idx = [23, 43]\n",
    "nominal_feats_ids = [*range(0,23)]\n",
    "ordinal_feats_idx = [26, 27, 28]"
   ]
  },
  {
   "cell_type": "code",
   "execution_count": null,
   "metadata": {
    "colab": {
     "base_uri": "https://localhost:8080/",
     "height": 224
    },
    "id": "c778FOufJPsX",
    "outputId": "34cafff0-2297-4a84-8188-fcb1a462ca84"
   },
   "outputs": [
    {
     "data": {
      "text/html": [
       "<div>\n",
       "<style scoped>\n",
       "    .dataframe tbody tr th:only-of-type {\n",
       "        vertical-align: middle;\n",
       "    }\n",
       "\n",
       "    .dataframe tbody tr th {\n",
       "        vertical-align: top;\n",
       "    }\n",
       "\n",
       "    .dataframe thead th {\n",
       "        text-align: right;\n",
       "    }\n",
       "</style>\n",
       "<table border=\"1\" class=\"dataframe\">\n",
       "  <thead>\n",
       "    <tr style=\"text-align: right;\">\n",
       "      <th></th>\n",
       "      <th>0</th>\n",
       "      <th>1</th>\n",
       "      <th>2</th>\n",
       "      <th>3</th>\n",
       "      <th>4</th>\n",
       "      <th>5</th>\n",
       "      <th>6</th>\n",
       "      <th>7</th>\n",
       "      <th>8</th>\n",
       "      <th>9</th>\n",
       "      <th>10</th>\n",
       "      <th>11</th>\n",
       "      <th>12</th>\n",
       "      <th>13</th>\n",
       "      <th>14</th>\n",
       "      <th>15</th>\n",
       "      <th>16</th>\n",
       "      <th>17</th>\n",
       "      <th>18</th>\n",
       "      <th>19</th>\n",
       "      <th>20</th>\n",
       "      <th>21</th>\n",
       "      <th>22</th>\n",
       "      <th>23</th>\n",
       "      <th>24</th>\n",
       "      <th>25</th>\n",
       "      <th>26</th>\n",
       "      <th>27</th>\n",
       "      <th>28</th>\n",
       "      <th>29</th>\n",
       "      <th>30</th>\n",
       "      <th>31</th>\n",
       "      <th>32</th>\n",
       "      <th>33</th>\n",
       "      <th>34</th>\n",
       "      <th>35</th>\n",
       "      <th>36</th>\n",
       "      <th>37</th>\n",
       "      <th>38</th>\n",
       "      <th>39</th>\n",
       "      <th>40</th>\n",
       "      <th>41</th>\n",
       "      <th>42</th>\n",
       "      <th>43</th>\n",
       "      <th>44</th>\n",
       "      <th>45</th>\n",
       "      <th>46</th>\n",
       "      <th>47</th>\n",
       "      <th>48</th>\n",
       "      <th>49</th>\n",
       "    </tr>\n",
       "  </thead>\n",
       "  <tbody>\n",
       "    <tr>\n",
       "      <th>0</th>\n",
       "      <td>1</td>\n",
       "      <td>0</td>\n",
       "      <td>1</td>\n",
       "      <td>0</td>\n",
       "      <td>0</td>\n",
       "      <td>0</td>\n",
       "      <td>0</td>\n",
       "      <td>1</td>\n",
       "      <td>0</td>\n",
       "      <td>1</td>\n",
       "      <td>1</td>\n",
       "      <td>0</td>\n",
       "      <td>1</td>\n",
       "      <td>0</td>\n",
       "      <td>0</td>\n",
       "      <td>0</td>\n",
       "      <td>0</td>\n",
       "      <td>1</td>\n",
       "      <td>0</td>\n",
       "      <td>0</td>\n",
       "      <td>0</td>\n",
       "      <td>0</td>\n",
       "      <td>1</td>\n",
       "      <td>67</td>\n",
       "      <td>137.0</td>\n",
       "      <td>15.0</td>\n",
       "      <td>0</td>\n",
       "      <td>1</td>\n",
       "      <td>1</td>\n",
       "      <td>1.53</td>\n",
       "      <td>95.0</td>\n",
       "      <td>13.70</td>\n",
       "      <td>106.60</td>\n",
       "      <td>4.9</td>\n",
       "      <td>99.0</td>\n",
       "      <td>3.4</td>\n",
       "      <td>2.1</td>\n",
       "      <td>34.0</td>\n",
       "      <td>41.0</td>\n",
       "      <td>183.0</td>\n",
       "      <td>150.0</td>\n",
       "      <td>7.10</td>\n",
       "      <td>0.70</td>\n",
       "      <td>1.0</td>\n",
       "      <td>3.5</td>\n",
       "      <td>0.5</td>\n",
       "      <td>83.0</td>\n",
       "      <td>27.0</td>\n",
       "      <td>295.0</td>\n",
       "      <td>1</td>\n",
       "    </tr>\n",
       "    <tr>\n",
       "      <th>1</th>\n",
       "      <td>0</td>\n",
       "      <td>1</td>\n",
       "      <td>0</td>\n",
       "      <td>0</td>\n",
       "      <td>0</td>\n",
       "      <td>0</td>\n",
       "      <td>1</td>\n",
       "      <td>1</td>\n",
       "      <td>0</td>\n",
       "      <td>1</td>\n",
       "      <td>1</td>\n",
       "      <td>0</td>\n",
       "      <td>0</td>\n",
       "      <td>1</td>\n",
       "      <td>0</td>\n",
       "      <td>0</td>\n",
       "      <td>0</td>\n",
       "      <td>1</td>\n",
       "      <td>0</td>\n",
       "      <td>0</td>\n",
       "      <td>0</td>\n",
       "      <td>0</td>\n",
       "      <td>1</td>\n",
       "      <td>62</td>\n",
       "      <td>0.0</td>\n",
       "      <td>0.0</td>\n",
       "      <td>0</td>\n",
       "      <td>1</td>\n",
       "      <td>1</td>\n",
       "      <td>1.30</td>\n",
       "      <td>33.0</td>\n",
       "      <td>13.05</td>\n",
       "      <td>94.95</td>\n",
       "      <td>7.2</td>\n",
       "      <td>93000.0</td>\n",
       "      <td>3.4</td>\n",
       "      <td>1.4</td>\n",
       "      <td>50.0</td>\n",
       "      <td>71.0</td>\n",
       "      <td>179.5</td>\n",
       "      <td>162.0</td>\n",
       "      <td>7.05</td>\n",
       "      <td>0.85</td>\n",
       "      <td>1.0</td>\n",
       "      <td>1.8</td>\n",
       "      <td>0.7</td>\n",
       "      <td>83.0</td>\n",
       "      <td>27.0</td>\n",
       "      <td>295.0</td>\n",
       "      <td>1</td>\n",
       "    </tr>\n",
       "    <tr>\n",
       "      <th>2</th>\n",
       "      <td>1</td>\n",
       "      <td>0</td>\n",
       "      <td>1</td>\n",
       "      <td>1</td>\n",
       "      <td>0</td>\n",
       "      <td>1</td>\n",
       "      <td>0</td>\n",
       "      <td>1</td>\n",
       "      <td>0</td>\n",
       "      <td>1</td>\n",
       "      <td>0</td>\n",
       "      <td>0</td>\n",
       "      <td>0</td>\n",
       "      <td>1</td>\n",
       "      <td>1</td>\n",
       "      <td>0</td>\n",
       "      <td>0</td>\n",
       "      <td>0</td>\n",
       "      <td>0</td>\n",
       "      <td>1</td>\n",
       "      <td>0</td>\n",
       "      <td>1</td>\n",
       "      <td>1</td>\n",
       "      <td>78</td>\n",
       "      <td>50.0</td>\n",
       "      <td>50.0</td>\n",
       "      <td>2</td>\n",
       "      <td>1</td>\n",
       "      <td>2</td>\n",
       "      <td>0.96</td>\n",
       "      <td>5.8</td>\n",
       "      <td>8.90</td>\n",
       "      <td>79.80</td>\n",
       "      <td>8.4</td>\n",
       "      <td>472.0</td>\n",
       "      <td>3.3</td>\n",
       "      <td>0.4</td>\n",
       "      <td>58.0</td>\n",
       "      <td>68.0</td>\n",
       "      <td>202.0</td>\n",
       "      <td>109.0</td>\n",
       "      <td>7.00</td>\n",
       "      <td>2.10</td>\n",
       "      <td>5.0</td>\n",
       "      <td>13.0</td>\n",
       "      <td>0.1</td>\n",
       "      <td>28.0</td>\n",
       "      <td>6.0</td>\n",
       "      <td>16.0</td>\n",
       "      <td>1</td>\n",
       "    </tr>\n",
       "    <tr>\n",
       "      <th>3</th>\n",
       "      <td>1</td>\n",
       "      <td>1</td>\n",
       "      <td>1</td>\n",
       "      <td>0</td>\n",
       "      <td>0</td>\n",
       "      <td>0</td>\n",
       "      <td>0</td>\n",
       "      <td>1</td>\n",
       "      <td>0</td>\n",
       "      <td>1</td>\n",
       "      <td>1</td>\n",
       "      <td>0</td>\n",
       "      <td>0</td>\n",
       "      <td>1</td>\n",
       "      <td>0</td>\n",
       "      <td>0</td>\n",
       "      <td>0</td>\n",
       "      <td>0</td>\n",
       "      <td>0</td>\n",
       "      <td>0</td>\n",
       "      <td>0</td>\n",
       "      <td>1</td>\n",
       "      <td>1</td>\n",
       "      <td>77</td>\n",
       "      <td>40.0</td>\n",
       "      <td>30.0</td>\n",
       "      <td>0</td>\n",
       "      <td>1</td>\n",
       "      <td>1</td>\n",
       "      <td>0.95</td>\n",
       "      <td>2440.0</td>\n",
       "      <td>13.40</td>\n",
       "      <td>97.10</td>\n",
       "      <td>9.0</td>\n",
       "      <td>279.0</td>\n",
       "      <td>3.7</td>\n",
       "      <td>0.4</td>\n",
       "      <td>16.0</td>\n",
       "      <td>64.0</td>\n",
       "      <td>94.0</td>\n",
       "      <td>174.0</td>\n",
       "      <td>8.10</td>\n",
       "      <td>1.11</td>\n",
       "      <td>2.0</td>\n",
       "      <td>15.7</td>\n",
       "      <td>0.2</td>\n",
       "      <td>83.0</td>\n",
       "      <td>27.0</td>\n",
       "      <td>295.0</td>\n",
       "      <td>0</td>\n",
       "    </tr>\n",
       "    <tr>\n",
       "      <th>4</th>\n",
       "      <td>1</td>\n",
       "      <td>1</td>\n",
       "      <td>1</td>\n",
       "      <td>1</td>\n",
       "      <td>0</td>\n",
       "      <td>1</td>\n",
       "      <td>0</td>\n",
       "      <td>1</td>\n",
       "      <td>0</td>\n",
       "      <td>1</td>\n",
       "      <td>0</td>\n",
       "      <td>0</td>\n",
       "      <td>0</td>\n",
       "      <td>1</td>\n",
       "      <td>1</td>\n",
       "      <td>0</td>\n",
       "      <td>0</td>\n",
       "      <td>0</td>\n",
       "      <td>0</td>\n",
       "      <td>0</td>\n",
       "      <td>0</td>\n",
       "      <td>0</td>\n",
       "      <td>1</td>\n",
       "      <td>76</td>\n",
       "      <td>100.0</td>\n",
       "      <td>30.0</td>\n",
       "      <td>0</td>\n",
       "      <td>1</td>\n",
       "      <td>1</td>\n",
       "      <td>0.94</td>\n",
       "      <td>49.0</td>\n",
       "      <td>14.30</td>\n",
       "      <td>95.10</td>\n",
       "      <td>6.4</td>\n",
       "      <td>199.0</td>\n",
       "      <td>4.1</td>\n",
       "      <td>0.7</td>\n",
       "      <td>147.0</td>\n",
       "      <td>306.0</td>\n",
       "      <td>173.0</td>\n",
       "      <td>109.0</td>\n",
       "      <td>6.90</td>\n",
       "      <td>1.80</td>\n",
       "      <td>1.0</td>\n",
       "      <td>9.0</td>\n",
       "      <td>0.7</td>\n",
       "      <td>59.0</td>\n",
       "      <td>15.0</td>\n",
       "      <td>22.0</td>\n",
       "      <td>1</td>\n",
       "    </tr>\n",
       "  </tbody>\n",
       "</table>\n",
       "</div>"
      ],
      "text/plain": [
       "   0  1   2  3  4  5  6   7   ...    42   43    44   45    46    47     48 49\n",
       "0   1  0   1  0  0  0  0   1  ...  0.70  1.0   3.5  0.5  83.0  27.0  295.0  1\n",
       "1   0  1   0  0  0  0  1   1  ...  0.85  1.0   1.8  0.7  83.0  27.0  295.0  1\n",
       "2   1  0   1  1  0  1  0   1  ...  2.10  5.0  13.0  0.1  28.0   6.0   16.0  1\n",
       "3   1  1   1  0  0  0  0   1  ...  1.11  2.0  15.7  0.2  83.0  27.0  295.0  0\n",
       "4   1  1   1  1  0  1  0   1  ...  1.80  1.0   9.0  0.7  59.0  15.0   22.0  1\n",
       "\n",
       "[5 rows x 50 columns]"
      ]
     },
     "execution_count": 59,
     "metadata": {},
     "output_type": "execute_result"
    }
   ],
   "source": [
    "updated_df = df\n",
    "updated_df = updated_df.replace('?', np.nan) # replace '?' symbols with NaN value\n",
    "\n",
    "# Continuous & Integer Variables: Replace with median of column\n",
    "for i in continuous_feats_idx+integer_feats_idx:\n",
    "  updated_df[i]=pd.to_numeric(updated_df[i]).fillna(pd.to_numeric(updated_df[i]).median())\n",
    "\n",
    "# Nominal & Ordinal Variables: Replace with most common value of column\n",
    "for i in nominal_feats_ids+ordinal_feats_idx:\n",
    "  updated_df[i]=pd.to_numeric(updated_df[i]).fillna(updated_df[i].value_counts().idxmax())\n",
    "\n",
    "updated_df.head()"
   ]
  },
  {
   "cell_type": "markdown",
   "metadata": {
    "id": "knlLt8prB4CV"
   },
   "source": [
    "Ακολούθως, αφού ξεχωρίσουμε το σύνολο δεδομένων σε δύο σύνολα των features και labels αντίστοιχα και τα μετατρέψουμε σε numpy.arrays, προβαίνουμε στον **διαχωρισμό του συνόλου δεδομένων** σε σύνολο εκπαίδευσης (**train set**) και σύνολο (**test set**) με 30% των δειγμάτων στο test set."
   ]
  },
  {
   "cell_type": "code",
   "execution_count": null,
   "metadata": {
    "id": "lCPpGzL7iqoU"
   },
   "outputs": [],
   "source": [
    "labels_df = updated_df.iloc[:, [-1]] # labels of each sample are in the last column\n",
    "features_df = updated_df.iloc[:, 0:-1] # features of each sample are columns 0-48\n",
    "\n",
    "# convert to numpy arrays\n",
    "np_features = features_df.values\n",
    "np_labels = labels_df.values\n",
    "\n",
    "# Train - Test split 70/30\n",
    "X_train, X_test, y_train, y_test = train_test_split(np_features, np_labels, test_size=0.3)\n",
    "\n",
    "# Convert to float\n",
    "X_train = X_train.astype('float')\n",
    "X_test = X_test.astype('float')"
   ]
  },
  {
   "cell_type": "code",
   "execution_count": null,
   "metadata": {
    "colab": {
     "base_uri": "https://localhost:8080/"
    },
    "id": "gfVIEYJuyEFh",
    "outputId": "a9938afa-b79f-452c-87ba-77066b408feb"
   },
   "outputs": [
    {
     "name": "stdout",
     "output_type": "stream",
     "text": [
      "X_train shape:  (115, 49)\n",
      "X_test shape:  (50, 49)\n"
     ]
    }
   ],
   "source": [
    "print('X_train shape: ', X_train.shape)\n",
    "print('X_test shape: ', X_test.shape)"
   ]
  },
  {
   "cell_type": "markdown",
   "metadata": {
    "id": "DvleMnvNybR4"
   },
   "source": [
    "Σημειώνεται ότι για το εν λόγω dataset δεν χρειάζεται κάποια ειδική διαχείριση κατηγορικών ή/και μη διατεταγμένων χαρακτηριστικών."
   ]
  },
  {
   "cell_type": "markdown",
   "metadata": {
    "id": "QU-eKY2xymod"
   },
   "source": [
    "## Ταξινόμηση"
   ]
  },
  {
   "cell_type": "markdown",
   "metadata": {
    "id": "4yk1PpjhypTX"
   },
   "source": [
    "### *Ταξινομητές*\n",
    "Στο UCI θα μελετήσουμε τους ταξινομητές\n",
    "\n",
    "- dummy,\n",
    "- Gaussian Naive Bayes (GNB),\n",
    "- KNeirestNeighbors (kNN), και\n",
    "- Logistic Regression (LR).\n",
    "\n",
    "### *Μετρικές*\n",
    "Η βελτιστοποίηση και η παρουσίαση των αποτελεσμάτων κάθε φορά θα γίνεται ξεχωριστά για δύο μετρικές:\n",
    "\n",
    "- Ορθότητα (accuracy), και\n",
    "- F1-score (όχι macro καθώς δεν είναι multiclass πρόβλημα).\n",
    "\n",
    "### *Σχήμα διασταυρούμενης επικύρωσης*\n",
    "Για όλα τα πειράματα θα χρησιμοποιήσουμε 10-fold cross-validation."
   ]
  },
  {
   "cell_type": "markdown",
   "metadata": {
    "id": "sPt-JR_Y0WXt"
   },
   "source": [
    "### **Επίδοση out-of-the-box**\n",
    "Αρχικά θα δούμε πως συμπεριφέρονται οι ταξινομητές χωρίς καμία βελτιστοποίηση (out-of-the-box) και με όλες τις παραμέτρους σε **default τιμές**. Εκπαιδεύουμε όλους τους εκτιμητές και υπολογίζουμε την επίδοσή τους στο test set για τις δύο μετρικές."
   ]
  },
  {
   "cell_type": "code",
   "execution_count": null,
   "metadata": {
    "id": "pqkQrtNx0Dpo"
   },
   "outputs": [],
   "source": [
    "estimators = [DummyClassifier(), GaussianNB(), KNeighborsClassifier(), LogisticRegression()]\n",
    "\n",
    "accuracies = []\n",
    "f1_scores = []\n",
    "# Evaluate default models\n",
    "for model in estimators:\n",
    "  model.fit(X_train, y_train) # train model\n",
    "  predictions = model.predict(X_test)\n",
    "  acc = model.score(X_test, y_test)\n",
    "  f1 = sklearn.metrics.f1_score(y_test, predictions, average = 'weighted')\n",
    "  accuracies.append(acc)\n",
    "  f1_scores.append(f1)"
   ]
  },
  {
   "cell_type": "code",
   "execution_count": null,
   "metadata": {
    "colab": {
     "base_uri": "https://localhost:8080/"
    },
    "id": "goN2Cebb1-eY",
    "outputId": "4f331d22-aee5-4690-e2f1-519c7ad99793"
   },
   "outputs": [
    {
     "name": "stdout",
     "output_type": "stream",
     "text": [
      "Accuracy per model:  [0.52, 0.6, 0.56, 0.72]\n",
      "F1 metric per model:  [0.5220420420420421, 0.5602941176470587, 0.5163235294117646, 0.7063888888888888]\n"
     ]
    }
   ],
   "source": [
    "# Show results\n",
    "print('Accuracy per model: ', accuracies)\n",
    "print('F1 metric per model: ', f1_scores)"
   ]
  },
  {
   "cell_type": "markdown",
   "metadata": {
    "id": "YVhK3-EUjYqr"
   },
   "source": [
    "Παρατίθεται σε markdown πίνακας με τις επιδόσεις του κάθε ταξινομητή ως προς τις δύο μετρικές και bar plots. \\\\\n",
    " **ΠΡΟΣΟΧΗ**: Οι τιμές που φαίνονται παραπάνω μπορεί να διαφέρουν ελάχιστα με τις τιμές που αναγράφονται στον πίνακα, για διαφορετικές εκτελέσεις του κώδικα, λόγω της στοχαστικής φύσης της μεθόδου cross-validation. "
   ]
  },
  {
   "cell_type": "markdown",
   "metadata": {
    "id": "EVOBG_995O9e"
   },
   "source": [
    "\n",
    "| **Estimator** | **Accuracy (%)** | **F1 Metric (%)** |\n",
    "| :------------------: |:------------------------------------------: | :-----------: |\n",
    "| Dummy Classifier         | 52 | 52.20 |\n",
    "| Naive Bayes Classifier   | 60 | 56.02 |\n",
    "| K-Nearest Neighbors      | 56 | 51.63 |\n",
    "| **Logistic Regression**      | **72** | **70.64** |\n"
   ]
  },
  {
   "cell_type": "code",
   "execution_count": null,
   "metadata": {
    "colab": {
     "base_uri": "https://localhost:8080/",
     "height": 281
    },
    "id": "i4_qkqfQ2E6-",
    "outputId": "3481503a-6894-47a9-e46c-28b2e556a32c"
   },
   "outputs": [
    {
     "data": {
      "image/png": "[encoded data removed]",
      "text/plain": [
       "<Figure size 720x288 with 2 Axes>"
      ]
     },
     "metadata": {
      "needs_background": "light"
     },
     "output_type": "display_data"
    }
   ],
   "source": [
    "# Create Bar Plots for comparison\n",
    "fig, (ax1, ax2) = plt.subplots(1, 2, figsize=(10,4))\n",
    "model_labels = ['Dummy', 'Naive Bayes', 'KNN', 'Log. Regression']\n",
    "ax1.bar(model_labels, accuracies, color ='maroon',\n",
    "        width = 0.6)\n",
    " \n",
    "ax1.set_ylabel(\"Accuracy\")\n",
    "ax1.set_title(\"Accuracy Metric per Model\")\n",
    "\n",
    "ax2.bar(model_labels, f1_scores, color ='blue',\n",
    "        width = 0.6)\n",
    " \n",
    "ax2.set_ylabel(\"F1 Score\")\n",
    "ax2.set_title(\"F1 Metric per Model\")\n",
    "plt.show()"
   ]
  },
  {
   "cell_type": "markdown",
   "metadata": {
    "id": "Ug9hPf8t7y2O"
   },
   "source": [
    "Επομένως, παρατηρούμε ότι και για τις δύο μετρικές αξιολόγησης (accuracy & F1) τα καλύτερα αποτελέσματα δίνονται από τον εκτιμητή **Logistic Regression**, με τον Naive Bayes να έπεται. Η υπεροχή αυτή του LR Classifier έναντι του NB οφείλεται εν μέρει στο γεγονός ότι τα features δεν είναι μεταξύ τους πλήρως ανεξάρτητα, όπως υποθέτει δηλαδή o δεύτερος. Επιπλέον, συμφέρει ότι πρόκειται για Binary Classification Problem. Τέλος, όσον αφορά τον ΚΝΝ Classifier βλέπουμε ότι έχει τις χαμηλότερες επιδόσεις ανάμεσα στους 3 εκτιμητές (εξαιρουμένου προφανώς του Dummy Classifier, που λειτουργεί ως Baseline), ενώ στα μειονεκτήματα του προστίθεται και ο υψηλότερος χρόνος εκτέλεσης του στο inference time."
   ]
  },
  {
   "cell_type": "markdown",
   "metadata": {
    "id": "5NLB2Tuw3dnE"
   },
   "source": [
    "### **Βελτιστοποίηση**"
   ]
  },
  {
   "cell_type": "markdown",
   "metadata": {
    "id": "Z1dAWUao3lqa"
   },
   "source": [
    "Ως επόμενο στάδιο, για κάθε έναν από τους ταξινομητές βελτιστοποιούμε την επίδοσή τους μέσω των διαδικασιών: \n",
    "- προεπεξεργασίας\n",
    "- ορισμού pipelines και\n",
    "- εύρεσης βέλτιστων υπερμαραμέτρων με αναζήτηση πλέγματος με διασταυρούμενη επικύρωση"
   ]
  },
  {
   "cell_type": "markdown",
   "metadata": {
    "id": "p4BmGH2e4IWd"
   },
   "source": [
    "#### Προεπεξεργασία Δεδομένων\n",
    "Στο στάδιο αυτό, ορίζουμε μετασχηματιστές για την προεπεξεργασία των δεδομένων, με στόχο τη βελτιστοποίηση της επίδοσης των εκτιμητών. Ειδικότερα, ορίζουμε τους εξής μετασχηματιστές:\n",
    "- Έναν **Variance Thresholder** για τη μείωση των διαστάσεων εισόδου με επιλογή χαρακτηριστικών.\n",
    "- Έναν **Standard Scaler** για την κανονικοποίηση των δεδομένων εισόδου, ώστε να ακολουθούν κανονική κατανομή Ν(0,1).\n",
    "- Έναν **Random Oversampler** για την εξισορρόπηση του dataset εισόδου.\n",
    "- Έναν μετασχηματιστή **PCA** για την εξαγωγή χαρακτηριστικών των δεδομένων εισόδου με στόχο τη μείωση της διαστατικότητας τους."
   ]
  },
  {
   "cell_type": "code",
   "execution_count": null,
   "metadata": {
    "id": "zQbWC3gR3kmq"
   },
   "outputs": [],
   "source": [
    "# initialize transformers without any hyperparameters\n",
    "selector = VarianceThreshold()\n",
    "scaler = StandardScaler()\n",
    "ros = RandomOverSampler()\n",
    "pca = PCA()"
   ]
  },
  {
   "cell_type": "markdown",
   "metadata": {
    "id": "GRaMBtme7-pb"
   },
   "source": [
    "#### Pipelines\n",
    "Ορίζουμε ένα pipeline για κάθε έναν από τους εκτιμητές."
   ]
  },
  {
   "cell_type": "code",
   "execution_count": null,
   "metadata": {
    "id": "9p54Nr9p8GlQ"
   },
   "outputs": [],
   "source": [
    "# Create Baseline Estimators and Pipelines\n",
    "estimators = [DummyClassifier(), GaussianNB(), KNeighborsClassifier(n_jobs=-1), LogisticRegression(n_jobs=-1)]\n",
    "\n",
    "pipes = [] # :)\n",
    "for i in range(len(estimators)):\n",
    "  pipes.append(Pipeline(steps=[('selector', selector), ('scaler', scaler), ('sampler', ros), ('pca', pca), ('estimator', estimators[i])], memory = 'tmp'))"
   ]
  },
  {
   "cell_type": "markdown",
   "metadata": {
    "id": "dfKMIebRTrH4"
   },
   "source": [
    "**ΣΗΜΕΙΩΣΗ**: Στους ταξινομητές περιλαμβάνουμε χάριν πληρότητας και τον Dummy Classifier, γνωρίζοντας ωστόσο ότι η βελτιστοποίηση του δεν έχει κανένα απολύτως νόημα."
   ]
  },
  {
   "cell_type": "markdown",
   "metadata": {
    "id": "6g3fgRge8KFp"
   },
   "source": [
    "#### Βελτιστοποίηση με GridSearch & Cross-Validation"
   ]
  },
  {
   "cell_type": "markdown",
   "metadata": {
    "id": "ejMnXCti8TTD"
   },
   "source": [
    "Αρχικά, προκειμένου να βρούμε *πιθανές τιμές κατωφλιοποίησης* για τον μετασχηματιση VarianceThreshold(), εξετάζουμε τις διασπορές των 49 features του dataset εισόδου."
   ]
  },
  {
   "cell_type": "code",
   "execution_count": null,
   "metadata": {
    "colab": {
     "base_uri": "https://localhost:8080/"
    },
    "id": "_B3frgjD3euh",
    "outputId": "415d11e8-d64f-4ae6-c95d-39bcdd2c6a51"
   },
   "outputs": [
    {
     "name": "stdout",
     "output_type": "stream",
     "text": [
      "[1.54706994e-01 2.26843100e-01 1.84196597e-01 7.93950851e-02\n",
      " 8.62003781e-03 1.88582231e-01 1.74971645e-01 9.34593573e-02\n",
      " 5.71644612e-02 2.31833648e-01 2.40000000e-01 1.06918715e-01\n",
      " 4.94517958e-02 2.29413989e-01 1.13421550e-01 1.70888469e-02\n",
      " 4.94517958e-02 1.88582231e-01 2.44536862e-01 2.00831758e-01\n",
      " 1.37920605e-01 1.65141777e-01 2.26843100e-01 1.69662306e+02\n",
      " 3.09878836e+03 2.54832507e+03 1.38253308e+00 1.95841210e-01\n",
      " 4.13913043e-01 2.64356199e-01 5.56335778e+08 4.95100643e+00\n",
      " 6.65515357e+01 7.92472652e+06 9.77395544e+09 4.80914405e-01\n",
      " 2.17338488e+01 3.36882541e+03 7.99817890e+03 5.66722645e+04\n",
      " 2.29642999e+04 1.21944368e+02 9.38075418e-01 3.10820416e+00\n",
      " 1.92336413e+01 8.65261425e+00 1.53961356e+03 4.54524908e+02\n",
      " 1.24080937e+05]\n",
      "9773955444.372967\n"
     ]
    }
   ],
   "source": [
    "train_variance = X_train.var(axis=0)\n",
    "print(train_variance)\n",
    "print(np.max(train_variance))"
   ]
  },
  {
   "cell_type": "code",
   "execution_count": null,
   "metadata": {
    "id": "BKrPU_-RuK0q"
   },
   "outputs": [],
   "source": [
    "vthreshold = [0, 0.15, 1, 10, 20] ## Hyperparameters for variance thresholding"
   ]
  },
  {
   "cell_type": "markdown",
   "metadata": {
    "id": "JmlUIp9b-cpW"
   },
   "source": [
    "Ομοίως, ορίζουμε ένα πεδίο τιμών για τις υπερπαραμέτρους για τη τεχνική PCA, λαμβάνοντας υπόψη ότι η διαστατικότητα του προβλήματος είναι $n = 49$."
   ]
  },
  {
   "cell_type": "code",
   "execution_count": null,
   "metadata": {
    "id": "D9h63gN1uMsR"
   },
   "outputs": [],
   "source": [
    "n_components = [10, 20, 30, 40] ## Hyperparameters for Principal Component Analysis"
   ]
  },
  {
   "cell_type": "markdown",
   "metadata": {
    "id": "OIm4g6kK-6oI"
   },
   "source": [
    "Τέλος, καλούμαστε να ρυθμίσουμε ένα πεδίο τιμών για τις υπερπαραμέτρους των διάφορων εκτιμητών"
   ]
  },
  {
   "cell_type": "code",
   "execution_count": null,
   "metadata": {
    "id": "_V1rUl7C1WUy"
   },
   "outputs": [],
   "source": [
    "# Dummy Classifier Hyperparameters\n",
    "strategy = ['stratified', 'most_frequent', 'prior', 'uniform', 'constant'] # is it really necessary for dummy?\n",
    "\n",
    "# Gaussian NB Classifier Hyperparameters\n",
    "var_smoothing = [1e-9, 1e-5, 1e-3, 1]\n",
    "\n",
    "# KNN Classifier Hyperparameters\n",
    "n_neighbors = [1, 3, 5, 7]\n",
    "metric = ['euclidean', 'manhattan', 'minkowski', 'mahalanobis']\n",
    "\n",
    "# Logistic Regression Hyperparameters\n",
    "max_iter = [100, 200, 300]\n",
    "penalty = ['l1', 'l2']\n",
    "solver = ['lbfgs', 'liblinear']"
   ]
  },
  {
   "cell_type": "markdown",
   "metadata": {
    "id": "Zw8Th6kWBpoN"
   },
   "source": [
    "### 1) Βελτιστοποίηση ως προς το **Accuracy**"
   ]
  },
  {
   "cell_type": "markdown",
   "metadata": {
    "id": "JPozaQH6U7bW"
   },
   "source": [
    "Πρώτα, ορίζουμε τις κλάσεις των estimators, ώστε να γίνεται βελτιστοποίηση υπερπαραμέτρων με στόχο τη μεγιστοποίηση του accuracy."
   ]
  },
  {
   "cell_type": "code",
   "execution_count": null,
   "metadata": {
    "id": "nQJ-nqYgBeb_"
   },
   "outputs": [],
   "source": [
    "# Define GridSearch Estimators for each classifier\n",
    "estimator_dummy = GridSearchCV(pipes[0], dict(selector__threshold=vthreshold,\n",
    "                                              pca__n_components=n_components, estimator__strategy=strategy), cv=10, scoring='accuracy', n_jobs=-1)\n",
    "\n",
    "estimator_nb = GridSearchCV(pipes[1], dict(selector__threshold=vthreshold,\n",
    "                                              pca__n_components=n_components, estimator__var_smoothing=var_smoothing), cv=10, scoring='accuracy', n_jobs=-1)\n",
    "\n",
    "estimator_knn = GridSearchCV(pipes[2], dict(selector__threshold=vthreshold,\n",
    "                                            pca__n_components=n_components, estimator__n_neighbors=n_neighbors,\n",
    "                                            estimator__metric=metric), cv=10, scoring='accuracy', n_jobs=-1)\n",
    "\n",
    "estimator_lr = GridSearchCV(pipes[3], dict(selector__threshold=vthreshold,\n",
    "                                           pca__n_components=n_components, estimator__max_iter=max_iter,\n",
    "                                           estimator__penalty=penalty, estimator__solver=solver), cv=10, scoring='accuracy', n_jobs=-1)\n"
   ]
  },
  {
   "cell_type": "markdown",
   "metadata": {
    "id": "Yikl-HTQVFaL"
   },
   "source": [
    "Ακολούθως, κάνουμε fit στο σύνολο εκπαίδευσης τους άνωθι estimators και προσδιορίζουμε τις βέλτιστες υπερπαραμέτρους για κάθε pipelined classifier."
   ]
  },
  {
   "cell_type": "code",
   "execution_count": null,
   "metadata": {
    "colab": {
     "base_uri": "https://localhost:8080/"
    },
    "id": "OVdqFE43DVcY",
    "outputId": "f8c7c55f-615f-4891-afea-dfd0f2c4a99d"
   },
   "outputs": [
    {
     "name": "stdout",
     "output_type": "stream",
     "text": [
      "Pipeline(memory='tmp',\n",
      "         steps=[('selector', VarianceThreshold(threshold=20)),\n",
      "                ('scaler',\n",
      "                 StandardScaler(copy=True, with_mean=True, with_std=True)),\n",
      "                ('sampler',\n",
      "                 RandomOverSampler(random_state=None, ratio=None,\n",
      "                                   return_indices=False,\n",
      "                                   sampling_strategy='auto')),\n",
      "                ('pca',\n",
      "                 PCA(copy=True, iterated_power='auto', n_components=10,\n",
      "                     random_state=None, svd_solver='auto', tol=0.0,\n",
      "                     whiten=False)),\n",
      "                ('estimator',\n",
      "                 DummyClassifier(constant=None, random_state=None,\n",
      "                                 strategy='stratified'))],\n",
      "         verbose=False)\n",
      "{'estimator__strategy': 'stratified', 'pca__n_components': 10, 'selector__threshold': 20}\n"
     ]
    }
   ],
   "source": [
    "# Find Optimal Hyperparameters for Dummy Classifier\n",
    "estimator_dummy.fit(X_train, y_train)\n",
    "best_dummy1 = estimator_dummy.best_estimator_\n",
    "print(estimator_dummy.best_estimator_)\n",
    "print(estimator_dummy.best_params_)"
   ]
  },
  {
   "cell_type": "code",
   "execution_count": null,
   "metadata": {
    "colab": {
     "base_uri": "https://localhost:8080/"
    },
    "id": "FGJztBOjDpfJ",
    "outputId": "15f8c9b1-0119-4bdf-c29d-37adbb972655"
   },
   "outputs": [
    {
     "name": "stdout",
     "output_type": "stream",
     "text": [
      "Pipeline(memory='tmp',\n",
      "         steps=[('selector', VarianceThreshold(threshold=0)),\n",
      "                ('scaler',\n",
      "                 StandardScaler(copy=True, with_mean=True, with_std=True)),\n",
      "                ('sampler',\n",
      "                 RandomOverSampler(random_state=None, ratio=None,\n",
      "                                   return_indices=False,\n",
      "                                   sampling_strategy='auto')),\n",
      "                ('pca',\n",
      "                 PCA(copy=True, iterated_power='auto', n_components=20,\n",
      "                     random_state=None, svd_solver='auto', tol=0.0,\n",
      "                     whiten=False)),\n",
      "                ('estimator', GaussianNB(priors=None, var_smoothing=1))],\n",
      "         verbose=False)\n",
      "{'estimator__var_smoothing': 1, 'pca__n_components': 20, 'selector__threshold': 0}\n"
     ]
    }
   ],
   "source": [
    "# Find Optimal Hyperparameters for Gaussian NB Classifier\n",
    "estimator_nb.fit(X_train, y_train)\n",
    "best_nb1 = estimator_nb.best_estimator_\n",
    "print(estimator_nb.best_estimator_)\n",
    "print(estimator_nb.best_params_)"
   ]
  },
  {
   "cell_type": "code",
   "execution_count": null,
   "metadata": {
    "colab": {
     "base_uri": "https://localhost:8080/"
    },
    "id": "IyngEZGDIzBJ",
    "outputId": "bcc96865-2cb0-48e2-bfaa-7fd90fb1164d"
   },
   "outputs": [
    {
     "name": "stdout",
     "output_type": "stream",
     "text": [
      "Pipeline(memory='tmp',\n",
      "         steps=[('selector', VarianceThreshold(threshold=0.15)),\n",
      "                ('scaler',\n",
      "                 StandardScaler(copy=True, with_mean=True, with_std=True)),\n",
      "                ('sampler',\n",
      "                 RandomOverSampler(random_state=None, ratio=None,\n",
      "                                   return_indices=False,\n",
      "                                   sampling_strategy='auto')),\n",
      "                ('pca',\n",
      "                 PCA(copy=True, iterated_power='auto', n_components=20,\n",
      "                     random_state=None, svd_solver='auto', tol=0.0,\n",
      "                     whiten=False)),\n",
      "                ('estimator',\n",
      "                 KNeighborsClassifier(algorithm='auto', leaf_size=30,\n",
      "                                      metric='manhattan', metric_params=None,\n",
      "                                      n_jobs=-1, n_neighbors=7, p=2,\n",
      "                                      weights='uniform'))],\n",
      "         verbose=False)\n",
      "{'estimator__metric': 'manhattan', 'estimator__n_neighbors': 7, 'pca__n_components': 20, 'selector__threshold': 0.15}\n"
     ]
    }
   ],
   "source": [
    "# Find Optimal Hyperparameters for KNN Classifier\n",
    "estimator_knn.fit(X_train, y_train)\n",
    "best_knn1 = estimator_knn.best_estimator_\n",
    "print(estimator_knn.best_estimator_)\n",
    "print(estimator_knn.best_params_)"
   ]
  },
  {
   "cell_type": "code",
   "execution_count": null,
   "metadata": {
    "colab": {
     "base_uri": "https://localhost:8080/"
    },
    "id": "aDI0oGqYFS99",
    "outputId": "190d6363-7486-4279-fb67-b5bae3fe143f"
   },
   "outputs": [
    {
     "name": "stdout",
     "output_type": "stream",
     "text": [
      "Pipeline(memory='tmp',\n",
      "         steps=[('selector', VarianceThreshold(threshold=1)),\n",
      "                ('scaler',\n",
      "                 StandardScaler(copy=True, with_mean=True, with_std=True)),\n",
      "                ('sampler',\n",
      "                 RandomOverSampler(random_state=None, ratio=None,\n",
      "                                   return_indices=False,\n",
      "                                   sampling_strategy='auto')),\n",
      "                ('pca',\n",
      "                 PCA(copy=True, iterated_power='auto', n_components=10,\n",
      "                     random_state=None, svd_solver='auto', tol=0.0,\n",
      "                     whiten=False)),\n",
      "                ('estimator',\n",
      "                 LogisticRegression(C=1.0, class_weight=None, dual=False,\n",
      "                                    fit_intercept=True, intercept_scaling=1,\n",
      "                                    l1_ratio=None, max_iter=100,\n",
      "                                    multi_class='auto', n_jobs=-1, penalty='l1',\n",
      "                                    random_state=None, solver='liblinear',\n",
      "                                    tol=0.0001, verbose=0, warm_start=False))],\n",
      "         verbose=False)\n",
      "{'estimator__max_iter': 100, 'estimator__penalty': 'l1', 'estimator__solver': 'liblinear', 'pca__n_components': 10, 'selector__threshold': 1}\n"
     ]
    }
   ],
   "source": [
    "# Find Optimal Hyperparameters for LR Classifier\n",
    "estimator_lr.fit(X_train, y_train)\n",
    "best_lr1 = estimator_lr.best_estimator_\n",
    "print(estimator_lr.best_estimator_)\n",
    "print(estimator_lr.best_params_)"
   ]
  },
  {
   "cell_type": "markdown",
   "metadata": {
    "id": "e5zMHNboJ7fg"
   },
   "source": [
    "Στη συνέχεια, για το καλύτερο μοντέλο κάθε ταξινομητή, το εκπαιδεύουμε στο σύνολο του train set και εκτιμούμε την επίδοσή του στο test set. Επιπρόσθετα, για τα βέλτιστα μοντέλα, καταγράφουμε τους χρόνους train και test."
   ]
  },
  {
   "cell_type": "code",
   "execution_count": null,
   "metadata": {
    "id": "8xn5y90gJDvz"
   },
   "outputs": [],
   "source": [
    "def evaluate_best(estimator, X_train, X_test, y_train, y_test, metric='accuracy'):\n",
    "  start_time = time.time()\n",
    "  # fit on train dataset\n",
    "  estimator.fit(X_train, y_train)\n",
    "  train_time = time.time() - start_time\n",
    "\n",
    "  # evauate on test dataset\n",
    "  start_time = time.time()\n",
    "  preds = estimator.predict(X_test)\n",
    "  print(classification_report(y_test, preds))\n",
    "  test_time = time.time() - start_time\n",
    "  performance = classification_report(y_test, preds,output_dict='True')[metric]\n",
    "  \n",
    "  return performance, train_time, test_time"
   ]
  },
  {
   "cell_type": "code",
   "execution_count": null,
   "metadata": {
    "colab": {
     "base_uri": "https://localhost:8080/"
    },
    "id": "a_y-IXp6LFVc",
    "outputId": "9fd46cbb-deba-4c12-d6ff-f146fd1e6b87"
   },
   "outputs": [
    {
     "name": "stdout",
     "output_type": "stream",
     "text": [
      "================ Best Dummy Classifier ================\n",
      "\n",
      "              precision    recall  f1-score   support\n",
      "\n",
      "           0       0.35      0.42      0.38        19\n",
      "           1       0.59      0.52      0.55        31\n",
      "\n",
      "    accuracy                           0.48        50\n",
      "   macro avg       0.47      0.47      0.47        50\n",
      "weighted avg       0.50      0.48      0.49        50\n",
      "\n",
      "Accuracy = 48.0%\n",
      "Train Time = 15.198707580566406 msec\n",
      "Evaluation Time = 3.8614273071289062 msec\n",
      "\n",
      "================ Best Gaussian NB Classifier ================\n",
      "\n",
      "              precision    recall  f1-score   support\n",
      "\n",
      "           0       0.80      0.21      0.33        19\n",
      "           1       0.67      0.97      0.79        31\n",
      "\n",
      "    accuracy                           0.68        50\n",
      "   macro avg       0.73      0.59      0.56        50\n",
      "weighted avg       0.72      0.68      0.62        50\n",
      "\n",
      "Accuracy = 68.0%\n",
      "Train Time = 7.820367813110352 msec\n",
      "Evaluation Time = 3.799915313720703 msec\n",
      "\n",
      "================ Best KNN Classifier ================\n",
      "\n",
      "              precision    recall  f1-score   support\n",
      "\n",
      "           0       0.67      0.42      0.52        19\n",
      "           1       0.71      0.87      0.78        31\n",
      "\n",
      "    accuracy                           0.70        50\n",
      "   macro avg       0.69      0.65      0.65        50\n",
      "weighted avg       0.69      0.70      0.68        50\n",
      "\n",
      "Accuracy = 70.0%\n",
      "Train Time = 10.657787322998047 msec\n",
      "Evaluation Time = 107.3615550994873 msec\n",
      "\n",
      "================ Best LR Classifier ================\n",
      "\n",
      "              precision    recall  f1-score   support\n",
      "\n",
      "           0       0.70      0.74      0.72        19\n",
      "           1       0.83      0.81      0.82        31\n",
      "\n",
      "    accuracy                           0.78        50\n",
      "   macro avg       0.77      0.77      0.77        50\n",
      "weighted avg       0.78      0.78      0.78        50\n",
      "\n",
      "Accuracy = 78.0%\n",
      "Train Time = 9.196043014526367 msec\n",
      "Evaluation Time = 4.153966903686523 msec\n",
      "\n"
     ]
    }
   ],
   "source": [
    "best_estimators = [best_dummy1, best_nb1, best_knn1, best_lr1]\n",
    "labels = ['Best Dummy Classifier', 'Best Gaussian NB Classifier', 'Best KNN Classifier', 'Best LR Classifier']\n",
    "\n",
    "evaluations1 = []\n",
    "for i in range(len(best_estimators)):\n",
    "  print('================ '+labels[i]+' ================\\n')\n",
    "  metrics, train_time, test_time = evaluate_best(best_estimators[i], X_train, X_test, y_train, y_test, 'accuracy')\n",
    "  print('Accuracy = '+str(100*metrics)+'%')\n",
    "  print('Train Time = '+str(1000*train_time)+' msec')\n",
    "  print('Evaluation Time = '+str(1000*test_time)+' msec\\n')\n",
    "  evaluations1.append((metrics, train_time, test_time))"
   ]
  },
  {
   "cell_type": "markdown",
   "metadata": {
    "id": "UOrozqGEWShV"
   },
   "source": [
    "### 1) Βελτιστοποίηση ως προς την **F1 Metric**"
   ]
  },
  {
   "cell_type": "markdown",
   "metadata": {
    "id": "nzfYvCgrWb0r"
   },
   "source": [
    "Επαναλαμβάνουμε την ίδια διαδικασία, αλλά με στόχο την βελτιστοποίηση υπερπαραμέτρων για μεγιστοποίηση της μετρικής F1"
   ]
  },
  {
   "cell_type": "code",
   "execution_count": null,
   "metadata": {
    "id": "NxAS7c0MWlFj"
   },
   "outputs": [],
   "source": [
    "# Define GridSearch Estimators for each classifier\n",
    "estimator_dummy = GridSearchCV(pipes[0], dict(selector__threshold=vthreshold,\n",
    "                                              pca__n_components=n_components, estimator__strategy=strategy), cv=10, scoring='f1', n_jobs=-1)\n",
    "\n",
    "estimator_nb = GridSearchCV(pipes[1], dict(selector__threshold=vthreshold,\n",
    "                                              pca__n_components=n_components, estimator__var_smoothing=var_smoothing), cv=10, scoring='f1', n_jobs=-1)\n",
    "\n",
    "estimator_knn = GridSearchCV(pipes[2], dict(selector__threshold=vthreshold,\n",
    "                                            pca__n_components=n_components, estimator__n_neighbors=n_neighbors,\n",
    "                                            estimator__metric=metric), cv=10, scoring='f1', n_jobs=-1)\n",
    "\n",
    "estimator_lr = GridSearchCV(pipes[3], dict(selector__threshold=vthreshold,\n",
    "                                           pca__n_components=n_components, estimator__max_iter=max_iter,\n",
    "                                           estimator__penalty=penalty, estimator__solver=solver), cv=10, scoring='f1', n_jobs=-1)"
   ]
  },
  {
   "cell_type": "code",
   "execution_count": null,
   "metadata": {
    "colab": {
     "base_uri": "https://localhost:8080/"
    },
    "id": "wo5tcj6BWyLt",
    "outputId": "47f3f62a-ea01-4299-e2da-58f78a6dc477"
   },
   "outputs": [
    {
     "name": "stdout",
     "output_type": "stream",
     "text": [
      "Pipeline(memory='tmp',\n",
      "         steps=[('selector', VarianceThreshold(threshold=1)),\n",
      "                ('scaler',\n",
      "                 StandardScaler(copy=True, with_mean=True, with_std=True)),\n",
      "                ('sampler',\n",
      "                 RandomOverSampler(random_state=None, ratio=None,\n",
      "                                   return_indices=False,\n",
      "                                   sampling_strategy='auto')),\n",
      "                ('pca',\n",
      "                 PCA(copy=True, iterated_power='auto', n_components=10,\n",
      "                     random_state=None, svd_solver='auto', tol=0.0,\n",
      "                     whiten=False)),\n",
      "                ('estimator',\n",
      "                 DummyClassifier(constant=None, random_state=None,\n",
      "                                 strategy='stratified'))],\n",
      "         verbose=False)\n",
      "{'estimator__strategy': 'stratified', 'pca__n_components': 10, 'selector__threshold': 1}\n"
     ]
    }
   ],
   "source": [
    "# Find Optimal Hyperparameters for Dummy Classifier\n",
    "estimator_dummy.fit(X_train, y_train)\n",
    "best_dummy2 = estimator_dummy.best_estimator_\n",
    "print(estimator_dummy.best_estimator_)\n",
    "print(estimator_dummy.best_params_)"
   ]
  },
  {
   "cell_type": "code",
   "execution_count": null,
   "metadata": {
    "colab": {
     "base_uri": "https://localhost:8080/"
    },
    "id": "YzEcnDJZWyf6",
    "outputId": "5f276e3e-9236-4802-ce7c-86de49b23a69"
   },
   "outputs": [
    {
     "name": "stdout",
     "output_type": "stream",
     "text": [
      "Pipeline(memory='tmp',\n",
      "         steps=[('selector', VarianceThreshold(threshold=0)),\n",
      "                ('scaler',\n",
      "                 StandardScaler(copy=True, with_mean=True, with_std=True)),\n",
      "                ('sampler',\n",
      "                 RandomOverSampler(random_state=None, ratio=None,\n",
      "                                   return_indices=False,\n",
      "                                   sampling_strategy='auto')),\n",
      "                ('pca',\n",
      "                 PCA(copy=True, iterated_power='auto', n_components=20,\n",
      "                     random_state=None, svd_solver='auto', tol=0.0,\n",
      "                     whiten=False)),\n",
      "                ('estimator', GaussianNB(priors=None, var_smoothing=1))],\n",
      "         verbose=False)\n",
      "{'estimator__var_smoothing': 1, 'pca__n_components': 20, 'selector__threshold': 0}\n"
     ]
    }
   ],
   "source": [
    "# Find Optimal Hyperparameters for Gaussian NB Classifier\n",
    "estimator_nb.fit(X_train, y_train)\n",
    "best_nb2 = estimator_nb.best_estimator_\n",
    "print(estimator_nb.best_estimator_)\n",
    "print(estimator_nb.best_params_)"
   ]
  },
  {
   "cell_type": "code",
   "execution_count": null,
   "metadata": {
    "colab": {
     "base_uri": "https://localhost:8080/"
    },
    "id": "jKInisYHWymM",
    "outputId": "01cbcdcb-e4b3-4cd4-f5e5-310288c899dc"
   },
   "outputs": [
    {
     "name": "stdout",
     "output_type": "stream",
     "text": [
      "Pipeline(memory='tmp',\n",
      "         steps=[('selector', VarianceThreshold(threshold=0.15)),\n",
      "                ('scaler',\n",
      "                 StandardScaler(copy=True, with_mean=True, with_std=True)),\n",
      "                ('sampler',\n",
      "                 RandomOverSampler(random_state=None, ratio=None,\n",
      "                                   return_indices=False,\n",
      "                                   sampling_strategy='auto')),\n",
      "                ('pca',\n",
      "                 PCA(copy=True, iterated_power='auto', n_components=20,\n",
      "                     random_state=None, svd_solver='auto', tol=0.0,\n",
      "                     whiten=False)),\n",
      "                ('estimator',\n",
      "                 KNeighborsClassifier(algorithm='auto', leaf_size=30,\n",
      "                                      metric='manhattan', metric_params=None,\n",
      "                                      n_jobs=-1, n_neighbors=7, p=2,\n",
      "                                      weights='uniform'))],\n",
      "         verbose=False)\n",
      "{'estimator__metric': 'manhattan', 'estimator__n_neighbors': 7, 'pca__n_components': 20, 'selector__threshold': 0.15}\n"
     ]
    }
   ],
   "source": [
    "# Find Optimal Hyperparameters for KNN Classifier\n",
    "estimator_knn.fit(X_train, y_train)\n",
    "best_knn2 = estimator_knn.best_estimator_\n",
    "print(estimator_knn.best_estimator_)\n",
    "print(estimator_knn.best_params_)"
   ]
  },
  {
   "cell_type": "code",
   "execution_count": null,
   "metadata": {
    "colab": {
     "base_uri": "https://localhost:8080/"
    },
    "id": "Uoqu-A_DWytP",
    "outputId": "6fccfa7b-00f8-491c-f901-238a1e2dfa0f"
   },
   "outputs": [
    {
     "name": "stdout",
     "output_type": "stream",
     "text": [
      "Pipeline(memory='tmp',\n",
      "         steps=[('selector', VarianceThreshold(threshold=1)),\n",
      "                ('scaler',\n",
      "                 StandardScaler(copy=True, with_mean=True, with_std=True)),\n",
      "                ('sampler',\n",
      "                 RandomOverSampler(random_state=None, ratio=None,\n",
      "                                   return_indices=False,\n",
      "                                   sampling_strategy='auto')),\n",
      "                ('pca',\n",
      "                 PCA(copy=True, iterated_power='auto', n_components=10,\n",
      "                     random_state=None, svd_solver='auto', tol=0.0,\n",
      "                     whiten=False)),\n",
      "                ('estimator',\n",
      "                 LogisticRegression(C=1.0, class_weight=None, dual=False,\n",
      "                                    fit_intercept=True, intercept_scaling=1,\n",
      "                                    l1_ratio=None, max_iter=100,\n",
      "                                    multi_class='auto', n_jobs=-1, penalty='l1',\n",
      "                                    random_state=None, solver='liblinear',\n",
      "                                    tol=0.0001, verbose=0, warm_start=False))],\n",
      "         verbose=False)\n",
      "{'estimator__max_iter': 100, 'estimator__penalty': 'l1', 'estimator__solver': 'liblinear', 'pca__n_components': 10, 'selector__threshold': 1}\n"
     ]
    }
   ],
   "source": [
    "# Find Optimal Hyperparameters for LR Classifier\n",
    "estimator_lr.fit(X_train, y_train)\n",
    "best_lr2 = estimator_lr.best_estimator_\n",
    "print(estimator_lr.best_estimator_)\n",
    "print(estimator_lr.best_params_)"
   ]
  },
  {
   "cell_type": "code",
   "execution_count": null,
   "metadata": {
    "colab": {
     "base_uri": "https://localhost:8080/"
    },
    "id": "Z6h-NCVyXBob",
    "outputId": "392711e5-dbe9-497a-d681-11f264189c1d"
   },
   "outputs": [
    {
     "name": "stdout",
     "output_type": "stream",
     "text": [
      "================ Best Dummy Classifier ================\n",
      "\n",
      "              precision    recall  f1-score   support\n",
      "\n",
      "           0       0.35      0.37      0.36        19\n",
      "           1       0.60      0.58      0.59        31\n",
      "\n",
      "    accuracy                           0.50        50\n",
      "   macro avg       0.47      0.47      0.47        50\n",
      "weighted avg       0.50      0.50      0.50        50\n",
      "\n",
      "F1 Metric = 50.23118957545187%\n",
      "Train Time = 12.940168380737305 msec\n",
      "Evaluation Time = 3.3872127532958984 msec\n",
      "\n",
      "================ Best Gaussian NB Classifier ================\n",
      "\n",
      "              precision    recall  f1-score   support\n",
      "\n",
      "           0       0.80      0.21      0.33        19\n",
      "           1       0.67      0.97      0.79        31\n",
      "\n",
      "    accuracy                           0.68        50\n",
      "   macro avg       0.73      0.59      0.56        50\n",
      "weighted avg       0.72      0.68      0.62        50\n",
      "\n",
      "F1 Metric = 61.6140350877193%\n",
      "Train Time = 9.677886962890625 msec\n",
      "Evaluation Time = 3.362417221069336 msec\n",
      "\n",
      "================ Best KNN Classifier ================\n",
      "\n",
      "              precision    recall  f1-score   support\n",
      "\n",
      "           0       0.67      0.42      0.52        19\n",
      "           1       0.71      0.87      0.78        31\n",
      "\n",
      "    accuracy                           0.70        50\n",
      "   macro avg       0.69      0.65      0.65        50\n",
      "weighted avg       0.69      0.70      0.68        50\n",
      "\n",
      "F1 Metric = 68.13464235624124%\n",
      "Train Time = 7.950305938720703 msec\n",
      "Evaluation Time = 107.14602470397949 msec\n",
      "\n",
      "================ Best LR Classifier ================\n",
      "\n",
      "              precision    recall  f1-score   support\n",
      "\n",
      "           0       0.70      0.74      0.72        19\n",
      "           1       0.83      0.81      0.82        31\n",
      "\n",
      "    accuracy                           0.78        50\n",
      "   macro avg       0.77      0.77      0.77        50\n",
      "weighted avg       0.78      0.78      0.78        50\n",
      "\n",
      "F1 Metric = 78.10172341319883%\n",
      "Train Time = 10.987043380737305 msec\n",
      "Evaluation Time = 3.515005111694336 msec\n",
      "\n"
     ]
    }
   ],
   "source": [
    "best_estimators = [best_dummy2, best_nb2, best_knn2, best_lr2]\n",
    "labels = ['Best Dummy Classifier', 'Best Gaussian NB Classifier', 'Best KNN Classifier', 'Best LR Classifier']\n",
    "\n",
    "evaluations2 = []\n",
    "for i in range(len(best_estimators)):\n",
    "  print('================ '+labels[i]+' ================\\n')\n",
    "  metrics, train_time, test_time = evaluate_best(best_estimators[i], X_train, X_test, y_train, y_test, 'weighted avg')\n",
    "  print('F1 Metric = '+str(100*metrics['f1-score'])+'%')\n",
    "  print('Train Time = '+str(1000*train_time)+' msec')\n",
    "  print('Evaluation Time = '+str(1000*test_time)+' msec\\n')\n",
    "  evaluations2.append((metrics, train_time, test_time))"
   ]
  },
  {
   "cell_type": "markdown",
   "metadata": {
    "id": "ScWxL7LjVmPj"
   },
   "source": [
    "## Αποτελέσματα και Συμπεράσματα"
   ]
  },
  {
   "cell_type": "markdown",
   "metadata": {
    "id": "_KSPzxM4V59K"
   },
   "source": [
    "Παρακάτω φαίνονται πίνακες αποτίμησης των μοντέλων ως προς τις δύο μετρικές, οι οποίοι περιλαμβάνουν επιπλέον την μεταβολή των μετρικών σε σχέση με την out-of-the-box υλοποίηση καθώς και τους δύο χρόνους εκπαίδευσης και αξιολόγησης των εκτιμητών."
   ]
  },
  {
   "cell_type": "markdown",
   "metadata": {
    "id": "qQ5c4bBIV6Dp"
   },
   "source": [
    "|Accuracy per Model Table|\n",
    "|:--:|\n",
    "\n",
    "| **Estimator** | **Accuracy (%)** | **Change from out-of-the-box (%)** |**Train Time (msec)**|**Test Time (msec)**|\n",
    "| :------------------: |:------------------------------------------: | :-----------: | :-----------: | :-----------: |\n",
    "| Dummy Classifier         | 48 | -7.69 | 15.2 | 3.86\n",
    "| Naive Bayes Classifier   | 68 | +13.33 | 7.82 | 3.8\n",
    "| K-Nearest Neighbors      | 70 | **+25** | 10.66 | **107.36**\n",
    "| Logistic Regression      | **78** | +8.33 | 9.19 | 4.15"
   ]
  },
  {
   "cell_type": "markdown",
   "metadata": {
    "id": "tzVN2JJC8cUK"
   },
   "source": [
    "Παρατηρώντας τον άνωθι πίνακα, προβαίνουμες στις εξής παρατηρήσεις:\n",
    "- Ο μοναδικός ταξινομητής που έχει τη **αρνητική μεταβολή** σε σχέση με την out-of-the-box είναι ο **dummy classifier**. Το γεγονός αυτό, ωστόσο, δεν μας προβληματίζει, καθώς πρόκειται για έναν baseline ταξινομητή που στηρίζεται πλήρως στην τυχαίοτητα ως προς την κατηγοριοποίηση δειγμάτων. Η βελτιστοποίηση των υπερπαραμέτρων του, λοιπόν, δεν έχει κάποια ουσιαστική υπόσταση.\n",
    "- Ο ταξινομητής που παρουσιάζει τη **μεγαλύτερη βελτίωση** σε σχέση με την out-of-the-box υλοποίηση του είναι ο **KNN** (+25%), η οποία πιθανώς οφείλεται στο γεγονός ότι η βέλτιστες υπερπαράμετροι του ταξινομητή (n_neighbors και metric) που εν τέλει επιλέγονται δεν είναι πουθενά οι default (επιλέγονται 7 γείτονες έναντι του default = 5, και μετιρκή manhattan έναντι της default minkowski).\n",
    "- Εν τέλει, τις **υψηλότερες επιδόσεις** δίνει πάλι ο **Logistic Regression** Classifier, επιτυγχάνοντας accuracy σχεδόν 80%.\n",
    "- Παρατηρούμε ότι ο ΚΝΝ ταξινομητής έχει τους **μεγαλύτερους χρόνους εκτέλεσης** για το evaluation του test set. Το γεγονός αυτό είναι αναμενόμενο, αφού για να αποφασίσει ο ταξινομητής σε ποια κατηγορία ανήκει ένα νέο δείγμα πρέπει να υπολογίσει τις αποστάσεις του από όλα τα υπόλοιπα δείγματα του dataset. Λόγω αυτού, αν και έχει ελαφρώς μικρότερο accuracy ο ΝΒ φαντάζει καλύτερη επιλογή ταξινομητή από τον ΚΝΝ."
   ]
  },
  {
   "cell_type": "markdown",
   "metadata": {
    "id": "OUQOqw8SV6HW"
   },
   "source": [
    "|F1 per Model Table|\n",
    "|:--:|\n",
    "\n",
    "| **Estimator** | **F1 (%)** | **Change from out-of-the-box (%)** |**Train Time (msec)**|**Test Time (msec)**|\n",
    "| :------------------: |:------------------------------------------: | :-----------: | :-----------: | :-----------: |\n",
    "| Dummy Classifier         | 50 | -4.21 | 12.94 | 3.39\n",
    "| Naive Bayes Classifier   | 61.6 | +2.66 | 9.68 | 3.36\n",
    "| K-Nearest Neighbors      | 68.13 | **+21.6** | 7.95 |**107.15**\n",
    "| Logistic Regression      | **78.1** | +10.56 | 10.99 | 3.51"
   ]
  },
  {
   "cell_type": "markdown",
   "metadata": {
    "id": "NUYT8DtZIIWo"
   },
   "source": [
    "Παρατηρώντας τον άνωθι πίνακα, προβαίνουμες σε ανάλογες με πριν παρατηρήσεις. Ενδεικτικά:\n",
    "- Ο **dummy classifier** έχει πάλι **αρνητική μεταβολή** σε σχέση με την out-of-the-box, κάτι που δεν μας απασχολεί, για τους λόγους που αναφέρθηκαν παραπάνω.\n",
    "- Όπως και για τη μετρική accuracy, τις **υψηλότερες επιδόσεις** δίνει πάλι ο **Logistic Regression** Classifier, επιτυγχάνοντας F1 σχεδόν 80%.\n",
    "- Παρατηρούμε ότι ο ΚΝΝ ταξινομητής έχει πάλι τους **μεγαλύτερους χρόνους εκτέλεσης** για το evaluation του test set.\n"
   ]
  },
  {
   "cell_type": "markdown",
   "metadata": {
    "id": "O8PMjhBfqPPC"
   },
   "source": [
    "Επιπλέον, οπτικοποιούμε τα αποτελέσματα για τις δύο μετρικές με χρήση bar plots:"
   ]
  },
  {
   "cell_type": "code",
   "execution_count": null,
   "metadata": {
    "id": "JyInPVWKL6yQ"
   },
   "outputs": [],
   "source": [
    "def plot_comparison(best_metrics, outofthebox_metrics, title):\n",
    "  fig = plt.figure(figsize=(8,5))\n",
    "\n",
    "  indices = np.arange(len(model_labels))\n",
    "\n",
    "  width = 0.2\n",
    "\n",
    "  # Plot metrics after hyperparameter optimization\n",
    "  \n",
    "  plt.bar(indices, outofthebox_metrics, color ='maroon',\n",
    "          width = width, label = 'Out-of-the-box')\n",
    "\n",
    "  # Plot metrics of out-of-the-box for comparison\n",
    "  plt.bar(indices + width, best_metrics, color ='blue', width=width, label = 'Hyperparameter Optimization')\n",
    "\n",
    "  plt.xticks(ticks=indices, labels=model_labels)\n",
    "  plt.xlabel(\"Estimator\")\n",
    "  plt.ylabel(\"Accuracy\")\n",
    "  plt.title(title)\n",
    "  plt.legend()\n",
    "\n",
    "  plt.show()"
   ]
  },
  {
   "cell_type": "code",
   "execution_count": null,
   "metadata": {
    "colab": {
     "base_uri": "https://localhost:8080/",
     "height": 350
    },
    "id": "JHqgtwXvnIcI",
    "outputId": "263e7a77-535b-4855-b8d1-564e77e52566"
   },
   "outputs": [
    {
     "data": {
      "image/png": "[encoded data removed]",
      "text/plain": [
       "<Figure size 576x360 with 1 Axes>"
      ]
     },
     "metadata": {
      "needs_background": "light"
     },
     "output_type": "display_data"
    }
   ],
   "source": [
    "# Get metrics from tuple (metric, train_time, test_time)\n",
    "optimal_accs = [i[0] for i in evaluations1]\n",
    "plot_comparison(optimal_accs, accuracies, title='Accuracy Comparison per Estimator')"
   ]
  },
  {
   "cell_type": "code",
   "execution_count": null,
   "metadata": {
    "colab": {
     "base_uri": "https://localhost:8080/",
     "height": 350
    },
    "id": "hjiXxoE8n_kR",
    "outputId": "6c7ce74b-621a-4f6c-cf3e-7f76d437124a"
   },
   "outputs": [
    {
     "data": {
      "image/png": "[encoded data removed]",
      "text/plain": [
       "<Figure size 576x360 with 1 Axes>"
      ]
     },
     "metadata": {
      "needs_background": "light"
     },
     "output_type": "display_data"
    }
   ],
   "source": [
    "optimal_f1s = [i[0]['f1-score'] for i in evaluations2]\n",
    "plot_comparison(optimal_f1s, f1_scores, title='F1 Comparison per Estimator')"
   ]
  },
  {
   "cell_type": "markdown",
   "metadata": {
    "id": "kb-51098Ozre"
   },
   "source": [
    "Τέλος, για τον καλύτερο και τον χειρότερο ταξινομητή (εξαιρουμένων των dummy) ως προς την ορθότητα εκτυπώνουμε τους πίνακες σύγχυσης (**confusion matrices**) με γραφικό τρόπο:"
   ]
  },
  {
   "cell_type": "code",
   "execution_count": null,
   "metadata": {
    "id": "z4xPnQkOoAFu"
   },
   "outputs": [],
   "source": [
    "def show_confusion_matrix(estimator, X_test, y_test, title):\n",
    "  y_pred = estimator.predict(X_test)\n",
    "  #Get the confusion matrix\n",
    "  cf_matrix = confusion_matrix(y_test, y_pred)\n",
    "  group_names = ['True Neg','False Pos','False Neg','True Pos']\n",
    "  group_counts = [\"{0:0.0f}\".format(value) for value in\n",
    "                  cf_matrix.flatten()]\n",
    "  group_percentages = [\"{0:.2%}\".format(value) for value in\n",
    "                      cf_matrix.flatten()/np.sum(cf_matrix)]\n",
    "  labels = [f\"{v1}\\n{v2}\\n{v3}\" for v1, v2, v3 in\n",
    "            zip(group_names,group_counts,group_percentages)]\n",
    "  labels = np.asarray(labels).reshape(2,2)\n",
    "  sns.heatmap(cf_matrix, annot=labels, fmt='', cmap='Blues')\n",
    "  plt.title(title)\n",
    "  plt.show()"
   ]
  },
  {
   "cell_type": "code",
   "execution_count": null,
   "metadata": {
    "colab": {
     "base_uri": "https://localhost:8080/",
     "height": 281
    },
    "id": "xLeCDeQhscKM",
    "outputId": "8dc5941d-12c2-4014-c6cc-13c2582d1450"
   },
   "outputs": [
    {
     "data": {
      "image/png": "[encoded data removed]",
      "text/plain": [
       "<Figure size 432x288 with 2 Axes>"
      ]
     },
     "metadata": {
      "needs_background": "light"
     },
     "output_type": "display_data"
    }
   ],
   "source": [
    "show_confusion_matrix(best_lr1, X_test, y_test, 'Confusion Matrix of Best Model: LR')"
   ]
  },
  {
   "cell_type": "code",
   "execution_count": null,
   "metadata": {
    "colab": {
     "base_uri": "https://localhost:8080/",
     "height": 281
    },
    "id": "xnoT41vbtc1P",
    "outputId": "8810e5a8-0f9c-4e2c-a5a8-f1c3ea37f924"
   },
   "outputs": [
    {
     "data": {
      "image/png": "[encoded data removed]",
      "text/plain": [
       "<Figure size 432x288 with 2 Axes>"
      ]
     },
     "metadata": {
      "needs_background": "light"
     },
     "output_type": "display_data"
    }
   ],
   "source": [
    "show_confusion_matrix(best_nb1, X_test, y_test, 'Confusion Matrix of Worst Model: NB')"
   ]
  },
  {
   "cell_type": "markdown",
   "metadata": {
    "id": "iNy37zDQPBhR"
   },
   "source": [
    "Παρατηρούμε ότι το χειρότερο μοντέλο, δηλαδή o Naive Bayes, έχει πολύ **περισσότερα False Positives (15) από False Negatives (1)**. Κάτι τέτοιο, σημαίνει ότι κατηγοριοποιεί πολλούς ασθενείς που κινδυνεύουν να πεθάνουν (label 0) ως ασθενείς που θα ζήσουν (label 1), κάτι το οποίο είναι απαγορευτικό! Αντιθέτως, το καλύτερο μοντέλο, δηλαδή ο LR Classifier, έχει ισορροπημένο αριθμό από false positives και false negatives."
   ]
  },
  {
   "cell_type": "markdown",
   "metadata": {
    "id": "sqVXQrnVL89X"
   },
   "source": [
    "Τελικώς, στο εν λόγω πρόβλημα κατηγοριοποίησης θα χρησιμοποιούσαμε έναν **Logistic Regression Classifier**, καθώς όχι μόνο δίνει τα καλύτερα αποτελέσματα και στις δύο μετρικές (accuracy & F1), αλλά επίσης έχει σχετικά μικρούς χρόνους εκτέλεσης τόσο για train όσο και για inference. Επιπλέον, δεν δίνει περισσότερα false positives, τα οποία θέλουμε να αποφύγουμε για ιατρικούς λόγους. Όπως αναφέρθηκε παραπάνω, η υπεροχή του LR οφείλεται κυρίως στο γεγονός ότι πρόκειται για ένα **Binary Classification Problem**, ενώ τα features των δειγμάτων δεν είναι πλήρως ανεξάρτητα μεταξύ τους, ώστε να προτιμηθεί ο NB."
   ]
  }
 ],
 "metadata": {
  "colab": {
   "collapsed_sections": [],
   "name": "nn_lab1.ipynb",
   "provenance": []
  },
  "kernelspec": {
   "display_name": "Python 3 (ipykernel)",
   "language": "python",
   "name": "python3"
  },
  "language_info": {
   "codemirror_mode": {
    "name": "ipython",
    "version": 3
   },
   "file_extension": ".py",
   "mimetype": "text/x-python",
   "name": "python",
   "nbconvert_exporter": "python",
   "pygments_lexer": "ipython3",
   "version": "3.8.3"
  }
 },
 "nbformat": 4,
 "nbformat_minor": 1
}
