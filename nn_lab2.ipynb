{
 "cells": [
  {
   "cell_type": "markdown",
   "metadata": {},
   "source": [
    "# Neural Networks & Intelligent Computer Systems\n",
    "## **Exercise 2**. Unsupervised Learning: Recommendation System\n",
    "\n",
    "---\n",
    "Christos Dimopoulos - 03117037 <br />\n",
    "Dimitris Dimos - 03117165 <br />\n",
    "Team No. 01\n",
    "---"
   ]
  },
  {
   "cell_type": "markdown",
   "metadata": {
    "id": "hLFXD3IePSyL"
   },
   "source": [
    "# Εργαστηριακή Άσκηση 2. Μη επιβλεπόμενη μάθηση. \n",
    "## Σύστημα συστάσεων βασισμένο στο περιεχόμενο\n",
    "## Σημασιολογική απεικόνιση δεδομένων με χρήση SOM \n",
    "Ημερομηνία εκφώνησης της άσκησης: 23 Νοεμβρίου 2021\n",
    "\n",
    "**Θα βρείτε το παρόν σε μορφή jupyter notebook ως συνημμένο στο τέλος της εκφώνησης.**\n"
   ]
  },
  {
   "cell_type": "code",
   "execution_count": null,
   "metadata": {
    "id": "S5wbBzIYnird"
   },
   "outputs": [],
   "source": [
    "!pip install --upgrade pip\n",
    "!pip install --upgrade numpy\n",
    "!pip install --upgrade pandas\n",
    "!pip install --upgrade nltk\n",
    "!pip install --upgrade scikit-learn\n",
    "!pip install --upgrade joblib"
   ]
  },
  {
   "cell_type": "code",
   "execution_count": 3,
   "metadata": {},
   "outputs": [],
   "source": [
    "# Collect all Imports\n",
    "import pandas as pd\n",
    "import numpy as np\n",
    "import re\n",
    "import contractions\n",
    "from nltk.stem import WordNetLemmatizer\n",
    "import nltk\n",
    "from nltk.corpus import stopwords\n",
    "from nltk.tokenize import word_tokenize\n",
    "import urllib\n",
    "from sklearn.feature_extraction.text import TfidfVectorizer\n",
    "import scipy\n",
    "import gensim.downloader as api\n",
    "from scipy.sparse import csr_matrix\n",
    "import joblib\n",
    "import somoclu\n",
    "import matplotlib\n",
    "from sklearn.cluster import KMeans\n",
    "from nltk.stem import WordNetLemmatizer\n"
   ]
  },
  {
   "cell_type": "code",
   "execution_count": 26,
   "metadata": {},
   "outputs": [],
   "source": [
    "corpus_tf_idf_plain = joblib.load('corpus_tf_idf_plain.pkl')\n",
    "corpus_tf_idf_optimal = joblib.load('corpus_tf_idf_optimal.pkl') \n",
    "tfw2v_corpus = joblib.load('tfw2v_corpus.pkl')"
   ]
  },
  {
   "cell_type": "markdown",
   "metadata": {
    "id": "aViHqlQcPSyP"
   },
   "source": [
    "## Εισαγωγή του Dataset"
   ]
  },
  {
   "cell_type": "markdown",
   "metadata": {
    "id": "2ZVmdDExPSyQ"
   },
   "source": [
    "Το σύνολο δεδομένων με το οποίο θα δουλέψουμε είναι βασισμένο στο [Carnegie Mellon Movie Summary Corpus](http://www.cs.cmu.edu/~ark/personas/). Πρόκειται για ένα dataset με 22.301 περιγραφές ταινιών. Η περιγραφή κάθε ταινίας αποτελείται από τον τίτλο της, μια ή περισσότερες ετικέτες που χαρακτηρίζουν το είδος της ταινίας και τέλος τη σύνοψη της υπόθεσής της. Αρχικά εισάγουμε το dataset (χρησιμοποιήστε αυτούσιο τον κώδικα, δεν χρειάζεστε το αρχείο csv) στο dataframe `df_data_1`: "
   ]
  },
  {
   "cell_type": "code",
   "execution_count": 4,
   "metadata": {
    "id": "62SOj46gPSyS"
   },
   "outputs": [],
   "source": [
    "import pandas as pd\n",
    "\n",
    "dataset_url = \"https://drive.google.com/uc?export=download&id=1-tN5rC1QCgwqL67cvIXdMbtd-Xf9Xqow\"\n",
    "df_data_1 = pd.read_csv(dataset_url, sep='\\t',  header=None, quoting=3)"
   ]
  },
  {
   "cell_type": "markdown",
   "metadata": {
    "id": "7TAEZGdIPSyW"
   },
   "source": [
    "Κάθε ομάδα θα δουλέψει σε **ένα μοναδικό υποσύνολο 5.000 ταινιών** (διαφορετικό dataset για κάθε ομάδα) ως εξής:\n",
    "\n",
    "1. Κάθε ομάδα του εργαστηρίου νευρωνικών έχει έναν αριθμό στο helios. Θα βάλετε τον αριθμό αυτό στη μεταβλητή team_seed_number στο επόμενο κελί κώδικα.\n",
    "\n",
    "2. Το data frame `df_data_2` έχει γραμμές όσες και οι ομάδες και 5.000 στήλες. Σε κάθε ομάδα αντιστοιχεί η γραμμή του πίνακα με το `team_seed_number` της. Η γραμμή αυτή θα περιλαμβάνει 5.000 διαφορετικούς αριθμούς που αντιστοιχούν σε ταινίες του αρχικού dataset. \n",
    "\n",
    "3. Τρέξτε τον κώδικα. Θα προκύψουν τα μοναδικά για κάθε ομάδα  titles, categories, catbins, summaries και corpus με τα οποία θα δουλέψετε."
   ]
  },
  {
   "cell_type": "code",
   "execution_count": 5,
   "metadata": {
    "id": "2POlqDjkPSyY"
   },
   "outputs": [],
   "source": [
    "import numpy as np\n",
    "\n",
    "# Στο επόμενη γραμή βάλτε τον αριθμό της ομάδας στο εργαστήριο των νευρωνικών\n",
    "team_seed_number = 1\n",
    "\n",
    "movie_seeds_url = \"https://drive.google.com/uc?export=download&id=1-oeMf7BFmiH70XObgC9WOTo-a9cDJZwP\"\n",
    "df_data_2 = pd.read_csv(movie_seeds_url, header=None)\n",
    "\n",
    "# επιλέγεται \n",
    "my_index = df_data_2.iloc[team_seed_number,:].values\n",
    "\n",
    "titles = df_data_1.iloc[:, [2]].values[my_index] # movie titles (string)\n",
    "categories = df_data_1.iloc[:, [3]].values[my_index] # movie categories (string)\n",
    "bins = df_data_1.iloc[:, [4]]\n",
    "catbins = bins[4].str.split(',', expand=True).values.astype(float)[my_index] # movie categories in binary form (1 feature per category)\n",
    "summaries =  df_data_1.iloc[:, [5]].values[my_index] # movie summaries (string)\n",
    "corpus = summaries[:,0].tolist() # list form of summaries\n",
    "corpus_df = pd.DataFrame(corpus) # dataframe version of corpus"
   ]
  },
  {
   "cell_type": "markdown",
   "metadata": {
    "id": "If66lkwxPSyb"
   },
   "source": [
    "- Ο πίνακας **titles** περιέχει τους τίτλους των ταινιών. Παράδειγμα: 'Sid and Nancy'.\n",
    "- O πίνακας **categories** περιέχει τις κατηγορίες (είδη) της ταινίας υπό τη μορφή string. Παράδειγμα: '\"Tragedy\",  \"Indie\",  \"Punk rock\",  \"Addiction Drama\",  \"Cult\",  \"Musical\",  \"Drama\",  \"Biopic \\[feature\\]\",  \"Romantic drama\",  \"Romance Film\",  \"Biographical film\"'. Παρατηρούμε ότι είναι μια comma separated λίστα strings, με κάθε string να είναι μια κατηγορία.\n",
    "- Ο πίνακας **catbins** περιλαμβάνει πάλι τις κατηγορίες των ταινιών αλλά σε δυαδική μορφή ([one hot encoding](https://hackernoon.com/what-is-one-hot-encoding-why-and-when-do-you-have-to-use-it-e3c6186d008f)). Έχει διαστάσεις 5.000 x 322 (όσες οι διαφορετικές κατηγορίες). Αν η ταινία ανήκει στο συγκεκριμένο είδος η αντίστοιχη στήλη παίρνει την τιμή 1, αλλιώς παίρνει την τιμή 0.\n",
    "- Ο πίνακας **summaries** και η λίστα **corpus** περιλαμβάνουν τις συνόψεις των ταινιών (η corpus είναι απλά ο summaries σε μορφή λίστας). Κάθε σύνοψη είναι ένα (συνήθως μεγάλο) string. Παράδειγμα: *'The film is based on the real story of a Soviet Internal Troops soldier who killed his entire unit  as a result of Dedovschina. The plot unfolds mostly on board of the prisoner transport rail car guarded by a unit of paramilitary conscripts.'*\n",
    "- το dataframe corpus_df που είναι απλά το corpus σε μορφή dataframe. Τα summaries βρίσκονται στην κολόνα 0. Πιθανώς να σας βολεύει να κάνετε κάποιες προεπεξεργασίες με dataframes.\n",
    "\n",
    "\n",
    "Θεωρούμε ως **ID** της κάθε ταινίας τον αριθμό γραμμής της ή το αντίστοιχο στοιχείο της λίστας. Παράδειγμα: για να τυπώσουμε τη σύνοψη της ταινίας με `ID=999` (την χιλιοστή) θα γράψουμε `print(corpus[999])`."
   ]
  },
  {
   "cell_type": "code",
   "execution_count": 168,
   "metadata": {
    "id": "k_7A3KXLp0qS"
   },
   "outputs": [
    {
     "name": "stdout",
     "output_type": "stream",
     "text": [
      "['Sons of the Sea']\n",
      "['\"War film\"']\n",
      "[0. 0. 0. 0. 0. 0. 0. 0. 0. 0. 0. 0. 0. 0. 0. 0. 0. 0. 0. 0. 0. 0. 0. 0.\n",
      " 0. 0. 0. 0. 0. 0. 0. 0. 0. 0. 0. 0. 0. 0. 0. 0. 0. 0. 0. 0. 0. 0. 0. 0.\n",
      " 0. 0. 0. 0. 0. 0. 0. 0. 0. 0. 0. 0. 0. 0. 0. 0. 0. 0. 0. 0. 0. 0. 0. 0.\n",
      " 0. 0. 0. 0. 0. 0. 0. 0. 0. 0. 0. 0. 0. 0. 0. 0. 0. 0. 0. 0. 0. 0. 0. 0.\n",
      " 0. 0. 0. 0. 0. 0. 0. 0. 0. 0. 0. 0. 0. 0. 0. 0. 0. 0. 0. 0. 0. 0. 0. 0.\n",
      " 0. 0. 0. 0. 0. 0. 0. 0. 0. 0. 0. 0. 0. 0. 0. 0. 0. 0. 0. 0. 0. 0. 0. 0.\n",
      " 0. 0. 0. 0. 0. 0. 0. 0. 0. 0. 0. 0. 0. 0. 0. 0. 0. 0. 0. 0. 0. 0. 0. 0.\n",
      " 0. 0. 0. 0. 0. 0. 0. 0. 0. 0. 0. 0. 0. 0. 0. 0. 0. 0. 0. 0. 0. 0. 0. 0.\n",
      " 0. 0. 0. 0. 0. 0. 0. 0. 0. 0. 0. 0. 0. 0. 0. 0. 0. 0. 0. 0. 0. 0. 0. 0.\n",
      " 0. 0. 0. 0. 0. 0. 0. 0. 0. 0. 0. 0. 0. 0. 0. 0. 0. 0. 0. 0. 0. 0. 0. 0.\n",
      " 0. 0. 0. 0. 0. 0. 0. 0. 0. 0. 0. 0. 0. 0. 0. 0. 0. 0. 0. 0. 0. 0. 0. 0.\n",
      " 0. 0. 0. 0. 0. 0. 0. 0. 0. 0. 0. 0. 0. 0. 0. 0. 0. 0. 0. 0. 0. 0. 0. 0.\n",
      " 0. 0. 0. 0. 0. 0. 0. 0. 0. 0. 0. 0. 0. 0. 0. 0. 0. 0. 0. 0. 0. 0. 0. 0.\n",
      " 1. 0. 0. 0. 0. 0. 0. 0. 0. 0.]\n",
      "England, 1939. The head of Dartmouth Naval College is murdered. His successor, Captain Hyde, believes that he was in fact the intended target of the assassination. He soon begins to realise that both British and foreign intelligence agents are at work. He enlists the help of his son, a reluctant sea cadet, to smoke them out.\n"
     ]
    }
   ],
   "source": [
    "ID = 999\n",
    "print(titles[ID])\n",
    "print(categories[ID])\n",
    "print(catbins[ID])\n",
    "print(corpus[ID])"
   ]
  },
  {
   "cell_type": "markdown",
   "metadata": {
    "id": "UTNgwBfjPSyc"
   },
   "source": [
    "# Εφαρμογή 1. Υλοποίηση συστήματος συστάσεων ταινιών βασισμένο στο περιεχόμενο\n",
    "<img src=\"http://clture.org/wp-content/uploads/2015/12/Netflix-Streaming-End-of-Year-Posts.jpg\" width=\"70%\">"
   ]
  },
  {
   "cell_type": "markdown",
   "metadata": {
    "id": "rnA2RP8GPSyf"
   },
   "source": [
    "Η πρώτη εφαρμογή που θα αναπτύξετε θα είναι ένα [σύστημα συστάσεων](https://en.wikipedia.org/wiki/Recommender_system) ταινιών βασισμένο στο περιεχόμενο (content based recommender system). Τα συστήματα συστάσεων στοχεύουν στο να προτείνουν αυτόματα στο χρήστη αντικείμενα από μια συλλογή τα οποία ιδανικά θέλουμε να βρει ενδιαφέροντα ο χρήστης. Η κατηγοριοποίηση των συστημάτων συστάσεων βασίζεται στο πώς γίνεται η επιλογή (filtering) των συστηνόμενων αντικειμένων. Οι δύο κύριες κατηγορίες είναι η συνεργατική διήθηση (collaborative filtering) όπου το σύστημα προτείνει στο χρήστη αντικείμενα που έχουν αξιολογηθεί θετικά από χρήστες που έχουν παρόμοιο με αυτόν ιστορικό αξιολογήσεων και η διήθηση με βάση το περιεχόμενο (content based filtering), όπου προτείνονται στο χρήστη αντικείμενα με παρόμοιο περιεχόμενο (με βάση κάποια χαρακτηριστικά) με αυτά που έχει προηγουμένως αξιολογήσει θετικά.\n",
    "\n",
    "Το σύστημα συστάσεων που θα αναπτύξετε θα βασίζεται στο **περιεχόμενο** και συγκεκριμένα στις συνόψεις των ταινιών (corpus). \n"
   ]
  },
  {
   "cell_type": "markdown",
   "metadata": {
    "id": "l3nZv-xueEtd"
   },
   "source": [
    "## Προεπεξεργασία\n",
    "\n",
    "Το πρώτο βήμα στην επεξεργασία μας είναι ο καθαρισμός των περιγραφών των ταινιών. \n",
    "\n",
    "Εκτυπώστε (αρκετές) διαφορετικές περιγραφές ταινιών για να δείτε πιθανά προβλήματα που θα πρέπει να αντιμετωπιστούν.\n",
    "\n",
    "Τα (ελάχιστα) βήματα καθαρισμού που προτείνουμε είναι:\n",
    "- μετατροπή όλων των χαρακτήρων σε πεζά,\n",
    "- αφαίρεση των stopwords. Εδώ σημειώστε ότι για το δεδομένο task του συστήματος συστάσεων που είναι η πρόταση ταινιών ίσως θα είχαν ενδιαφέρον και λίστες stopwords πέραν αυτών της κοινής γλώσσας.\n",
    "- αφαίρεση σημείων στίξης και ειδικών χαρακτρήρων (special characters). Αυτό δεν γίνεται μόνο με την punkt του NLTK. Θα μπορούσατε να βασιστείτε σε κανονικές εκφράσεις (regular expressions), και\n",
    "- αφαίρεση πολυ σύντομων συμβολοσειρών.\n",
    "\n",
    "Προσοχή: το corpus και τα τελικά tokens που θα το αποτελούν θα χρησιμοποιηθούν στη συνέχεια ως κλειδιά για να βρούμε εμφυτεύματα. Για το λόγο αυτό, πρέπει να είστε προσεκτικοί ως προς την εφαρμογή μεθόδων κανονικοποίησης (text normalization) όπως το stemming και το lemmatization."
   ]
  },
  {
   "cell_type": "code",
   "execution_count": 12,
   "metadata": {},
   "outputs": [
    {
     "name": "stderr",
     "output_type": "stream",
     "text": [
      "[nltk_data] Downloading package stopwords to\n",
      "[nltk_data]     /home/chrisdim/nltk_data...\n",
      "[nltk_data]   Package stopwords is already up-to-date!\n",
      "[nltk_data] Downloading package punkt to /home/chrisdim/nltk_data...\n",
      "[nltk_data]   Package punkt is already up-to-date!\n",
      "[nltk_data] Downloading package wordnet to /home/chrisdim/nltk_data...\n",
      "[nltk_data]   Unzipping corpora/wordnet.zip.\n"
     ]
    }
   ],
   "source": [
    "# Import Libraries\n",
    "import re\n",
    "import contractions\n",
    "from nltk.stem import WordNetLemmatizer\n",
    "import nltk\n",
    "nltk.download('stopwords')\n",
    "nltk.download('punkt')\n",
    "nltk.download('wordnet')\n",
    "from nltk.corpus import stopwords\n",
    "from nltk.tokenize import word_tokenize\n",
    "\n",
    "import urllib\n",
    "# Special Reference to: https://towardsdatascience.com/build-a-text-recommendation-system-with-python-e8b95d9f251c"
   ]
  },
  {
   "cell_type": "markdown",
   "metadata": {},
   "source": [
    "Σε πρώτο στάδιο, καλούμαστε να προσδιορίσουμε ορισμένα **stopwords**, δηλαδή λέξεις που δεν συνεισφέρουν σημαντικά στο περιεχόμενο ενός κειμένου και κατ'επέκταση στην ταξινόμηση του με βάση αυτό. Αρχικά, συμπεριλαμβάνουμε τυπικές stopword λέξεις της αγγλικής γλώσσας (πχ him, herself, them etc.), όπως αυτές παρέχονται από την έτοιμη βιβλιοθήκη *nltk.corpus*. Στις λέξεις αυτές, συμπεριλαμβάνουμε και δικά μας stopwords από συνήθεις λέξεις σε περιγραφές ταινιών (πχ plot, summary, protagonist, film etc) οι οποίες, ωστόσο, δεν παρέχουν κάποια ουσιαστική περιγραφή και ενδείκνυται να παραλειφθούν."
   ]
  },
  {
   "cell_type": "code",
   "execution_count": 22,
   "metadata": {},
   "outputs": [
    {
     "name": "stdout",
     "output_type": "stream",
     "text": [
      "{'ma', 'above', 'ain', 'its', 'while', 'family', 'we', 'having', '02', 'further', 'yours', 'there', \"mightn't\", 'against', 'very', 'before', 'you', 'he', 'up', 'which', \"weren't\", 'a', 'the', 'd', 'main', 'these', '01', 'for', 'didn', 'haven', \"mustn't\", 'aren', 'once', '19th', 'protagonist', 'each', 'mustn', '10', 'as', 'hadn', 'in', 'isn', 'don', 'with', 'but', 'had', 'our', 'no', 'himself', 'that', 'again', 'by', '06', \"you'd\", 'down', 'they', 'after', 'my', 'or', 'shan', 'me', \"shan't\", 'some', 'during', 'll', 'can', \"isn't\", 'out', 'plot', 'and', 'wouldn', \"hadn't\", 'where', 'off', 'will', 'below', 'only', 'her', 'herself', \"wasn't\", 'what', 'your', \"won't\", 'ours', 'any', 'not', 'an', 'should', 'then', 'about', '1st', 'between', 'story', 're', 'because', 'hers', '07', 't', \"haven't\", \"wouldn't\", \"hasn't\", \"aren't\", 's', 'won', 'being', 'shouldn', 'summary', 'through', \"it's\", 'than', 'now', 'myself', '03', 'ourselves', 'secondary', \"don't\", \"you've\", 'y', 'doesn', 'him', 'i', 'am', 'other', 'who', 'into', 've', 'she', 'until', 'to', 'those', 'few', 'needn', '20th', 'when', \"didn't\", 'itself', 'doing', 'mightn', '05', 'over', 'be', 'just', \"couldn't\", 'here', 'nor', 'under', 'village', 'why', 'yourself', 'have', 'if', 'own', 'were', 'too', 'at', \"that'll\", 'm', 'did', 'themselves', 'is', 'film', \"you'll\", 'hasn', 'finale', 'from', 'hero', 'whom', '08', 'it', 'was', 'wasn', 'his', 'them', 'more', 'does', 'on', 'how', 'weren', 'movie', 'most', 'this', 'of', 'couldn', 'cinema', 'are', '04', '2nd', 'all', 'such', \"shouldn't\", 'been', \"should've\", 'era', 'so', '09', \"she's\", 'o', \"you're\", 'has', \"doesn't\", 'both', \"needn't\", 'city', 'do', 'theirs', 'yourselves', 'same', 'their'}\n"
     ]
    }
   ],
   "source": [
    "common_stopwords = set(stopwords.words('english'))\n",
    "useless_words = {\"movie\", \"film\", \"story\",\"plot\",\"era\", \"01\",\"02\",\"03\",\"04\",\"05\",\"06\",\"07\",\"08\",\"09\",\"10\",\n",
    "                '1st','2nd','19th','20th', 'hero','protagonist','finale','summary','city','village','family',\n",
    "                'main','secondary','cinema'} # other common words in films that are useless\n",
    "\n",
    "STOPWORDS = set.union(common_stopwords , useless_words)\n",
    "print(STOPWORDS) # very common words not of any use, that need be removed"
   ]
  },
  {
   "cell_type": "markdown",
   "metadata": {},
   "source": [
    "Ως επιπλέον προσθήκη stopwords, περιλαμβάνουμε **κοινότυπα αντρικά και γυναικεία ονόματα** της Αγγλικής γλώσσας. Ο λόγος πίσω από αυτήν την επιλογή, είναι ότι δεν θέλουμε το recommendation system να προτείνει ταινίες με άσχετο περιεχόμενο πλοκής, απλά και μόνο επειδή τυγχάνει κάποιος πρωταγωνιστής/πρωταγωνίστρια να έχουν το ίδιο όνομα και στις δύο ταινίες."
   ]
  },
  {
   "cell_type": "code",
   "execution_count": 23,
   "metadata": {},
   "outputs": [
    {
     "name": "stdout",
     "output_type": "stream",
     "text": [
      "Fetched a total of 2943 Male Names.\n",
      "Fetched a total of 5001 Female Names.\n"
     ]
    }
   ],
   "source": [
    "# Function to fect common English names from  online sites\n",
    "def get_names(url):\n",
    "    decoded_url = urllib.request.urlopen(url).read().decode()\n",
    "    name_list = decoded_url.split('\\n')\n",
    "    \n",
    "    names = []\n",
    "    for name in name_list:\n",
    "        if name and name[0] != '#': # ignore first lines with #\n",
    "            names.append(name)\n",
    "    return set(names)\n",
    "\n",
    "male_names = get_names(\"http://www.cs.cmu.edu/Groups/AI/util/areas/nlp/corpora/names/male.txt\")\n",
    "female_names = get_names(\"http://www.cs.cmu.edu/Groups/AI/util/areas/nlp/corpora/names/female.txt\")\n",
    "\n",
    "print('Fetched a total of '+str(len(male_names))+' Male Names.')\n",
    "print('Fetched a total of '+str(len(female_names))+' Female Names.')"
   ]
  },
  {
   "cell_type": "code",
   "execution_count": 24,
   "metadata": {},
   "outputs": [],
   "source": [
    "# Add common English Names to stopwords set\n",
    "STOPWORDS = set.union(STOPWORDS , male_names)\n",
    "STOPWORDS = set.union(STOPWORDS , female_names)"
   ]
  },
  {
   "cell_type": "markdown",
   "metadata": {},
   "source": [
    "Έχοντας προσδιορίσει το σύνολο των Stopwords που θα χρησιμοποιήσουμε, προβαίνουμε στα επόμενα βήματα καθαρισμού του corpus:"
   ]
  },
  {
   "cell_type": "code",
   "execution_count": 10,
   "metadata": {},
   "outputs": [],
   "source": [
    "# Function for Text Preprocessing\n",
    "def clean_text(s, stopwords = STOPWORDS, min_words = 4, max_words = 15):\n",
    "    \n",
    "    s = s.strip()  # strip leading / trailing spaces\n",
    "    s = s.lower()  # convert to lowercase\n",
    "    \n",
    "    # replace the matched string with ' '\n",
    "    s = re.sub(re.compile(\"\\'s\"), ' ', s)    # e.g. pirate's --> pirate\n",
    "    s = re.sub(re.compile(\"\\\\r\\\\n\"), ' ', s) # replace \\r and \\n with ' '\n",
    "    s = re.sub(r\"http\\S+\", \" \", s)           # replace any url links in corpus\n",
    "\n",
    "    s = contractions.fix(s)  # e.g. don't -> do not, you're -> you are\n",
    "    s = re.sub(r\"[^a-z0-9A-Z\\s]\", \" \", s)  # keep only lowercase letters and spaces\n",
    "    s = re.sub(\"\\s+\", \" \", s)  # strip multiple whitespace\n",
    "    \n",
    "    tokens = [w for w in word_tokenize(s)] # tokenize sentence into words\n",
    "    # remove Stopwords and keep words of certain min/max words\n",
    "    tokens = [w for w in tokens if (len(w) >= min_words and len(w) <= max_words\n",
    "                                                        and w not in STOPWORDS)] \n",
    "    # lemmatize\n",
    "    wordnet_lemmatizer = WordNetLemmatizer()\n",
    "    lem_tokens = [wordnet_lemmatizer.lemmatize(word) for word in tokens]\n",
    "    \n",
    "    s = \" \".join(lem_tokens) # concatenate tokens back to a sentence\n",
    "    \n",
    "    return s"
   ]
  },
  {
   "cell_type": "markdown",
   "metadata": {},
   "source": [
    "Σημειώνεται ότι δεν προβαίνουμε σε τεχνικές stemming (επιθετικό normalization), καθώς κάτι τέτοιο προκαλεί προβλήματα αργότερα στην αναπαράσταση με word embeddings. Αντιθέτως, εφαρμόζουμε lemmatization. "
   ]
  },
  {
   "cell_type": "code",
   "execution_count": 13,
   "metadata": {},
   "outputs": [
    {
     "data": {
      "text/plain": [
       "'continues sharpe challenge left home england richard sharpe patrick harper reluctantly agree escort marie angelique bonnet hill fort kalimgong fianc major joubert stationed encounter baggage train heading madras made soldier king east india company army commanded young ensign beauclere engineer major tredinnick subedar pillai included train redcoat prisoner named barabbas indian princess retinue tredinnick pregnant wife caroline carver train attacked force bandit chitu subedar wounded saved timely arrival colonel dragomirov cavalry squadron qualified sharpe forced take command trouble come within train well sharpe discovers barabbas fact obadiah hakeswill murdered sharpe first wife flying rage sharpe almost kill barabbas spot stopped harper intervention also face opposition colour sergeant wormwood british soldier dislike sharpe method foster feeling resentment among grows sharpe punishes wormwood drunkenness attempted rape arriving kalimgong sharpe harper find entire garrison killed exception fort commander general henry simmerson sharpe enemy strung naked courtyard simmerson mind addled heat seems speak nonsense save harvest major joubert among dead marie angelique relief neither company ledger reveal stolen fort subedar succumbs wound dy continuing train find farming destroyed bandit entire harvest stolen everyone dead young girl witnessed attack girl simmerson addled ramblings sharpe realises people growing opium company colonel count dragomirov major joubert responsible slaughter kalimgong using bandit scapegoat train forced leave mount wagon behind bridge river found destroyed crossing dragomirov attack joubert grab marie angelique ride sharpe try pursue wormwood us chaos kill sharpe managing wound shoulder harper drag sharpe safety dragomirov troop retreat wound treated sharpe take horse leaf rescue marie angelique putting harper command train sharpe find joubert fight weakened sharpe disarmed marie angelique shoot kill joubert pistol however dragomirov cavalry find take field headquarters indian plain meanwhile night seriously wounded tredinnick sneak away slowing train try ambush dragomirov shot miss dragomirov stab leaf dead lance naik singh find tredinnick hears dying word dragomirov sharpe dead dragomirov show sharpe around field headquarters indian slave produce opium offer sharpe joubert position promise keep sharpe people prisoner rather kill sharpe turn later dragomirov threatens give marie angelique dosed opium sharpe agrees lead dragomirov train convince harper surrender night dragomirov sharpe chained cobra get free rescue marie angelique catch train dragomirov follows sharpe us gunpowder create roadblock train come tredinnick go labour sharpe choice stop defend place get leader real chitu rest resident side upcoming battle singh repair cannon wormwood want desert crony decide fight alongside sharpe night sharpe apologises barabbas earlier treatment agrees fight later wormwood free barabbas tell sharpe plan execute morning barabbas wormwood ride away separately wormwood join dragomirov tell sharpe defence dragomirov attack next sharpe resist strongly beauclare fatally wounded defending woman wormwood kill former comrade harper kill hand hand fight last moment british cavalry soldier arrive barabbas ridden entire night bring reinforcement sharpe duel dragomirov kill battle sharpe say goodbye marie angelique talk visiting sharpe farm normandy simmerson almost friendly conversation harper ride home'"
      ]
     },
     "execution_count": 13,
     "metadata": {},
     "output_type": "execute_result"
    }
   ],
   "source": [
    "clean_text(corpus[0], STOPWORDS, min_words = 4, max_words = 15) # example summary after preprocessing"
   ]
  },
  {
   "cell_type": "code",
   "execution_count": 14,
   "metadata": {},
   "outputs": [],
   "source": [
    "# Apply preprocessing function to each summary of corpus\n",
    "clean_corpus = []\n",
    "for i in range(len(corpus)):\n",
    "    clean_corpus.append(clean_text(corpus[i], STOPWORDS, min_words=4, max_words = 20))"
   ]
  },
  {
   "cell_type": "markdown",
   "metadata": {
    "id": "DD5KuSKrxQ8I"
   },
   "source": [
    "## Μετατροπή σε TFIDF\n",
    "\n",
    "Το πρώτο βήμα θα είναι λοιπόν να μετατρέψετε το corpus σε αναπαράσταση tf-idf:"
   ]
  },
  {
   "cell_type": "code",
   "execution_count": 15,
   "metadata": {
    "id": "s5YP6XCZPSyh"
   },
   "outputs": [],
   "source": [
    "from sklearn.feature_extraction.text import TfidfVectorizer\n",
    "# create sparse tf_idf representation\n",
    "vectorizer = TfidfVectorizer()\n",
    "vectorizer.fit(clean_corpus)\n",
    "corpus_tf_idf_plain = vectorizer.transform(clean_corpus)"
   ]
  },
  {
   "cell_type": "markdown",
   "metadata": {
    "id": "H-uRZK3EPSyl"
   },
   "source": [
    "Η συνάρτηση [TfidfVectorizer](http://scikit-learn.org/stable/modules/generated/sklearn.feature_extraction.text.TfidfVectorizer.html) όπως καλείται εδώ **δεν είναι βελτιστοποιημένη**. Οι επιλογές των μεθόδων και παραμέτρων της μπορεί να έχουν **δραματική επίδραση στην ποιότητα των συστάσεων** και είναι διαφορετικές για κάθε dataset. Επίσης, οι επιλογές αυτές έχουν πολύ μεγάλη επίδραση και στη **διαστατικότητα και όγκο των δεδομένων**. Η διαστατικότητα των δεδομένων με τη σειρά της θα έχει πολύ μεγάλη επίδραση στους **χρόνους εκπαίδευσης**, ιδιαίτερα στη δεύτερη εφαρμογή της άσκησης.\n",
    "\n",
    "Προσοχή: ο TfidfVectorizer έχει κάποιες δυνατότητες προεπεξεργασίας παρόποιες με αυτές που αναφέραμε στην προηγούμενη ενότητα. Ό,τι προεπεξεργασία μπορείτε να κάνετε που χρειάζεται ως είσοδο μόνο το κάθε document ξεχωριστά, κάντε την στο πρώτο βήμα της προεπεξεργασίας. Αν χρειάζεται γνώση των συνολικών στατιστικών της συλλογής, κάντε την με τον TfidfVectorizer."
   ]
  },
  {
   "cell_type": "code",
   "execution_count": 16,
   "metadata": {
    "id": "y_Cw0brpnisF"
   },
   "outputs": [
    {
     "name": "stdout",
     "output_type": "stream",
     "text": [
      "(5000, 41489)\n"
     ]
    }
   ],
   "source": [
    "print(corpus_tf_idf_plain.shape)"
   ]
  },
  {
   "cell_type": "markdown",
   "metadata": {
    "id": "3LsmvSyVykTU"
   },
   "source": [
    "## Υλοποίηση του συστήματος συστάσεων\n",
    "\n",
    "Το σύστημα συστάσεων που θα υλοποιήσετε θα είναι μια συνάρτηση `content_recommender` με τρία ορίσματα: `target_movie`, `max_recommendations` και `corpus_type`. Στην `target_movie` περνάμε το ID μιας ταινίας-στόχου για την οποία μας ενδιαφέρει να βρούμε παρόμοιες ως προς το περιεχόμενο (τη σύνοψη) ταινίες, `max_recommendations` στο πλήθος.\n",
    "Υλοποιήστε τη συνάρτηση ως εξής: \n",
    "- για την ταινία-στόχο, θα υπολογίζετε την [ομοιότητα συνημιτόνου](https://en.wikipedia.org/wiki/Cosine_similarity) της με όλες τις ταινίες της συλλογής σας όπως αυτές αναπαριστώνται στο `corpus_type`.\n",
    "- με βάση την ομοιότητα συνημιτόνου που υπολογίσατε, δημιουργήστε ταξινομημένο πίνακα από το μεγαλύτερο στο μικρότερο, με τα indices (`ID`) των ταινιών. Παράδειγμα: αν η ταινία με index 1 έχει ομοιότητα συνημιτόνου με 3 ταινίες \\[0.2 1 0.6\\] (έχει ομοιότητα 1 με τον εαύτό της) ο ταξινομημένος αυτός πίνακας indices θα είναι \\[1 2 0\\].\n",
    "- Για την ταινία-στόχο εκτυπώστε: id, τίτλο, σύνοψη, κατηγορίες (categories)\n",
    "- Για τις `max_recommendations` ταινίες (πλην της ίδιας της ταινίας-στόχου που έχει cosine similarity 1 με τον εαυτό της) με τη μεγαλύτερη ομοιότητα συνημιτόνου (σε φθίνουσα σειρά), τυπώστε σειρά σύστασης (1 πιο κοντινή, 2 η δεύτερη πιο κοντινή κλπ), ομοιότητα συνημιτόνου, id, τίτλο, σύνοψη, και κατηγορίες (categories)\n"
   ]
  },
  {
   "cell_type": "code",
   "execution_count": 17,
   "metadata": {},
   "outputs": [],
   "source": [
    "import scipy\n",
    "\n",
    "# Function that computes Cosine Similarity of Target Movie for every movie of corpus\n",
    "def cosine_similarity(target_movie, corpus_type):\n",
    "    distances = np.zeros(corpus_type.shape[0])\n",
    "    for ID in range(distances.shape[0]):\n",
    "        distances[ID] = scipy.spatial.distance.cosine(corpus_type[target_movie].todense(), corpus_type[ID].todense())\n",
    "    return distances\n",
    "\n",
    "def content_recommender(target_movie, max_recommendations, corpus_type = corpus_tf_idf_plain, print_plots = True):\n",
    "    \n",
    "    print('Recommending Movies Similar to Movie with ID = '+str(target_movie))\n",
    "    print('Title:',*titles[target_movie].flatten())\n",
    "    print('Category:',*categories[target_movie].flatten(),'\\n')\n",
    "    print('======= Plot Summary: ========\\n'+corpus[target_movie][:300]+'...\\n')\n",
    "    \n",
    "    distances = cosine_similarity(target_movie, corpus_type) # get cosine similarity distances\n",
    "    sorted_dists = np.argsort(distances) # sort indexes by minimum distance --> maximum similarity\n",
    "    \n",
    "    sorted_dists = sorted_dists[1:max_recommendations+1] # first element is the target movie itself\n",
    "    \n",
    "    for i in range(len(sorted_dists)):\n",
    "        print(str(i+1)+') Movie ID: '+str(sorted_dists[i]))\n",
    "        print(\"Title:\",*titles[sorted_dists[i]].flatten())\n",
    "        print(\"Category: \",*categories[sorted_dists[i]].flatten())\n",
    "        print('Similarity: ',str(np.round(100*(1-distances[sorted_dists[i]]),2)),'%')\n",
    "        if print_plots:\n",
    "            print('\\n======= Plot Summary: =======\\n'+corpus[sorted_dists[i]][:300]+'...')\n",
    "        print()\n"
   ]
  },
  {
   "cell_type": "markdown",
   "metadata": {},
   "source": [
    "Έχοντας υλοποίησει τον movie recommender με έναν μη βελτιστοποιημένο tf-idf Vectorizer, προβαίνουμε στην εκτύπωση ορισμένων αποτελεσμάτων σύστασης για συγκεκριμένες ταινίες και αξιολογούμε τα αποτελέσματα:"
   ]
  },
  {
   "cell_type": "markdown",
   "metadata": {},
   "source": [
    "**1ο Πείραμα**: Όπως βλέπουμε το σύστημα μας **πετυχαίνει**, καθώς προτείνει ταινίες κοινού περιεχομένου (war, εποχής, costume adventure, action), οι οποίες μάλιστα ανήκουν και σε κοινή σειρά ταινιών με πρωταγωνιστή τον Sharpe. Σημειώνεται, μάλιστα, ότι παρόλο που αποκλείσαμε κοινότυπα αγγλικά ονόματα ως Stopwords, στην προκειμένη περίπτωση το όνομα Sharpe διατηρείται, όντας σπάνιο, και συμβάλλει καθοριστικά στην σύσταση ταινιών του ίδιου movie universe."
   ]
  },
  {
   "cell_type": "code",
   "execution_count": 18,
   "metadata": {},
   "outputs": [
    {
     "name": "stdout",
     "output_type": "stream",
     "text": [
      "Recommending Movies Similar to Movie with ID = 0\n",
      "Title: Sharpe's Peril\n",
      "Category: \"Action\",  \"Drama\",  \"Adventure\" \n",
      "\n",
      "======= Plot Summary: ========\n",
      "The story continues from where Sharpe's Challenge left off. On their way home to England, Richard Sharpe  and Patrick Harper  reluctantly agree to escort Marie-Angelique Bonnet  to the hill fort of Kalimgong, where her fiancé, Major Joubert , is stationed. They encounter a baggage train heading to M...\n",
      "\n",
      "1) Movie ID: 2847\n",
      "Title: Sharpe's Eagle\n",
      "Category:  \"Costume Adventure\",  \"Historical fiction\",  \"Adventure\",  \"Period piece\"\n",
      "Similarity:  53.24 %\n",
      "\n",
      "======= Plot Summary: =======\n",
      "In 1809, Sir Arthur Wellesley, commander of the British forces in the Iberian Peninsula, prepares to invade French-controlled Spain. He orders Lieutenant Richard Sharpe and his band of \"chosen men\" to accompany the arrogantly incompetent, newly-arrived Sir Henry Simmerson and his South Essex Regimen...\n",
      "\n",
      "2) Movie ID: 1980\n",
      "Title: Sharpe's Justice\n",
      "Category:  \"Historical fiction\",  \"Adventure\"\n",
      "Similarity:  51.59 %\n",
      "\n",
      "======= Plot Summary: =======\n",
      "It is 1814. There is peace in Europe as a defeated Napoleon is sent into exile on the island of Elba. Major Sharpe  is assigned to head the Scarsdale Yeomanry in his native Yorkshire, depriving him of a chance to settle the score with his adulterous wife Jane  and her lover, Lord Rossendale . Sharpe...\n",
      "\n",
      "3) Movie ID: 2750\n",
      "Title: Sharpe's Siege\n",
      "Category:  \"Period piece\",  \"Costume Adventure\",  \"Historical fiction\",  \"Adventure\"\n",
      "Similarity:  48.75 %\n",
      "\n",
      "======= Plot Summary: =======\n",
      "In 1813, the war turns in favour of the British. Lord Wellington ([[Hugh Fraser  is poised to invade southern France after triumphing in Spain. The Comte de Maquerre , a French nobleman, offers to raise a rebellion in Bordeaux against Napoleon. Major General Ross , is unconvinced, as his spies have ...\n",
      "\n"
     ]
    }
   ],
   "source": [
    "content_recommender(target_movie = 0, max_recommendations = 3, corpus_type = corpus_tf_idf_plain, print_plots = True)"
   ]
  },
  {
   "cell_type": "markdown",
   "metadata": {},
   "source": [
    "**2ο Πείραμα**: Για άλλη μια φορά, το recommendation system δίνει ικανοποιητικά αποτελέσματα, καθώς προτείνει για μια ταινία δράμα εποχής, άλλες ταινίες που είναι επίσης δράματα ιστορικής φύσεως."
   ]
  },
  {
   "cell_type": "code",
   "execution_count": 19,
   "metadata": {},
   "outputs": [
    {
     "name": "stdout",
     "output_type": "stream",
     "text": [
      "Recommending Movies Similar to Movie with ID = 5\n",
      "Title: Kim\n",
      "Category: \"Television movie\",  \"Family Drama\",  \"Period piece\",  \"Drama\",  \"Film adaptation\",  \"Family Film\" \n",
      "\n",
      "======= Plot Summary: ========\n",
      "Kim  is a 15-year-old street orphan in Lahore of the 19th century . Kim thinks he is native, but he's actually of British origin, the son of an Irish soldier and an Indian mother. He is taken up as a guide by a travelling Tibetan lama  on a search for a river where Budda hurled an arrow, turning int...\n",
      "\n",
      "1) Movie ID: 4256\n",
      "Title: Cotton Mary\n",
      "Category:  \"Period piece\",  \"Drama\",  \"British Empire Film\"\n",
      "Similarity:  17.64 %\n",
      "\n",
      "======= Plot Summary: =======\n",
      "This film follows the story of a British woman living in India . She struggles during her birth and is in desperate need of a nanny. An Indian nurse known as Cotton Mary jumps to the opportunity. She seems kind at first, but her true nature gradually reveals itself as she manipulates everyone around...\n",
      "\n",
      "2) Movie ID: 818\n",
      "Title: The Silent Enemy\n",
      "Category:  \"Biographical film\",  \"Historical fiction\",  \"Action\",  \"War film\"\n",
      "Similarity:  17.51 %\n",
      "\n",
      "======= Plot Summary: =======\n",
      "The story begins with a dramatisation of the Italian manned torpedo raid on Alexandria in which two British battleships were sunk. The British are worried that this new Italian tactic will give the enemy naval supremacy in the Mediterranean. From Spain, an Italian expert on underwater operations is ...\n",
      "\n",
      "3) Movie ID: 1429\n",
      "Title: Guns of Darkness\n",
      "Category:  \"Drama\",  \"Adventure\"\n",
      "Similarity:  15.28 %\n",
      "\n",
      "======= Plot Summary: =======\n",
      "Caught in a South American country during a coup, a British couple try and help the former President escape to the border....\n",
      "\n"
     ]
    }
   ],
   "source": [
    "content_recommender(target_movie = 5, max_recommendations = 3, corpus_type = corpus_tf_idf_plain, print_plots = True)"
   ]
  },
  {
   "cell_type": "markdown",
   "metadata": {},
   "source": [
    "**3ο Πείραμα**: Αυτή τη φορά, το σύστημα μας **αποτυγχάνει**, καθώς προτείνει σε ταινία horror, άλλες ταινίες που είναι animated comedies και κατά βάση romantic films, κάτι που είναι τελείως αντιφατικό. Σημειώνεται ότι η αυτό που λειτούργησε ευεργετικά στο 1ο πείραμα, εδώ λειτουργεί εναντίον μας: στην horror ταινία εισόδου εμφανίζεται ένας ήρωας Pluto - το οποίο είναι σπάνιο όνομα και δεν περιλαμβάνεται στα stopwords. Ως αποτέλεσμα, προτείνεται η ταινία με τον Mickey Mouse και Pluto, η οποία είναι animation... <br />\n",
    "Δεδομένου ότι δεν μπορούμε να συμπεριλάβουμε όλα τα ονόματα στα stopwords, η ανάγκη για βελτιστοποίηση του tf-idf vectorizer με βάση στατιστικές ιδιότητες των κειμένων, φαίνεται επιτακτική."
   ]
  },
  {
   "cell_type": "code",
   "execution_count": 20,
   "metadata": {},
   "outputs": [
    {
     "name": "stdout",
     "output_type": "stream",
     "text": [
      "Recommending Movies Similar to Movie with ID = 10\n",
      "Title: The Hills Have Eyes Part II\n",
      "Category: \"Cult\",  \"Monster movie\",  \"Horror\",  \"Road-Horror\" \n",
      "\n",
      "======= Plot Summary: ========\n",
      "The film opens with Bobby, one of the survivors from the first film and his psychiatrist discussing when Papa Jupiter tried to kill him and Brenda eight years ago. Bobby is still disturbed by the events in the first film, but he and Rachel  now own a biker team. Bobby and Ruby have also invented a s...\n",
      "\n",
      "1) Movie ID: 2339\n",
      "Title: Society Dog Show\n",
      "Category:  \"Short Film\",  \"Family Film\",  \"Comedy\",  \"Animation\"\n",
      "Similarity:  25.76 %\n",
      "\n",
      "======= Plot Summary: =======\n",
      "Mickey Mouse enters Pluto in a ritzy dog show. While Mickey grooms Pluto, Pluto starts swooning over Fifi the Peke. Things don't look good for Mickey and Pluto after the judge who looks over Pluto throws them out when the dog attacks the judge. But when a fire breaks out in the building, Pluto brave...\n",
      "\n",
      "2) Movie ID: 3522\n",
      "Title: Rachel Getting Married\n",
      "Category:  \"Ensemble Film\",  \"Romance Film\",  \"Family Drama\",  \"Drama\",  \"Indie\"\n",
      "Similarity:  19.62 %\n",
      "\n",
      "======= Plot Summary: =======\n",
      "Kym  is released from rehab for a few days so she can go home to attend the wedding of her sister Rachel . At home, the atmosphere is strained between Kym and her family members as they struggle to reconcile themselves with her past and present. Kym's father  shows intense concern for her well-being...\n",
      "\n",
      "3) Movie ID: 4213\n",
      "Title: On the Edge\n",
      "Category:  \"Romantic drama\",  \"Romance Film\",  \"Drama\",  \"Indie\"\n",
      "Similarity:  19.52 %\n",
      "\n",
      "======= Plot Summary: =======\n",
      "Jonathan Breech  is 19 when his father drinks himself to death. After a night with a gram of cocaine, another man's girlfriend and already stolen convertible, he goes to his older brother Mikey's  house at five in the morning to get his father's ashes. With the urn in the back seat he then goes on a...\n",
      "\n"
     ]
    }
   ],
   "source": [
    "content_recommender(target_movie = 10, max_recommendations = 3, corpus_type = corpus_tf_idf_plain, print_plots = True)"
   ]
  },
  {
   "cell_type": "markdown",
   "metadata": {
    "id": "8IvHkTUHyu78"
   },
   "source": [
    "## Βελτιστοποίηση του TfidfVectorizer\n",
    "\n",
    "Αφού υλοποιήσετε τη συνάρτηση `content_recommender` χρησιμοποιήστε την για να βελτιστοποιήσετε την `TfidfVectorizer`. Συγκεκριμένα, αρχικά μπορείτε να δείτε τι επιστρέφει το σύστημα για τυχαίες ταινίες-στόχους και για ένα μικρό `max_recommendations` (2 ή 3). Αν σε κάποιες ταινίες το σύστημα μοιάζει να επιστρέφει σημασιολογικά κοντινές ταινίες σημειώστε το `ID` τους. Δοκιμάστε στη συνέχεια να βελτιστοποιήσετε την `TfidfVectorizer` για τα συγκεκριμένα `ID` ώστε να επιστρέφονται σημασιολογικά κοντινές ταινίες για μεγαλύτερο αριθμό `max_recommendations`. Παράλληλα, όσο βελτιστοποιείτε την `TfidfVectorizer`, θα πρέπει να λαμβάνετε καλές συστάσεις για μεγαλύτερο αριθμό τυχαίων ταινιών. \n",
    "\n",
    "Ταυτόχρονα, μια αντίρροπη κατά κάποιο τρόπο κατεύθυνση της βελτιστοποίησης είναι να χρησιμοποιείτε τις παραμέτρους του `TfidfVectorizer` έτσι ώστε να μειώνονται οι διαστάσεις του Vector Space Model μέχρι το σημείο που θα αρχίσει να εμφανίζονται επιπτώσεις στην ποιότητα των συστάσεων. \n",
    "\n",
    "\n"
   ]
  },
  {
   "cell_type": "markdown",
   "metadata": {},
   "source": [
    "Για τα κίνητρα μας πίσω από τη βελτιστοποίηση του tf-idf vectorizer, δείτε παρακάτω στην ανάλυση αποτελεσμάτων."
   ]
  },
  {
   "cell_type": "code",
   "execution_count": 25,
   "metadata": {},
   "outputs": [
    {
     "name": "stdout",
     "output_type": "stream",
     "text": [
      "(5000, 41489)\n",
      "(5000, 5357)\n"
     ]
    }
   ],
   "source": [
    "optimal_vectorizer = TfidfVectorizer(max_df=0.2, min_df=0.003, stop_words = STOPWORDS, ngram_range=(1,1))\n",
    "optimal_vectorizer.fit(clean_corpus)\n",
    "corpus_tf_idf_optimal = optimal_vectorizer.transform(clean_corpus)\n",
    "print(corpus_tf_idf_plain.shape)\n",
    "print(corpus_tf_idf_optimal.shape)"
   ]
  },
  {
   "cell_type": "markdown",
   "metadata": {},
   "source": [
    "Παρατηρούμε ότι η **διαστατικότητα του αραιού πίνακα μειώθηκε δραματικά**. Εκτυπώνουμε ενδεικτικά αποτελέσματα από τον movie recommender:"
   ]
  },
  {
   "cell_type": "markdown",
   "metadata": {},
   "source": [
    "**1o Πείραμα**: Παρατηρούμε ότι λόγω του πιο επιθετικού tf-idf vectorization που εφαρμόστηκε, σε αντίθεση με πριν δεν προτείνονται ταινίες που έχουν αποκλειστικά τον ήρωα Sharpe μέσα τους, δηλαδή ανήκουν στην ίδια σειρά. Παρόλα αυτά οι ταινίες που προτείνονται είναι και πάλι κοντινού περιεχομένου με κοινό παρονομαστή το drama και το έγκλημα."
   ]
  },
  {
   "cell_type": "code",
   "execution_count": 26,
   "metadata": {},
   "outputs": [
    {
     "name": "stdout",
     "output_type": "stream",
     "text": [
      "Recommending Movies Similar to Movie with ID = 0\n",
      "Title: Sharpe's Peril\n",
      "Category: \"Action\",  \"Drama\",  \"Adventure\" \n",
      "\n",
      "======= Plot Summary: ========\n",
      "The story continues from where Sharpe's Challenge left off. On their way home to England, Richard Sharpe  and Patrick Harper  reluctantly agree to escort Marie-Angelique Bonnet  to the hill fort of Kalimgong, where her fiancé, Major Joubert , is stationed. They encounter a baggage train heading to M...\n",
      "\n",
      "1) Movie ID: 3995\n",
      "Title: Daisies\n",
      "Category:  \"World cinema\",  \"Experimental film\",  \"Satire\",  \"Comedy\",  \"Black comedy\",  \"Avant-garde\",  \"Czechoslovak New Wave\"\n",
      "Similarity:  30.22 %\n",
      "\n",
      "======= Plot Summary: =======\n",
      " The opening sequence is that of a spinning flywheel with shots of airplanes strafing the ground. The shots of the airplanes are most likely from World War II. The first scene shows the two main characters sitting in bathing suits. Their conversation is robotic and from that point on they decide to ...\n",
      "\n",
      "2) Movie ID: 1766\n",
      "Title: The Chambermaid on the Titanic\n",
      "Category:  \"Romance Film\",  \"Drama\"\n",
      "Similarity:  30.19 %\n",
      "\n",
      "======= Plot Summary: =======\n",
      "Set in 1912, the protagonist, Horty, leads an uneventful life as a foundry worker in the Lorraine region of northern France with his wife, Zoe, \"the most beautiful woman in town.\" The owner of the foundry where Horty works, Simeon, lusts after Zoe. When Horty wins a company athletic contest, Simeon'...\n",
      "\n",
      "3) Movie ID: 1038\n",
      "Title: The Plainsman\n",
      "Category:  \"Action/Adventure\",  \"Western\",  \"Biographical film\",  \"Black-and-white\"\n",
      "Similarity:  29.58 %\n",
      "\n",
      "======= Plot Summary: =======\n",
      "With the end of the American Civil War, military industrialists are left with an oversupply of weapons. Some of the more unscrupulous ones view the Indians as possible new customers. Wild Bill Hickok  has just been discharged from the Union Army and is making his way back west. On a paddle steamer, ...\n",
      "\n",
      "4) Movie ID: 233\n",
      "Title: Aurore\n",
      "Category:  \"Biographical film\",  \"Drama\"\n",
      "Similarity:  28.92 %\n",
      "\n",
      "======= Plot Summary: =======\n",
      "Aurore Gagnon, born in 1909 to Marie-Anne Caron and Telesphore Gagnon, is the second child of the couple. During the first nine years of her life, Aurore enjoys a happy life. Then, during the fall of 1917, Aurore's mother develops tuberculosis. She is brought to hospital for several months and docto...\n",
      "\n",
      "5) Movie ID: 4092\n",
      "Title: High Sierra\n",
      "Category:  \"Thriller\",  \"Crime Fiction\",  \"Gangster Film\",  \"Crime Drama\",  \"Caper story\",  \"Black-and-white\",  \"Mystery\",  \"Drama\",  \"Crime Thriller\",  \"Film noir\"\n",
      "Similarity:  28.57 %\n",
      "\n",
      "======= Plot Summary: =======\n",
      "An aged gangster, Big Mac , is planning a robbery at a California resort casino. He wants the experienced Roy Earle , just released from an eastern prison by a governor's pardon, to lead the heist and to take charge of the operation. Roy drives across the country to a camp in the mountains to meet u...\n",
      "\n"
     ]
    }
   ],
   "source": [
    "content_recommender(target_movie = 0, max_recommendations = 5, corpus_type = corpus_tf_idf_optimal, print_plots = True)"
   ]
  },
  {
   "cell_type": "markdown",
   "metadata": {},
   "source": [
    "**2ο Πείραμα**: To Recommendation System έχει ακόμα μεγαλύτερη επιτυχία από πριν, καθώς όχι μόνο προτείνει περισσότερο κοινές ως προς το περιεχόμενο ταινίες (πολεμικά δράματα, κατασκοπεία, δράση), αλλά επίσης το καταφέρνει για 5 ταινίες. "
   ]
  },
  {
   "cell_type": "code",
   "execution_count": 27,
   "metadata": {},
   "outputs": [
    {
     "name": "stdout",
     "output_type": "stream",
     "text": [
      "Recommending Movies Similar to Movie with ID = 5\n",
      "Title: Kim\n",
      "Category: \"Television movie\",  \"Family Drama\",  \"Period piece\",  \"Drama\",  \"Film adaptation\",  \"Family Film\" \n",
      "\n",
      "======= Plot Summary: ========\n",
      "Kim  is a 15-year-old street orphan in Lahore of the 19th century . Kim thinks he is native, but he's actually of British origin, the son of an Irish soldier and an Indian mother. He is taken up as a guide by a travelling Tibetan lama  on a search for a river where Budda hurled an arrow, turning int...\n",
      "\n",
      "1) Movie ID: 1127\n",
      "Title: The Two-Headed Spy\n",
      "Category:  \"Thriller\",  \"Historical fiction\",  \"Docudrama\",  \"Mystery\",  \"Drama\",  \"War film\",  \"Action\",  \"Spy\"\n",
      "Similarity:  27.06 %\n",
      "\n",
      "======= Plot Summary: =======\n",
      "The story commences in 1939, Alex Schottland , a general in the German Army, is actually a British agent who was planted in Germany toward the end of the First World War. He is growing weary of being a spy, but is urged to continue by his friend and fellow British agent, Cornaz , who is posing as a ...\n",
      "\n",
      "2) Movie ID: 818\n",
      "Title: The Silent Enemy\n",
      "Category:  \"Biographical film\",  \"Historical fiction\",  \"Action\",  \"War film\"\n",
      "Similarity:  26.08 %\n",
      "\n",
      "======= Plot Summary: =======\n",
      "The story begins with a dramatisation of the Italian manned torpedo raid on Alexandria in which two British battleships were sunk. The British are worried that this new Italian tactic will give the enemy naval supremacy in the Mediterranean. From Spain, an Italian expert on underwater operations is ...\n",
      "\n",
      "3) Movie ID: 2971\n",
      "Title: A Dandy in Aspic\n",
      "Category:  \"Thriller\",  \"Drama\",  \"Spy\"\n",
      "Similarity:  25.95 %\n",
      "\n",
      "======= Plot Summary: =======\n",
      "Eberlin's superiors in Britain instruct him to find and assassinate a KGB agent named Krasnevin, believed to have killed a number of British agents. This presents a problem for Eberlin, as he is Krasnevin. He is summoned to a meeting at a country house, where he is presented with a photograph of the...\n",
      "\n",
      "4) Movie ID: 12\n",
      "Title: Ponthan Mada\n",
      "Category:  \"Drama\"\n",
      "Similarity:  24.38 %\n",
      "\n",
      "======= Plot Summary: =======\n",
      "Ponthan Mada is based on two short stories, Ponthan Mada and Sheema Thampuran by C. V. Sreeraman. Set in the 1940s British India, the film is about the extra ordinary, touching and heartening bonding of the so-called low-caste Ponthan Mada  with his colonial landlord Sheema Thampuran , who was expel...\n",
      "\n",
      "5) Movie ID: 3165\n",
      "Title: Gunga Din\n",
      "Category:  \"Adventure\",  \"British Empire Film\",  \"Epic\",  \"Black-and-white\",  \"Action/Adventure\",  \"Drama\",  \"War film\",  \"Action\",  \"Cavalry Film\"\n",
      "Similarity:  23.74 %\n",
      "\n",
      "======= Plot Summary: =======\n",
      "On the Northwest Frontier of colonial India, circa 1880, contact has been lost with a British outpost at Tantrapur in the midst of a telegraph message. Colonel Weed  dispatches a detachment of 25 British Indian Army troops to investigate, led by three sergeants of the Royal Engineers, MacChesney , C...\n",
      "\n"
     ]
    }
   ],
   "source": [
    "content_recommender(target_movie = 5, max_recommendations = 5, corpus_type = corpus_tf_idf_optimal, print_plots = True)"
   ]
  },
  {
   "cell_type": "markdown",
   "metadata": {},
   "source": [
    "**3ο Πείραμα**: Παρατηρούμε ότι τα αποτελέσματα είναι πολύ καλύτερα σε σχέση με πριν. Το recommendation system λαμβάνει ως είσοδο μια horror cult ταινία και προτείνει κάποια ρομαντικά δράματα (στα οποία συμπεριλαμβάνονται λέξεις όπως tragedy, death κλπ, που είναι λογικό να μπερδέψουν το σύστημα), άλλα και άλλες ταινίες που είναι cult, horror, slasher και mystery fantasy (Harry Potter). Σε κάθε περίπτωση, τουλάχιστον δεν προτείνεται ο Mickey Mouse..."
   ]
  },
  {
   "cell_type": "code",
   "execution_count": 28,
   "metadata": {},
   "outputs": [
    {
     "name": "stdout",
     "output_type": "stream",
     "text": [
      "Recommending Movies Similar to Movie with ID = 10\n",
      "Title: The Hills Have Eyes Part II\n",
      "Category: \"Cult\",  \"Monster movie\",  \"Horror\",  \"Road-Horror\" \n",
      "\n",
      "======= Plot Summary: ========\n",
      "The film opens with Bobby, one of the survivors from the first film and his psychiatrist discussing when Papa Jupiter tried to kill him and Brenda eight years ago. Bobby is still disturbed by the events in the first film, but he and Rachel  now own a biker team. Bobby and Ruby have also invented a s...\n",
      "\n",
      "1) Movie ID: 3522\n",
      "Title: Rachel Getting Married\n",
      "Category:  \"Ensemble Film\",  \"Romance Film\",  \"Family Drama\",  \"Drama\",  \"Indie\"\n",
      "Similarity:  32.8 %\n",
      "\n",
      "======= Plot Summary: =======\n",
      "Kym  is released from rehab for a few days so she can go home to attend the wedding of her sister Rachel . At home, the atmosphere is strained between Kym and her family members as they struggle to reconcile themselves with her past and present. Kym's father  shows intense concern for her well-being...\n",
      "\n",
      "2) Movie ID: 4213\n",
      "Title: On the Edge\n",
      "Category:  \"Romantic drama\",  \"Romance Film\",  \"Drama\",  \"Indie\"\n",
      "Similarity:  30.62 %\n",
      "\n",
      "======= Plot Summary: =======\n",
      "Jonathan Breech  is 19 when his father drinks himself to death. After a night with a gram of cocaine, another man's girlfriend and already stolen convertible, he goes to his older brother Mikey's  house at five in the morning to get his father's ashes. With the urn in the back seat he then goes on a...\n",
      "\n",
      "3) Movie ID: 1093\n",
      "Title: Hollywood Shuffle\n",
      "Category:  \"Parody\",  \"Media Satire\",  \"Comedy\",  \"Cult\",  \"Indie\"\n",
      "Similarity:  28.95 %\n",
      "\n",
      "======= Plot Summary: =======\n",
      "Bobby Taylor ([[Robert Townsend  is a middle class black male aspiring to become an actor. He practices his lines in the bathroom, with his younger brother Stevie  watching as he plays a stereotypical “jive” character for the audition for \"Jivetime Jimmy's Revenge\", a movie about street gangs. Bobby...\n",
      "\n",
      "4) Movie ID: 1937\n",
      "Title: Harry Potter and the Goblet of Fire\n",
      "Category:  \"Thriller\",  \"Science Fiction\",  \"Fantasy Adventure\",  \"Adventure\",  \"Supernatural\",  \"Children's/Family\",  \"Mystery\",  \"Fantasy\",  \"Children's Fantasy\",  \"Family Film\"\n",
      "Similarity:  28.39 %\n",
      "\n",
      "======= Plot Summary: =======\n",
      " Now fourteen years old, Harry Potter dreams of an elderly man, Frank Bryce, who is killed after overhearing Lord Voldemort discussing plans with Peter \"Wormtail\" Pettigrew and Barty Crouch Jr. The Quidditch World Cup allows Harry to take his mind off his nightmares until followers of Voldemort know...\n",
      "\n",
      "5) Movie ID: 3737\n",
      "Title: Jacob\n",
      "Category:  \"Christian film\",  \"Crime Fiction\",  \"Biography\",  \"World cinema\",  \"Television movie\",  \"History\",  \"Epic\",  \"Drama\"\n",
      "Similarity:  27.28 %\n",
      "\n",
      "======= Plot Summary: =======\n",
      "Jacob defrauds his twin Brother Esau  and flees. In Haran he gets to know his cousin Rachel , and falls in love with her. Years of hard work later he marries Rachel and reconciles with his brother Esau....\n",
      "\n"
     ]
    }
   ],
   "source": [
    "content_recommender(target_movie = 10, max_recommendations = 5, corpus_type = corpus_tf_idf_optimal, print_plots = True)"
   ]
  },
  {
   "cell_type": "markdown",
   "metadata": {
    "id": "PSQ2tCs_hbaH"
   },
   "source": [
    "## Βαθιά μάθηση: δημιουργία corpora με χρήση word emmbeddings\n",
    "\n",
    "Η προσέγγιση της κατασκευής μόνο μέσω tfidf του συστήματος συστάσεων έχει διάφορα μειονεκτήματα. Θα μας ενδιέφερε λοιπόν να δούμε αν μπορούμε να χρησιμοποιήσουμε για τις λέξεις **εμφυτεύματα (embeddings)**, δηλαδή τις πυκνές διανυσματικές αναπαραστάσεις για τις λέξεις που μας δίνει το μοντέλο **Word2Vec**\n",
    "\n",
    "Ωστόσο, το dataset της κάθε ομάδας είναι πολύ μικρό για να εξάγουμε τα δικά μας word embeddings (και να είναι καλά). Για το λόγο αυτό θα χρησιμοποιήσουμε τη μεθοδολογία της Βαθιάς Μάθησης που είναι η **Μεταφορά Μάθησης (Transfer Learning).**.\n",
    "\n",
    "Στη μεταφορά μάθησης ουσιαστικά μεταφέρουμε τη γνώση που έχει αποκτήσει ένα ήδη εκπαιδευμένο (και κατά κανόνα πολύ μεγάλο) σύστημα. Η μεταφορά γίνεται διαμέσου των τιμών των βαρών που έχει προσδιορίσει μετά το πέρας της εκπαίδευσης.\n",
    "\n",
    "Στην περίπτωσή μας, δεν μας ενδιαφέρουν τόσο τα ίδια τα βάρη των μοντέλων από τα οποία θα κάνουμε μεταφορά μάθησης. Κάτι τέτοιο θα μας ενδιέφερε αν π.χ. θέλαμε να συνεχίσουμε την εκπαίδευση στα δικά μας κείμενα. Μας ενδιαφέρουν όμως τα ίδια τα εμφυτεύματα, δηλαδή τα embeddings (διανύσματα διαστάσεων $m$) που έχει μάθει το νευρωνικό για το λεξιλόγιο του (vocabulary). To vocabulary σε τέτοια μεγάλα νευρωνικά θα είναι πιθανότατα υπερσύνολο του δικού μας."
   ]
  },
  {
   "cell_type": "markdown",
   "metadata": {
    "id": "6UFGxnb9iknm"
   },
   "source": [
    "### Μεταφορά μάθησης εμφυτευμάτων\n",
    "\n"
   ]
  },
  {
   "cell_type": "markdown",
   "metadata": {
    "id": "G3Z28edwj4wF"
   },
   "source": [
    "#### Εμφυτεύματα του Gensim-data\n",
    "Το Gensim περιλαμβάνει αρκετά προεκπαιδευμένα μοντέλα εμφυτευμάτων Word2Vec. Με το επόμενο κελί παίρνουμε τη λίστα τους."
   ]
  },
  {
   "cell_type": "code",
   "execution_count": 64,
   "metadata": {
    "id": "UX9ZkHSvi3Mi"
   },
   "outputs": [
    {
     "name": "stdout",
     "output_type": "stream",
     "text": [
      "Requirement already satisfied: gensim in /home/chrisdim/anaconda3/lib/python3.8/site-packages (4.1.2)\n",
      "Requirement already satisfied: smart-open>=1.8.1 in /home/chrisdim/anaconda3/lib/python3.8/site-packages (from gensim) (5.2.1)\n",
      "Requirement already satisfied: scipy>=0.18.1 in /home/chrisdim/anaconda3/lib/python3.8/site-packages (from gensim) (1.7.3)\n",
      "Requirement already satisfied: numpy>=1.17.0 in /home/chrisdim/anaconda3/lib/python3.8/site-packages (from gensim) (1.21.4)\n",
      "['fasttext-wiki-news-subwords-300', 'conceptnet-numberbatch-17-06-300', 'word2vec-ruscorpora-300', 'word2vec-google-news-300', 'glove-wiki-gigaword-50', 'glove-wiki-gigaword-100', 'glove-wiki-gigaword-200', 'glove-wiki-gigaword-300', 'glove-twitter-25', 'glove-twitter-50', 'glove-twitter-100', 'glove-twitter-200', '__testing_word2vec-matrix-synopsis']\n"
     ]
    }
   ],
   "source": [
    "!pip install -U gensim\n",
    "import gensim.downloader as api\n",
    "print(list(api.info()['models'].keys()))"
   ]
  },
  {
   "cell_type": "markdown",
   "metadata": {
    "id": "mS0XEVWUi_0e"
   },
   "source": [
    "Τα μοντέλα αυτά βρίσκονται στο [αποθετήριο Gensim-data](https://github.com/RaRe-Technologies/gensim-data) όπου μπορείτε να βρείτε και την τεκμηρίωσή τους. Η φόρτωση των μοντέλων αυτών γίνεται με τη συνάρτηση `gensim.downloader.load`."
   ]
  },
  {
   "cell_type": "markdown",
   "metadata": {},
   "source": [
    "Στην προκειμένη περίπτωση, εμείς θα χρησιμοποιήσουμε τα προεκπαιδευμένα εμφυτέυματα διάστασης 200 **'glove-twitter-200'**."
   ]
  },
  {
   "cell_type": "code",
   "execution_count": 29,
   "metadata": {},
   "outputs": [],
   "source": [
    "model = api.load(\"glove-twitter-200\") # load glove twitter model of 200 dimensional vectors"
   ]
  },
  {
   "cell_type": "markdown",
   "metadata": {},
   "source": [
    "Βλέπουμε για παράδειγμα ότι για την λέξη car, τα pretrained embeddings θεωρούν ως κοντινές λέξεις άλλα οχήματα:"
   ]
  },
  {
   "cell_type": "code",
   "execution_count": 66,
   "metadata": {},
   "outputs": [
    {
     "data": {
      "text/plain": [
       "[('truck', 0.7657956480979919),\n",
       " ('cars', 0.7584866881370544),\n",
       " ('driving', 0.7157721519470215),\n",
       " ('drive', 0.6923045516014099),\n",
       " ('front', 0.6751189231872559),\n",
       " ('vehicle', 0.6674408912658691),\n",
       " ('bus', 0.662653386592865),\n",
       " ('bike', 0.655992329120636),\n",
       " ('cause', 0.6432175040245056),\n",
       " ('house', 0.6365077495574951)]"
      ]
     },
     "execution_count": 66,
     "metadata": {},
     "output_type": "execute_result"
    }
   ],
   "source": [
    "model.most_similar('car')"
   ]
  },
  {
   "cell_type": "code",
   "execution_count": 309,
   "metadata": {},
   "outputs": [
    {
     "data": {
      "text/plain": [
       "(200,)"
      ]
     },
     "execution_count": 309,
     "metadata": {},
     "output_type": "execute_result"
    }
   ],
   "source": [
    "model['car'].shape"
   ]
  },
  {
   "cell_type": "markdown",
   "metadata": {
    "id": "IfNs5fMAkADF"
   },
   "source": [
    "#### Άλλα εμφυτεύμαατα\n",
    "Μπορείτε να βρείτε προεκπαιδευμένα εμφυτεύματα και από πηγές εκτός του Gensim. Για παράδειγμα:\n",
    "\n",
    "- [Google News dataset](https://code.google.com/archive/p/word2vec/). Πρόκειται για προ-εκπαιδευμένα διανύσματα που έχουν εκπαιδευτεί σε μέρος του συνόλου δεδομένων Google News (περίπου 100 δισεκατομμύρια λέξεις). Το μοντέλο περιέχει διανύσματα 300 διαστάσεων για 3 εκατομμύρια λέξεις και φράσεις.\n",
    "- [Amazon BlazingText](https://docs.aws.amazon.com/sagemaker/latest/dg/blazingtext.html). Το BlazingText δεν είναι μόνο προεκπαιδευμένα εμφυτεύματα αλλα και βελτιστοποιημένες υλοποιήσεις των αλγορίθμων Word2vec για την επεξεργασία κειμένου. Προυπόθεση είναι να δουλέψει κανείς στο SageMaker.\n",
    "\n",
    "Οι διαδικασίες φόρτωσης embeddings από εξωτερικά δεδομένα μπορεί να είναι ελαφρά διαφορετικές από αυτή του Gensim.\n",
    "\n"
   ]
  },
  {
   "cell_type": "markdown",
   "metadata": {
    "id": "qkkZE41d_DjX"
   },
   "source": [
    "#### Παρατηρήσεις\n",
    "\n",
    "*   Επαναλαμβάνουμε ότι στην εργασία αυτή δεν μας ενδιαφέρουν τα ίδια τα μοντέλα αλλά το να μπορούμε για μία λέξη του λεξιλογίου μας να μπορούμε να βρούμε το embedding (διάνυσμα) που της αντιστοιχεί στο εκάστοτε προεκπαιδευμένο μοντέλο. \n",
    "\n",
    "*   Επίσης, δεν θα χρησιμοποιήσουμε την `Phrases` για να βρούμε bigrams στο dataset μας όπως θα ήταν το ορθότερο, καθώς αυτό θα απαιτούσε την συνέχιση της εκπαίδευσης του μοντέλου σε νέο λεξιλόγιο με πολύ λίγα νέα δεδομένα.\n"
   ]
  },
  {
   "cell_type": "markdown",
   "metadata": {
    "id": "aF6bQOziqISL"
   },
   "source": [
    " ### Δημιουργία corpora βασισμένων στα εμφυτεύματα\n",
    "\n",
    "Για να μπορέσουμε να ενσωματώσουμε τη γνώση που υπάρχει στα προεκπαιδευμένα εμφυτεύματα στο δικό μας corpus θα προχωρήσουμε όπως περιγράφεται ακολούθως.\n",
    "\n",
    "Για κάθε περιγραφή ταινίας $d$, η οποία αποτελείται από τις $N_d$ λέξεις $w_i$, το  $tfidf$ της κάθε λέξης $w_i$ δίνεται από τη σχέση:\n",
    "\n",
    "$$ tfidf(w_i) = tf(w_i,d) \\cdot idf(w_i)$$\n",
    "\n",
    "Ταυτόχρονα, σε κάθε λέξη $w_i$ αντιστοιχεί ένα διάνυσμα $W2V(w_i)$ από το μοντέλο εμφυτευμάτων που έχουμε εισάγει. Τα διανύσματα εμφυτευμάτων $W2V$ θα έχουν διάσταση $m$, ανάλογα το μοντέλο. \n",
    "\n",
    "Για κάθε ταινία d, μπορούμε να δημιουργήσουμε μια διανυσματική αναπαράσταση $W2V(d)$ διαστάσεων $m$ χρησιμοποιώντας το $tfidf(w_i)$ ως συντελεστή βαρύτητας για κάθε εμφύτευμα $W2V(w_i)$:\n",
    "\n",
    "$$ W2V(d) = \\frac{tfidf(w_1)\\cdot W2V(w_i) + tfidf(w_2)\\cdot W2V(w_2) + \\dotsc  + tfidf(w_{N_{d}})\\cdot W2V(w_{N_{d}})}{tfidf(w_1)+tfidf(w_2)+ \\dotsc + tfidf(w_{N_{d}})}$$\n"
   ]
  },
  {
   "cell_type": "markdown",
   "metadata": {
    "id": "Umbd7mv__be8"
   },
   "source": [
    "#### build_tfw2v\n",
    "\n",
    "Υλοποιήστε μια συνάρτηση `build_tfw2v` με ορίσματα:\n",
    "- `corpus` που θα είναι το προεπεξεργασμένο dataset σας,\n",
    "- `vectors` που θα είναι το μοντέλο που θα σας δίνει τα διανύσματα των εμφυτεύσεων vectors, και \n",
    "- `embeddings_size` που θα είναι η διάσταση των εμφυτευμάτων $m$.\n",
    "\n",
    "H συνάρτηση αυτή θα επιστρέφει ένα νέο corpus που θα είναι ένας πίνακας 5000 (όσες οι ταινίες σας) x $m$ (το η διάσταση των εμφυτευμάτων). Ανάλογα ποιο μοντέλο χρησιμποιείτε για transfer learning ο πίνακας αυτός θα είναι διαφορετικός.\n",
    "\n",
    "Μπορείτε πλεόν να καλείτε την `content_recommender` με διαφορετικά corpora στο όρισμα `corpus_type`. Σημειώστε ότι στο TFidfVectorizer χρησιμοποιουμε τη σειριακή μορφή των numpy arrays και ίσως σας χρησιμεύσει η `sparse.csr_matrix()` από την Scipy."
   ]
  },
  {
   "cell_type": "code",
   "execution_count": 30,
   "metadata": {},
   "outputs": [],
   "source": [
    "from scipy.sparse import csr_matrix\n",
    "\n",
    "def build_tfw2v(corpus, vectors, embeddings_size, vectorizer = optimal_vectorizer):\n",
    "    corpus_tf_idf = vectorizer.transform(corpus) # create sparse tf-idf representations of corpus\n",
    "\n",
    "    new_corpus = np.zeros((len(corpus), embeddings_size)) # 5000 x m\n",
    "    \n",
    "    i = 0 # counter\n",
    "    for movie in corpus:\n",
    "        tokens = [w for w in word_tokenize(movie)] # tokenize plot summary to words\n",
    "        numerator = np.zeros(embeddings_size)\n",
    "        denominator = 0\n",
    "        for word in tokens:\n",
    "            if word in vectorizer.vocabulary_:\n",
    "                idx = vectorizer.vocabulary_[word] # get index of word in sparse array\n",
    "            else:\n",
    "                continue\n",
    "            tfidf = corpus_tf_idf[i,idx] # tf-idf value of word\n",
    "            \n",
    "            if word in vectors.index_to_key: # check if the word exists in the Word2Vec Pretrained Model's Vocab\n",
    "                numerator += tfidf * vectors[word]\n",
    "                denominator += tfidf\n",
    "            else:\n",
    "                continue\n",
    "                \n",
    "        new_corpus[i,:] = numerator/denominator\n",
    "        i +=1\n",
    "    \n",
    "    return new_corpus"
   ]
  },
  {
   "cell_type": "code",
   "execution_count": 31,
   "metadata": {},
   "outputs": [],
   "source": [
    "tfw2v_corpus = build_tfw2v(clean_corpus, vectors = model, embeddings_size = 200, vectorizer = optimal_vectorizer)"
   ]
  },
  {
   "cell_type": "code",
   "execution_count": 32,
   "metadata": {},
   "outputs": [
    {
     "name": "stdout",
     "output_type": "stream",
     "text": [
      "(5000, 200)\n"
     ]
    }
   ],
   "source": [
    "print(tfw2v_corpus.shape)"
   ]
  },
  {
   "cell_type": "code",
   "execution_count": 33,
   "metadata": {},
   "outputs": [
    {
     "name": "stdout",
     "output_type": "stream",
     "text": [
      "Recommending Movies Similar to Movie with ID = 0\n",
      "Title: Sharpe's Peril\n",
      "Category: \"Action\",  \"Drama\",  \"Adventure\" \n",
      "\n",
      "======= Plot Summary: ========\n",
      "The story continues from where Sharpe's Challenge left off. On their way home to England, Richard Sharpe  and Patrick Harper  reluctantly agree to escort Marie-Angelique Bonnet  to the hill fort of Kalimgong, where her fiancé, Major Joubert , is stationed. They encounter a baggage train heading to M...\n",
      "\n",
      "1) Movie ID: 1456\n",
      "Title: The Station Agent\n",
      "Category:  \"Comedy-drama\",  \"Tragicomedy\",  \"Drama\",  \"Comedy\",  \"Indie\"\n",
      "Similarity:  95.28 %\n",
      "\n",
      "======= Plot Summary: =======\n",
      "Finbar McBride, a quiet, withdrawn, unmarried man with achondroplastic dwarfism, has a deep love of railroads. He works in a Hoboken model train hobby shop owned by his elderly and similarly taciturn friend Henry Styles. Because he feels ostracized by a public that tends to view him as peculiar due ...\n",
      "\n",
      "2) Movie ID: 1982\n",
      "Title: Venky\n",
      "Category:  \"Mystery\",  \"Romance Film\"\n",
      "Similarity:  95.12 %\n",
      "\n",
      "======= Plot Summary: =======\n",
      "Venkateswarlu  is a wayward youth in Vizag who roams around with his friends all the time. One day he - along with his three buddies - accidentally gets selected in police selections. Venky and his friends embark on a journey from Vizag to Hyderabad to join police academy for the training. He falls ...\n",
      "\n",
      "3) Movie ID: 4255\n",
      "Title: Casablanca Express\n",
      "Category:  \"Action/Adventure\",  \"Action\",  \"Drama\",  \"World cinema\",  \"War film\"\n",
      "Similarity:  94.94 %\n",
      "\n",
      "======= Plot Summary: =======\n",
      "In 1942 Winston Churchill arrives in Algiers. He plans to travel on to Casablanca where he will meet Franklin D. Roosevelt and Joseph Stalin for the Casablanca Conference. His aides and army commanders strongly advise against travelling by train, but Churchill is adamant. Intelligence discovers that...\n",
      "\n",
      "4) Movie ID: 2321\n",
      "Title: Rails & Ties\n",
      "Category:  \"Family Drama\",  \"Drama\",  \"Indie\"\n",
      "Similarity:  94.44 %\n",
      "\n",
      "======= Plot Summary: =======\n",
      " Laura Danner is a mentally-ill, single mother who takes illegal drugs and is unable to care for her 10-year-old son Davey. Driven to despair, she decides to commit suicide by driving a car on to a railway track, taking Davey with her. She even offers him some tablets beforehand to subdue him though...\n",
      "\n",
      "5) Movie ID: 181\n",
      "Title: Three for Bedroom \"C\"\n",
      "Category:  \"Travel\",  \"Comedy\"\n",
      "Similarity:  94.36 %\n",
      "\n",
      "======= Plot Summary: =======\n",
      "Ann Haven , an aging movie actress, receives an urgent wire demanding that she immediately return to Hollywood to star in a new film. She is not thrilled with the idea, but decides to go anyway. She plans to leave New York for Los Angeles by train, bringing along her bold young daughter, Barbara . U...\n",
      "\n"
     ]
    }
   ],
   "source": [
    "content_recommender(target_movie = 0, max_recommendations = 5, corpus_type = csr_matrix(tfw2v_corpus), print_plots = True)"
   ]
  },
  {
   "cell_type": "markdown",
   "metadata": {
    "id": "NPVK7Z5c1p5F"
   },
   "source": [
    "## Ανάλυση αποτελεσμάτων\n",
    "\n",
    "### Σύστημα συστάσεων βασισμένο μόνο στο tfidf\n",
    "\n",
    "- Σε markdown περιγράψτε τι προεπεξεργασία κάνετε στα κείμενα και γιατί.\n",
    "\n",
    "- Περιγράψτε πως προχωρήσατε στις επιλογές σας για τη βελτιστοποίηση της `TfidfVectorizer`. \n",
    "\n",
    "- [Cherry-picking:](https://www.wikiwand.com/en/Cherry_picking) Δώσετε παραδείγματα (IDs) από τη συλλογή σας που επιστρέφουν καλά αποτελέσματα μέχρι `max_recommendations` (τουλάχιστον 5) και σχολιάστε.\n",
    "\n",
    "- [Nir-picking:](https://www.merriam-webster.com/dictionary/nit-picking) Δώστε παραδείγματα (IDs) από τη συλλογή σας που επιστρέφουν κακά αποτελέσματα και σχολιάστε.\n",
    "\n",
    "- Ποια είναι συνολικά τα πλεονεκτήματα και μειονεκτήματα ενός recommender βασισμένου στο tfidf;"
   ]
  },
  {
   "cell_type": "markdown",
   "metadata": {},
   "source": [
    "#### **Προεπεξεργασία Κειμένου**:\n",
    "Στο στάδιο της προεπεξεργασίας του corpus ακολουθήσαμε τα εξής βήματα:\n",
    "- Αρχικά προσδιορίσαμε τα **stopwords**, δηλαδή τις λέξεις που θα αφαιρεθούν από το κείμενο καθώς δεν συνεισφέρουν στην κατηγοριοποίηση του περιεχόμενου του. Μέσα σε αυτές, συμπεριλάβαμε κοινές αγγλικές λέξεις, λέξεις συνήθεις για περιγραφές ταινιών καθώς και κοινότυπα αγγλικά ονόματα, ώστε να αποφέυγουμε συγχύσεις ταινιών διαφορετικής πλοκής απλώς επειδή οι πρωταγωνιστές έχουν το ίδιο όνομα.\n",
    "- Έπειτα, προβήκαμε στον **καθαρισμό του corpus**: Διώξαμε τυχόν spaces στην αρχή και στο τέλος του κειμένου. Μετατρέψαμε όλα τα γράμματα σε πεζά. Αφαιρέσαμε καταλήξεις 's, ειδικούς χαρακτήρε \\n kai \\r καθώς και τυχόν url links. Κρατήσαμε μόνο πεζά γράμματα, ψηφία και κενά. Εν τέλει περιοριστήκαμε σε λέξεις που δεν ανήκουν στα Stopwords και έχουν μήκος χαρακτήρων μεταξύ 4 και 15, πετώντας πολύ μεγάλες λέξεις που είναι εξαιρετικά σπάνιες στην αγγλική. Με αυτόν τον τρόπο, διαμορφώνουμε μια ομοιομορφία στο corpus ώστε να μπορούμε να αναπτύξουμε στην συνέχεια έναν εύρωστο tf-idf vectorizer.\n",
    "- Επίσης, **δεν εφαρμόζουμε stemming**, ώστε να μην προκαλέσουμε προβλήματα στη χρήση προεκπαιδευμένων embeddings."
   ]
  },
  {
   "cell_type": "markdown",
   "metadata": {},
   "source": [
    "#### Βελτιστοποίηση tf-idf Vectorizer:\n",
    "Στην προκειμένη περίπτωση, βελτιστοποιούμε τον tf-idf Vectorizer πειραματιζόμενοι μόνο με τις παραμέτρους **max_df** και **min_df** που αφορούν σε στατιστικές συχνότητες ολόκληρων κειμένων. Ο στόχος μας είναι η μείωση της διαστατικότητας του αραιού πίνακα διανυσματικών αναπαραστάσεων, σε διαστάσεις περίπου 5000-7000, ώστε να μπορέσουμε και στη συνέχεια να εκπαιδεύσουμε με ευκολία και τα word embeddings. Για τον σκοπό αυτό, πειράζουμε τις τιμές των **max_df** και **min_df**, ώστε να μειώνεται η διαστατικότητα των vectors, μέχρι το σημείο που να μην έχουμε σοβαρές επιπτώσεις στα ποιοτικά αποτελέσματα του movie recommender."
   ]
  },
  {
   "cell_type": "markdown",
   "metadata": {},
   "source": [
    "#### **Cherry-Picking**:\n",
    "Παρατίθενται παραδείγματα (IDs) από τη συλλογή μας που επιστρέφουν καλά αποτελέσματα μέχρι max_recommendations = 5."
   ]
  },
  {
   "cell_type": "markdown",
   "metadata": {},
   "source": [
    "1. Προτείνονται **δράματα εποχής πολέμου με δράση και κατασκόπους**, δηλαδή ταινίες κοινού περιεχομένου με την target movie."
   ]
  },
  {
   "cell_type": "code",
   "execution_count": 34,
   "metadata": {},
   "outputs": [
    {
     "name": "stdout",
     "output_type": "stream",
     "text": [
      "Recommending Movies Similar to Movie with ID = 5\n",
      "Title: Kim\n",
      "Category: \"Television movie\",  \"Family Drama\",  \"Period piece\",  \"Drama\",  \"Film adaptation\",  \"Family Film\" \n",
      "\n",
      "======= Plot Summary: ========\n",
      "Kim  is a 15-year-old street orphan in Lahore of the 19th century . Kim thinks he is native, but he's actually of British origin, the son of an Irish soldier and an Indian mother. He is taken up as a guide by a travelling Tibetan lama  on a search for a river where Budda hurled an arrow, turning int...\n",
      "\n",
      "1) Movie ID: 1127\n",
      "Title: The Two-Headed Spy\n",
      "Category:  \"Thriller\",  \"Historical fiction\",  \"Docudrama\",  \"Mystery\",  \"Drama\",  \"War film\",  \"Action\",  \"Spy\"\n",
      "Similarity:  27.06 %\n",
      "\n",
      "======= Plot Summary: =======\n",
      "The story commences in 1939, Alex Schottland , a general in the German Army, is actually a British agent who was planted in Germany toward the end of the First World War. He is growing weary of being a spy, but is urged to continue by his friend and fellow British agent, Cornaz , who is posing as a ...\n",
      "\n",
      "2) Movie ID: 818\n",
      "Title: The Silent Enemy\n",
      "Category:  \"Biographical film\",  \"Historical fiction\",  \"Action\",  \"War film\"\n",
      "Similarity:  26.08 %\n",
      "\n",
      "======= Plot Summary: =======\n",
      "The story begins with a dramatisation of the Italian manned torpedo raid on Alexandria in which two British battleships were sunk. The British are worried that this new Italian tactic will give the enemy naval supremacy in the Mediterranean. From Spain, an Italian expert on underwater operations is ...\n",
      "\n",
      "3) Movie ID: 2971\n",
      "Title: A Dandy in Aspic\n",
      "Category:  \"Thriller\",  \"Drama\",  \"Spy\"\n",
      "Similarity:  25.95 %\n",
      "\n",
      "======= Plot Summary: =======\n",
      "Eberlin's superiors in Britain instruct him to find and assassinate a KGB agent named Krasnevin, believed to have killed a number of British agents. This presents a problem for Eberlin, as he is Krasnevin. He is summoned to a meeting at a country house, where he is presented with a photograph of the...\n",
      "\n",
      "4) Movie ID: 12\n",
      "Title: Ponthan Mada\n",
      "Category:  \"Drama\"\n",
      "Similarity:  24.38 %\n",
      "\n",
      "======= Plot Summary: =======\n",
      "Ponthan Mada is based on two short stories, Ponthan Mada and Sheema Thampuran by C. V. Sreeraman. Set in the 1940s British India, the film is about the extra ordinary, touching and heartening bonding of the so-called low-caste Ponthan Mada  with his colonial landlord Sheema Thampuran , who was expel...\n",
      "\n",
      "5) Movie ID: 3165\n",
      "Title: Gunga Din\n",
      "Category:  \"Adventure\",  \"British Empire Film\",  \"Epic\",  \"Black-and-white\",  \"Action/Adventure\",  \"Drama\",  \"War film\",  \"Action\",  \"Cavalry Film\"\n",
      "Similarity:  23.74 %\n",
      "\n",
      "======= Plot Summary: =======\n",
      "On the Northwest Frontier of colonial India, circa 1880, contact has been lost with a British outpost at Tantrapur in the midst of a telegraph message. Colonel Weed  dispatches a detachment of 25 British Indian Army troops to investigate, led by three sergeants of the Royal Engineers, MacChesney , C...\n",
      "\n"
     ]
    }
   ],
   "source": [
    "content_recommender(target_movie = 5, max_recommendations = 5, corpus_type = corpus_tf_idf_optimal, print_plots = True)"
   ]
  },
  {
   "cell_type": "markdown",
   "metadata": {},
   "source": [
    "2. Παρόλο που οι προτεινόμενες ταινίες δεν ανήκουν απαραίτητα στην κατηγορία 'black and white', όπως η target movie, έχουν κοινό περιεχόμενο πλοκής. Ειδικότερα, προτείνονται **κωμωδίες ή δράματα που διαδραματίζονται σε σχολικό περιβάλλον** και αφορούν μαθητές και δασκάλους. Πρόκειται δηλαδή για εφηβικές ταινίες."
   ]
  },
  {
   "cell_type": "code",
   "execution_count": 35,
   "metadata": {},
   "outputs": [
    {
     "name": "stdout",
     "output_type": "stream",
     "text": [
      "Recommending Movies Similar to Movie with ID = 111\n",
      "Title: Die Feuerzangenbowle\n",
      "Category: \"Black-and-white\" \n",
      "\n",
      "======= Plot Summary: ========\n",
      "The title refers to the  punch consumed by a group of gentlemen in the opening scene. While exchanging nostalgic stories about their schooldays, the successful young writer Dr. Johannes Pfeiffer realizes he missed out on something because he was taught at home and never attended school. He decides t...\n",
      "\n",
      "1) Movie ID: 4026\n",
      "Title: The Big Vacation\n",
      "Category:  \"Comedy\"\n",
      "Similarity:  25.11 %\n",
      "\n",
      "======= Plot Summary: =======\n",
      "Charles Bosquier is the dictatorial headmaster of a French school. One of his own sons miserably failed his exams, so he sends him to England as exchange student....\n",
      "\n",
      "2) Movie ID: 4082\n",
      "Title: The Chorus\n",
      "Category:  \"Musical\",  \"Drama\"\n",
      "Similarity:  23.76 %\n",
      "\n",
      "======= Plot Summary: =======\n",
      "50 years after the main story takes place, a man is shown conducting an orchestra. While conducting, he is informed that his mother has died. After the performance, he returns home for the funeral. Soon, an old friend called Pépinot arrives at his door with a diary. It is the diary of their teacher,...\n",
      "\n",
      "3) Movie ID: 2686\n",
      "Title: Freedom Writers\n",
      "Category:  \"Crime Fiction\",  \"Biography\",  \"Drama\",  \"Teen\"\n",
      "Similarity:  22.21 %\n",
      "\n",
      "======= Plot Summary: =======\n",
      "The main events depicted take place between 1994–1996, beginning with scenes from the 1992 Los Angeles riots. Swank plays the role of Erin Gruwell, a new, excited school teacher who leaves the safety of her hometown, Newport Beach, to teach at Woodrow Wilson High School in Long Beach, a formerly hig...\n",
      "\n",
      "4) Movie ID: 679\n",
      "Title: A French Mistress\n",
      "Category:  \"Comedy\"\n",
      "Similarity:  21.84 %\n",
      "\n",
      "======= Plot Summary: =======\n",
      "A young French woman, Madaleine Lafarge , is appointed as a French teacher at a rather old-fashioned English public school which is not used to women teachers. She causes a stir and complications ensue. A romance develops between her and the headmaster's son  who is also a teacher at the school. The...\n",
      "\n",
      "5) Movie ID: 4427\n",
      "Title: Gross Misconduct\n",
      "Category:  \"Thriller\",  \"Drama\"\n",
      "Similarity:  18.91 %\n",
      "\n",
      "======= Plot Summary: =======\n",
      "At an all-girls academy in Australia, a married philosophy professor, Justin Thorne, attracts a fervent admirer in one of his students, Jennifer Carter. Daughter of the school's headmaster, Jennifer is driven by a passion for the professor, practically throwing herself at him. Thorne resists repeate...\n",
      "\n"
     ]
    }
   ],
   "source": [
    "content_recommender(target_movie = 111, max_recommendations = 5, corpus_type = corpus_tf_idf_optimal, print_plots = True)"
   ]
  },
  {
   "cell_type": "markdown",
   "metadata": {},
   "source": [
    "3. Άλλη μια φορά το σύστημα μας λειτουργεί επιτυχημένα, καθώς για την target movie 'Meet the Parents' προτείνει κατά βάση **ρομαντικές κομεντί** και πιο πρόσχαρες ταινίες με παρόμοιο περιεχόμενο."
   ]
  },
  {
   "cell_type": "code",
   "execution_count": 36,
   "metadata": {},
   "outputs": [
    {
     "name": "stdout",
     "output_type": "stream",
     "text": [
      "Recommending Movies Similar to Movie with ID = 645\n",
      "Title: Meet the Parents\n",
      "Category: \"Comedy\" \n",
      "\n",
      "======= Plot Summary: ========\n",
      "A clumsy but well-meaning young man named Greg  is on his way to visit his girlfriend Pam's  parents for the first time. Stopping at a gas station on the way, he is warned by an attendant  of his girlfriend's previous boyfriend's catastrophic experience when he first met her overprotective father. H...\n",
      "\n",
      "1) Movie ID: 3184\n",
      "Title: Police Story\n",
      "Category:  \"Romance Film\",  \"Action\"\n",
      "Similarity:  19.59 %\n",
      "\n",
      "======= Plot Summary: =======\n",
      "A melodrama about a man who chooses the career of a police officer in spite of his girlfriend's objection and social stigma. After he is injured in the line of duty, he and his girlfriend get married.Synopsis based on ...\n",
      "\n",
      "2) Movie ID: 1660\n",
      "Title: Tillie's Punctured Romance\n",
      "Category:  \"Romantic comedy\",  \"Silent film\",  \"Indie\",  \"Black-and-white\",  \"Drama\",  \"Comedy\",  \"Romantic drama\",  \"Romance Film\",  \"Slapstick\"\n",
      "Similarity:  19.32 %\n",
      "\n",
      "======= Plot Summary: =======\n",
      " Chaplin portrays a womanizing city man who meets Tillie  in the country after a fight with his girlfriend . When he sees that Tillie's father has a very large bankroll for his workers, he persuades her to elope with him. In the city, he meets the woman he was seeing already, and tries to work aroun...\n",
      "\n",
      "3) Movie ID: 3162\n",
      "Title: Nativity\n",
      "Category:  \"Holiday Film\",  \"Comedy\",  \"Religious Film\"\n",
      "Similarity:  18.13 %\n",
      "\n",
      "======= Plot Summary: =======\n",
      "Paul Maddens  is a \"frustrated, under-achieving primary school teacher\". Every year St Bernadette's school competes with a local private school  to see who can produce the best nativity play. Maddens is chosen to create the Nativity play, but he doesn't like Christmas because his ex-girlfriend moved...\n",
      "\n",
      "4) Movie ID: 4089\n",
      "Title: Art Museum by the Zoo\n",
      "Category:  \"Romantic comedy\"\n",
      "Similarity:  17.42 %\n",
      "\n",
      "======= Plot Summary: =======\n",
      "On leave from the military, Cheol-soo arrives at his girlfriend's apartment only to find it occupied by another woman, Choon-hee. After a few days he finds out that his girlfriend is now engaged to someone else, and having nowhere else to go he ends up staying with Choon-hee. At first the two strugg...\n",
      "\n",
      "5) Movie ID: 4151\n",
      "Title: Blue Hawaii\n",
      "Category:  \"Romantic comedy\",  \"Romance Film\",  \"Musical\",  \"Comedy\"\n",
      "Similarity:  16.95 %\n",
      "\n",
      "======= Plot Summary: =======\n",
      "Chadwick Gates  has just gotten out of the Army, and is happy to be back in Hawaii with his surfboard, his beach buddies, and his girlfriend. His mother wants him to go to work at the Great Southern Hawaiian Fruit Company, but Chad is reluctant, so Chad goes to work as a tour guide at his girlfriend...\n",
      "\n"
     ]
    }
   ],
   "source": [
    "content_recommender(target_movie = 645, max_recommendations = 5, corpus_type = corpus_tf_idf_optimal, print_plots = True)"
   ]
  },
  {
   "cell_type": "markdown",
   "metadata": {},
   "source": [
    "4. Πάλι για είσοδο ένα ρομαντικό δράμα, το recommendation system προτείνει ως ταινίες **ρομαντικά δράματα** με κοινό άξονα την αγάπη, σκοτεινά παρελθόντα, τον γάμο και τις δυσκολίες του... (κλισέ)"
   ]
  },
  {
   "cell_type": "code",
   "execution_count": 37,
   "metadata": {},
   "outputs": [
    {
     "name": "stdout",
     "output_type": "stream",
     "text": [
      "Recommending Movies Similar to Movie with ID = 457\n",
      "Title: Welcome to L.A.\n",
      "Category: \"Ensemble Film\",  \"Drama\",  \"Romantic drama\" \n",
      "\n",
      "======= Plot Summary: ========\n",
      "The theme of romantic despair and shallowness is displayed utilizing a La Ronde-like circle of sexual adventures and failed affairs centered around songwriter Carroll Barber, played by Keith Carradine, which spread out through the city. Barber is an aloof womanizer who cannot commit or love and is u...\n",
      "\n",
      "1) Movie ID: 3186\n",
      "Title: Sally of the Sawdust\n",
      "Category:  \"Romantic comedy\",  \"Silent film\",  \"Melodrama\",  \"Drama\",  \"Comedy\"\n",
      "Similarity:  17.19 %\n",
      "\n",
      "======= Plot Summary: =======\n",
      "Because she married a circus performer, Judge Foster  casts out his only daughter. Just before her death a few years later, she leaves her little girl Sally in the care of her friend McGargle , a good-natured crook, juggler and faker. Sally  grows up in this atmosphere and is unaware of her parentag...\n",
      "\n",
      "2) Movie ID: 4889\n",
      "Title: House of Wedlock\n",
      "Category:  \"Japanese Movies\"\n",
      "Similarity:  15.78 %\n",
      "\n",
      "======= Plot Summary: =======\n",
      "Tokiko Enomoto finds out that her husband Kazuya, who mostly lives at an apartment near his work while she and their children live at home, has been having an affair with a live-in mistress, Ryōko, at his apartment. Tokiko tells her two sons, Tarō and Jirō, that she has decided to divorce their fath...\n",
      "\n",
      "3) Movie ID: 2511\n",
      "Title: The Anniversary Party\n",
      "Category:  \"Ensemble Film\",  \"Indie\",  \"Comedy-drama\",  \"Marriage Drama\",  \"Drama\",  \"Comedy\",  \"Black comedy\"\n",
      "Similarity:  12.94 %\n",
      "\n",
      "======= Plot Summary: =======\n",
      "Sally Nash and Joe Therrian are a Hollywood couple celebrating their sixth wedding anniversary shortly after reconciling following a period of separation. He is a novelist who is about to direct the screen adaptation of his most recent bestseller; she is an actress he has opted not to cast in the le...\n",
      "\n",
      "4) Movie ID: 1162\n",
      "Title: Carry On Spying\n",
      "Category:  \"Parody\",  \"Comedy\"\n",
      "Similarity:  12.52 %\n",
      "\n",
      "======= Plot Summary: =======\n",
      "A top secret chemical formula has been stolen by STENCH . Fearful of what would happen if that formula fell into the wrong hands, the Chief of the Secret Service reluctantly sends the only agent he has left, the bumbling and snide Agent Desmond Simpkins, , and his three trainees, Agent Harold Crump,...\n",
      "\n",
      "5) Movie ID: 896\n",
      "Title: Loyalties\n",
      "Category:  \"Drama\"\n",
      "Similarity:  12.2 %\n",
      "\n",
      "======= Plot Summary: =======\n",
      "Loyaties is a story about the relationships between an upper-class Englishwoman, her husband and their housekeeper....\n",
      "\n"
     ]
    }
   ],
   "source": [
    "content_recommender(target_movie = 457, max_recommendations = 5, corpus_type = corpus_tf_idf_optimal, print_plots = True)"
   ]
  },
  {
   "cell_type": "markdown",
   "metadata": {},
   "source": [
    "5. Βλέπουμε πάλι ότι προτείνονται κοινές ταινίες κυρίως δράσης, horror, και με υπερφυσικά στοιχεία, οι οποίες έχουν ως κοινό παρονομαστή στην πλοκή τους τον στρατό, τον πόλεμο και τη μάχη απέναντι σε υπερφυσικές και μη δυνάμεις."
   ]
  },
  {
   "cell_type": "code",
   "execution_count": 38,
   "metadata": {},
   "outputs": [
    {
     "name": "stdout",
     "output_type": "stream",
     "text": [
      "Recommending Movies Similar to Movie with ID = 564\n",
      "Title: Sometimes They Come Back… for More\n",
      "Category: \"Thriller\",  \"Horror\",  \"Suspense\",  \"Supernatural\" \n",
      "\n",
      "======= Plot Summary: ========\n",
      "The movie is set in Antarctica, where the U.S. military has a secret illegal mining operation. When one of the personnel stationed at the base goes on a rampage, two military operatives are sent to investigate. Discovering two survivors, medical officer Jennifer Wells  and technical officer Shebansk...\n",
      "\n",
      "1) Movie ID: 2210\n",
      "Title: Down\n",
      "Category:  \"Thriller\",  \"Action/Adventure\",  \"Action\",  \"Horror\"\n",
      "Similarity:  21.69 %\n",
      "\n",
      "======= Plot Summary: =======\n",
      "When several people die unexpectedly in an express elevator in a New York City landmark called the Millennium Building, everyone, at first, thinks it is a technical problem. But when repairmen repeatedly cannot find any problems with the elevator, it is clear that something else is at work. A tabloi...\n",
      "\n",
      "2) Movie ID: 3750\n",
      "Title: Batoru rowaiaru II: Chinkonka\n",
      "Category:  \"Thriller\",  \"Japanese Movies\",  \"World cinema\",  \"Action/Adventure\",  \"Drama\",  \"Action\",  \"Dystopia\"\n",
      "Similarity:  20.9 %\n",
      "\n",
      "======= Plot Summary: =======\n",
      "The survivors of previous Battles Royale, led by Shuya Nanahara, have formed a rebel group called the \"Wild Seven\". A class of teenagers from  are kidnapped by the Japanese government. Instead of stereotypically studious Japanese students, these ninth graders are “a ragtag collection of delinquents ...\n",
      "\n",
      "3) Movie ID: 4556\n",
      "Title: Moon 44\n",
      "Category:  \"Thriller\",  \"Action Thrillers\",  \"Science Fiction\",  \"Indie\",  \"World cinema\",  \"Action/Adventure\",  \"Action\",  \"Adventure\"\n",
      "Similarity:  19.61 %\n",
      "\n",
      "======= Plot Summary: =======\n",
      "By the year 2038 all natural resources on Earth have been depleted. Multinational corporations have taken control of the universe and rival companies fight deadly battles over mining planets in outer space. One of these battlefields is the Moon 44 fuel mining operation in the Outer Zone, which is th...\n",
      "\n",
      "4) Movie ID: 919\n",
      "Title: Between Floors\n",
      "Category:  \"Indie\"\n",
      "Similarity:  19.23 %\n",
      "\n",
      "======= Plot Summary: =======\n",
      "Between Floors focuses on five stuck elevators, each containing people inside them. As time passes, the people in each elevator deal with the isolation and containment in various ways....\n",
      "\n",
      "5) Movie ID: 1570\n",
      "Title: Prithvi\n",
      "Category:  \"Political drama\"\n",
      "Similarity:  18.54 %\n",
      "\n",
      "======= Plot Summary: =======\n",
      "Prithvi Kumar is an honest young IAS Officer who get to work as District Commissioner for Bellary District. His main aim is to eradicate the ongoing corruption in the District and stick to his principles, Honesty and Corruptionless administration. Once he take over the office, he will be taken aback...\n",
      "\n"
     ]
    }
   ],
   "source": [
    "content_recommender(target_movie = 564, max_recommendations = 5, corpus_type = corpus_tf_idf_optimal, print_plots = True)"
   ]
  },
  {
   "cell_type": "markdown",
   "metadata": {},
   "source": [
    "#### **Nir-Picking**:\n",
    "Παρατίθενται παραδείγματα (IDs) από τη συλλογή μας που επιστρέφουν κακά αποτελέσματα"
   ]
  },
  {
   "cell_type": "markdown",
   "metadata": {},
   "source": [
    "1. Για είσοδο την ταινία - παρωδία επιστημονικής φαντασίας με εξωγήινους 'Mars Attacks!' (η οποία btw είναι εκπληκτική), το σύστημα αποτυγχάνει να προτείνει άλλες ταινίες με παρόμοια πλοκή. Αντιθέτως, παρατηρούμε ότι το σύστημα εστιάζει κυρίως στη λέξη president (καθώς στην target movie εμφανίζεται ο πρόεδρος των ΗΠΑ), με αποτέλεσμα να προτείνει από πολιτικά δράματα μέχρι και ρομαντικές κομεντί, ταινίες στις οποίες με τον έναν ή τον άλλον τρόπο εμφανίζεται ένας πρόεδρος."
   ]
  },
  {
   "cell_type": "code",
   "execution_count": 39,
   "metadata": {},
   "outputs": [
    {
     "name": "stdout",
     "output_type": "stream",
     "text": [
      "Recommending Movies Similar to Movie with ID = 189\n",
      "Title: Mars Attacks!\n",
      "Category: \"Thriller\",  \"Parody\",  \"Science Fiction\",  \"Ensemble Film\",  \"Alien Film\",  \"Fantasy\",  \"Comedy\",  \"Action\" \n",
      "\n",
      "======= Plot Summary: ========\n",
      "When Martians surround Earth with an armada of flying saucers, President James \"Jimmy\" Dale addresses America concerning the historic event. People around the country follow the story, including news anchors in New York, employees and guests at the Luxor Las Vegas hotel in Nevada and a trailer trash...\n",
      "\n",
      "1) Movie ID: 2732\n",
      "Title: The Man\n",
      "Category:  \"Television movie\",  \"Drama\",  \"Political drama\",  \"Film adaptation\"\n",
      "Similarity:  39.9 %\n",
      "\n",
      "======= Plot Summary: =======\n",
      "President Fenton and the Speaker of the United States House of Representatives are killed while at a summit in Frankfurt, West Germany when the palace hosting the legation suffers a collapse. Vice President Noah Calvin, elderly and in very ill health, refuses to assume the office, pointing out that ...\n",
      "\n",
      "2) Movie ID: 3492\n",
      "Title: Death of a President\n",
      "Category:  \"Crime Fiction\",  \"Thriller\",  \"Parody\",  \"Mockumentary\",  \"Mystery\",  \"Drama\",  \"Comedy\",  \"Political cinema\",  \"Political drama\"\n",
      "Similarity:  28.68 %\n",
      "\n",
      "======= Plot Summary: =======\n",
      "Broadcast in the year 2008, the film is presented in a TV documentary style format, combining talking head interviews, news coverage clips and video surveillance footage surrounding the assassination of U.S. President George W. Bush in Chicago around a year earlier on 19 October 2007. The president ...\n",
      "\n",
      "3) Movie ID: 3193\n",
      "Title: My Date with the President's Daughter\n",
      "Category:  \"Romantic comedy\",  \"Family Film\",  \"Comedy\",  \"Teen\"\n",
      "Similarity:  25.45 %\n",
      "\n",
      "======= Plot Summary: =======\n",
      "Duncan Fletcher  is an average teenager in search of a date to his school's spring dance. At the mall with his friends, he meets a girl named Hallie  who just happens to be the daughter of the President of the United States, George Richmond . Duncan, not realizing this, asks her to his school's danc...\n",
      "\n",
      "4) Movie ID: 865\n",
      "Title: Executive Suite\n",
      "Category:  \"Drama\",  \"Film adaptation\"\n",
      "Similarity:  24.05 %\n",
      "\n",
      "======= Plot Summary: =======\n",
      "Avery Bullard, president and driving force of the Tredway Corporation, a major company in the small town of Millburgh, Pennsylvania, dies suddenly while in New York City. Bullard drops dead in the street after a stroke moments after telegraphing his secretary with orders to call a meeting of the exe...\n",
      "\n",
      "5) Movie ID: 3953\n",
      "Title: La Passante du Sans-Souci\n",
      "Category:  \"Action\",  \"Drama\",  \"Spy\"\n",
      "Similarity:  21.45 %\n",
      "\n",
      "======= Plot Summary: =======\n",
      "During an interview, Max Baumstein , respected chairman of a humanitarian organisation, shoots the Paraguayan ambassador dead, in cold blood. Tried for first-degree murder, he explains himself: the ambassador was a former Nazi official, responsible for the extermination of his family....\n",
      "\n"
     ]
    }
   ],
   "source": [
    "content_recommender(target_movie = 189, max_recommendations = 5, corpus_type = corpus_tf_idf_optimal, print_plots = True)"
   ]
  },
  {
   "cell_type": "markdown",
   "metadata": {},
   "source": [
    "2. Ένα δεύτερο παράδειγμα αποτυχίας είναι το εξής: ως target movie εισάγεται μια κωμωδία του 1939 η οποία διαδραμτίζεται στη Βρετανία και αφορά στοιχεία της θάλασσας και ψαράδες. Το σύστημα αντί να προτείνει κωμωδίες, λοιπόν, προτάσσει πολεμικές ταινίες και δράματα που αφορούν στην ίδια περίοδο (1939) και λαμβάνουν χώρα στη Βρετανία, όπως οι ταινίες Sons of the Sea, Children of Men κλπ. Επιπλέον, προτείνει από musical μέχρι και ρομαντικές κομεντί."
   ]
  },
  {
   "cell_type": "code",
   "execution_count": 40,
   "metadata": {},
   "outputs": [
    {
     "name": "stdout",
     "output_type": "stream",
     "text": [
      "Recommending Movies Similar to Movie with ID = 770\n",
      "Title: The Frozen Limits\n",
      "Category: \"Comedy\",  \"Slapstick\" \n",
      "\n",
      "======= Plot Summary: ========\n",
      " A group of British pioneers decide to take part in the 1898 Alaska and Yukon goldrush having read about it in the newspaper which wrapped up their fish and chips. Their main problem is that it is now 1939....\n",
      "\n",
      "1) Movie ID: 3207\n",
      "Title: Not Quite Human II\n",
      "Category:  \"Comedy\"\n",
      "Similarity:  36.48 %\n",
      "\n",
      "======= Plot Summary: =======\n",
      "The film begins with Chip , the android, installing specially-ordered software designed to enhance his facial expressions; it is later discovered that he also inadvertently intakes a computer virus that causes him to malfunction very gradually, diminishing control over his own system's functions. In...\n",
      "\n",
      "2) Movie ID: 4525\n",
      "Title: Revenge of the Nerds IV: Nerds in Love\n",
      "Category:  \"Romance Film\",  \"Comedy\"\n",
      "Similarity:  21.31 %\n",
      "\n",
      "======= Plot Summary: =======\n",
      "In this movie, Dudley \"Booger\" Dawson  is getting married to his Omega Mu girlfriend Jeannie , but the father of the bride tries to stop them, as he is not keen on welcoming the likes of Booger into his family, despite the fact Dudley would be a good husband to Jeannie as they share many common inte...\n",
      "\n",
      "3) Movie ID: 953\n",
      "Title: Children of Men\n",
      "Category:  \"Thriller\",  \"Action Thrillers\",  \"Science Fiction\",  \"Future noir\",  \"Adventure\",  \"Doomsday film\",  \"Action/Adventure\",  \"Mystery\",  \"Drama\",  \"Film adaptation\",  \"Action\",  \"Dystopia\"\n",
      "Similarity:  20.03 %\n",
      "\n",
      "======= Plot Summary: =======\n",
      "In 2027, after 18 years of worldwide female infertility, civilisation is on the brink of collapse as humanity faces the grim reality of extinction. For years the United Kingdom, one of the few stable nations with a functioning government, has been deluged by asylum seekers from around the world, fle...\n",
      "\n",
      "4) Movie ID: 2313\n",
      "Title: On the Town\n",
      "Category:  \"Musical\"\n",
      "Similarity:  19.65 %\n",
      "\n",
      "======= Plot Summary: =======\n",
      "As three sailors &ndash; Gabey, Chip, and Ozzie &ndash; begin their shore leave, Gabey falls in love with the picture of \"Miss Turnstiles\", who is actually Ivy Smith. The sailors race around New York attempting to find her in the brief period they have (\"[[New York, New York . They are assisted by, ...\n",
      "\n",
      "5) Movie ID: 999\n",
      "Title: Sons of the Sea\n",
      "Category:  \"War film\"\n",
      "Similarity:  18.44 %\n",
      "\n",
      "======= Plot Summary: =======\n",
      "England, 1939. The head of Dartmouth Naval College is murdered. His successor, Captain Hyde, believes that he was in fact the intended target of the assassination. He soon begins to realise that both British and foreign intelligence agents are at work. He enlists the help of his son, a reluctant sea...\n",
      "\n"
     ]
    }
   ],
   "source": [
    "content_recommender(target_movie = 770, max_recommendations = 5, corpus_type = corpus_tf_idf_optimal, print_plots = True)"
   ]
  },
  {
   "cell_type": "markdown",
   "metadata": {},
   "source": [
    "3. Ενώ η target movie 'Dreams and Shadows' είναι μια ταινία οικογενειακό δράμα, επειδή στην περιγραφή της χρησιμοποιούνται λέξεις όπως vengeance, revenge, survival κλπ, το Recommendation System μπερδεύεται και αντί για δράματα προτείνει ταινίες δράσης, Western, Gangster Films και Thrillers που έχουν έντονα μέσα τους το στοιχείο της δράσης και της εκδίκησης. Το εν λόγο παράδειγμα, είναι μια κλάσικη περίπτωση, κατά την οποία η tf-idf αναπαραστάσεις αδυνατούν να πραγματώσουν σημασιολογικές σχέσεις μεταξύ λέξεων των κειμένων - περιγραφών."
   ]
  },
  {
   "cell_type": "code",
   "execution_count": 41,
   "metadata": {},
   "outputs": [
    {
     "name": "stdout",
     "output_type": "stream",
     "text": [
      "Recommending Movies Similar to Movie with ID = 131\n",
      "Title: Dreams and Shadows\n",
      "Category: \"Drama\" \n",
      "\n",
      "======= Plot Summary: ========\n",
      "Billy , a teenage outcast drifts into his own vivid imagination to escape his bleak surroundings. His father  is a paraplegic whose own dreams of happiness have faded away in an alcoholic haze. In a twisted attempt to find his purpose in life, the teen hatches a plot to seek vengeance on the man who...\n",
      "\n",
      "1) Movie ID: 1622\n",
      "Title: Rough Romance\n",
      "Category:  \"Western\",  \"Adventure\",  \"Black-and-white\"\n",
      "Similarity:  15.72 %\n",
      "\n",
      "======= Plot Summary: =======\n",
      "Working as lumberjacks in the Northwest, Billy West ([[George O'Brien  and his pal Laramie  spy two men stealing furs from a trap, but they arrive too late to save the trap owner from being shot. Billy suspects Loup LaTour  and his partner Chick Carson . While Marna Reynolds  dreams of dances and pi...\n",
      "\n",
      "2) Movie ID: 3815\n",
      "Title: Billy Bathgate\n",
      "Category:  \"Crime Fiction\",  \"Gangster Film\",  \"Period piece\",  \"Coming of age\",  \"Film adaptation\",  \"Drama\",  \"Crime Thriller\"\n",
      "Similarity:  15.07 %\n",
      "\n",
      "======= Plot Summary: =======\n",
      "Billy Behan is a poor 15-year-old kid in the 1930s Bronx. After the wealthy gangster Dutch Schultz takes him under his wing, Billy adopts the name of a neighborhood street and begins to work for the organization. Billy is taught the ropes by Dutch's business associate Otto Berman and given menial ch...\n",
      "\n",
      "3) Movie ID: 408\n",
      "Title: Air America\n",
      "Category:  \"Adventure\",  \"Action Comedy\",  \"Action/Adventure\",  \"Period piece\",  \"Comedy\",  \"War film\",  \"Action\",  \"Airplanes and airports\"\n",
      "Similarity:  14.41 %\n",
      "\n",
      "======= Plot Summary: =======\n",
      "In late 1969, Billy Covington  works as a helicopter traffic pilot for a Los Angeles radio station, and the FAA suspends his pilot's license after breaking several safety regulations on the job. His piloting skills, bravery and disregard for the law are noticed by a mysterious government agent, who ...\n",
      "\n",
      "4) Movie ID: 2005\n",
      "Title: The Big Wheel\n",
      "Category:  \"Action/Adventure\",  \"Black-and-white\",  \"Sports\",  \"Drama\",  \"Action\",  \"Auto racing\"\n",
      "Similarity:  12.66 %\n",
      "\n",
      "======= Plot Summary: =======\n",
      "Rooney plays Billy Coy, a young man determined to follow in his father's footsteps as a race car driver. Despite the fact that his father, \"Cannonball\" Coy, was killed in a fiery crash during the Indianapolis 500, Billy is undaunted and manages to work his way up from race mechanic to top driver. Th...\n",
      "\n",
      "5) Movie ID: 4338\n",
      "Title: The Angel Who Pawned Her Harp\n",
      "Category:  \"Comedy film\",  \"Fantasy\"\n",
      "Similarity:  12.47 %\n",
      "\n",
      "======= Plot Summary: =======\n",
      "A beautiful blonde angel arrives in Islington on a goodwill mission to soften the heart of pawnbroker Joshua Webman. To raise money for her mission she pawns her harp at a second hand store. Bringing out the best in the people she meets, she shows them the path down where their happiness lies....\n",
      "\n"
     ]
    }
   ],
   "source": [
    "content_recommender(target_movie = 131, max_recommendations = 5, corpus_type = corpus_tf_idf_optimal, print_plots = True)"
   ]
  },
  {
   "cell_type": "markdown",
   "metadata": {},
   "source": [
    "### **Πλεονεκτήματα ενός tf-idf Based Recommender**\n",
    "Μερικά από τα βασικά πλεονεκτήματα ενός movie recommender που στηρίζεται σε tf-idf αναπαραστάσεις είναι τα εξής:\n",
    "- Οι συχνότητες text frequency και inverse document frequency είναι εύκολο να υπολογιστούν (easy to calculate)\n",
    "- Μπρούμε να έχουμε κάποιες βασικές μετρικές αναφορικά με τους πιο περιγραφικούς όρους-λέξεις ενός κειμένου.\n",
    "- Εύκολα μπορούμε να υπολογίσουμε το similarity μεταξύ δύο documents χρησιμοποιοώντας τις εν λόγω αναπαραστάσεις.\n",
    "- Ο χρόνος που απαιτείται για τη δημιουργία αυτόν τον αναπαραστάσεων είναι πρακτικός και σχετικά σύντομος, συγκρίοντας τον με τη δημιουργία ενός Word2Vec Model."
   ]
  },
  {
   "cell_type": "markdown",
   "metadata": {},
   "source": [
    "### **Μειονεκτήματα ενός tf-idf Based Recommender**\n",
    "Μερικά από τα βασικά μειονεκτήματα ενός movie recommender που στηρίζεται σε tf-idf αναπαραστάσεις είναι τα εξής:\n",
    "- Η πίνακες που δημιουργούνται για τις εν λόγω αναπαραστάσεις είναι αραιοί, γεγονός που σημαίνει ότι για ένα πολύ μεγάλο λέξικο οδηγούμαστε σε απαγορευτικές απαιτήσεις μνήμης.\n",
    "- Οι αναπαραστάσεις tf-idf στηρίζονται στο μοντέλο bag-of-words (BoW), με αποτέλεσμα να μην μπορούν να ενσωματώσουν τη θέση των λέξεων στο κείμενο, semantics, co-occurrences σε διαφορετικά documents κλπ.\n",
    "- Το μοντέλο tf-idf δεν πραγματώνει τη σημασιολογία των λέξεων μέσα σε ένα κείμενο (σε αντίθεση με άλλα μοντέλα, όπως topic models, word embeddings) παρά περιορίζεται αποκλειστικά σε στατιστικές ιδιότητες των εμφανίσεων των λέξεων.\n",
    "\n",
    "#### Reference: https://www.quora.com/What-are-the-advantages-and-disadvantages-of-TF-IDF"
   ]
  },
  {
   "cell_type": "markdown",
   "metadata": {
    "id": "zPBW9WH56I-y"
   },
   "source": [
    "### Σύγκριση και σχολιασμός με recommenders βασισμένων στο Word2Vec\n",
    "\n",
    "- Υλoποιήστε recommenders που βασίζονται σε μεταφορά μάθησης και εμφυτεύματα. Χρησιμοποιήστε παραδείγματα για να υποδείξετε δυνατά και αδύναμα σημεία τους.\n",
    "\n",
    "- Μπορείτε να σχολιάσετε τα recommenders που βασίζονται στο Word2Vec σε σχέση με το απλό μοντέλο tfidf, εξετάζοντας τις συστάσεις για ίδια ID.\n",
    "\n",
    "- Μπορείτε επίσης να εξετάσετε συγκριτικά τα Word2Vec recommenders μεταξύ τους και πάλι βασιζόμενοι σε παραδείγματα.\n",
    "\n",
    "- Οι παρατηρήσεις σας θα βασίζονται στην ανάλυση των ποιοτικών χαρακτηριστικών που είναι η σειρά και το σύνολο των συστάσεων. Ωστόσο, μπορείτε να συμπεριλάβετε και ποσοτικά χαρακτηριστικά όπως τους χρονους loading και συγκρότησης του corpus αλλά και της διαστατικότητας $m$.\n",
    "\n",
    "Χρησιμοποιήστε όποια μορφή reporting κρίνετε καταλληλότερη: κείμενο, πίνακες, διαγράμματα.\n"
   ]
  },
  {
   "cell_type": "markdown",
   "metadata": {},
   "source": [
    "Σε πρώτο στάδιο, συγκρίνουμε τις αναπαραστάσεις με Word Embeddings συγκριτικά με τις αναπαραστάσεις tf-idf. Όπως δείξαμε προηγουμένως στα nir-picks η προτάσεις του tf-idf based recommender για την ταινία με ID = 131 (Dreams and Shadows) είναι κάπως αποτυχημένες (προτείνονται κατά κανόνα ταινίες δράσης και western). Ας εξετάσουμε τις προτάσεις για την ίδια ταινία, αυτή τη φορά για Word2Vec based Recommenders:"
   ]
  },
  {
   "cell_type": "code",
   "execution_count": 42,
   "metadata": {},
   "outputs": [
    {
     "name": "stdout",
     "output_type": "stream",
     "text": [
      "Recommending Movies Similar to Movie with ID = 131\n",
      "Title: Dreams and Shadows\n",
      "Category: \"Drama\" \n",
      "\n",
      "======= Plot Summary: ========\n",
      "Billy , a teenage outcast drifts into his own vivid imagination to escape his bleak surroundings. His father  is a paraplegic whose own dreams of happiness have faded away in an alcoholic haze. In a twisted attempt to find his purpose in life, the teen hatches a plot to seek vengeance on the man who...\n",
      "\n",
      "1) Movie ID: 2998\n",
      "Title: Buscando a Miguel\n",
      "Category:  \"Drama\"\n",
      "Similarity:  92.1 %\n",
      "\n",
      "======= Plot Summary: =======\n",
      "Miguel is a young and very ambitious Colombian politician with a brilliant career ahead of him. Born from a wealthy family, he sees the world from a position of privilege and is blind to the reality of those around him. Miguel has let the wheels in motion to run for office, but fate, it seems has ot...\n",
      "\n",
      "2) Movie ID: 3195\n",
      "Title: Oil Lamps\n",
      "Category:  \"Drama\"\n",
      "Similarity:  91.17 %\n",
      "\n",
      "======= Plot Summary: =======\n",
      "In a small Czech town named Jilemnice lives an unfortunate but brave and jovial woman Štěpa Kiliánová, whose only desire was to fill the void in her virgin life. Out of despair and excessive trust, she marries a sardonic, reclusive man, former lieutenant and gambler Pavel Malina, whose only wish is ...\n",
      "\n",
      "3) Movie ID: 3275\n",
      "Title: Kadhalna Summa Illai\n",
      "Category:  \"Drama\"\n",
      "Similarity:  91.13 %\n",
      "\n",
      "======= Plot Summary: =======\n",
      "Abhiram or Abhi,  as called by his friends and family, is the son of a multi-millionaire called GK . He is born and brought up among currency and for him life is just a game and he is accustomed to lavish lifestyle. He dates several girls and one day he comes across Janaki , a young, charming doctor...\n",
      "\n",
      "4) Movie ID: 889\n",
      "Title: Ishaqzaade\n",
      "Category:  \"Romance Film\"\n",
      "Similarity:  91.1 %\n",
      "\n",
      "======= Plot Summary: =======\n",
      "The story unfurls in a small town called Almore in UP. Ishaqzaade depicts the love story of two defiant, rebellious individuals: a passionate love story ignited by extreme dislike. The Chauhans and the Qureshis are two political families, whose rivalry and shared hatred for one another goes back gen...\n",
      "\n",
      "5) Movie ID: 1737\n",
      "Title: Oseam\n",
      "Category:  \"Animation\"\n",
      "Similarity:  91.03 %\n",
      "\n",
      "======= Plot Summary: =======\n",
      " Oseam follows two orphans, Ga-mi  and her younger brother Gil-son . Ga-mi is a gentle and reserved blind girl, while Gil-son is hyperactive and often gets into mischief. The two seek refuge at a Mahayana Buddhist temple, helping with the chores, as they cope with the loss of their mother and home s...\n",
      "\n"
     ]
    }
   ],
   "source": [
    "content_recommender(target_movie = 131, max_recommendations = 5, corpus_type = csr_matrix(tfw2v_corpus), print_plots = True)"
   ]
  },
  {
   "cell_type": "markdown",
   "metadata": {},
   "source": [
    "Όπως φαίνεται οι ταινίες που προτείνονται είναι **πολύ πιο κοντινές** με την target movie ως προς το περιεχόμενο. Ειδικότερα, προτείνονται family & childhood δράματα και γενικά ταινίες με νέους/εφήβους με ψυχολογικά προβλήματα. Τα word embeddings, δηλαδή, φαίνεται να αντιλαμβάνονται καλύτερα το **σημασιολογικό περιεχόμενο (semantic context)** των κειμένων, σε αντίθεση με τα tf-idf που στο συγκεκριμένο παράδειγμα παραπλανήθηκαν από την εμφάνιση λέξεων, όπως revenge, vengeance κλπ και πρότειναν ταινίες δράσης και western. Αυτό, σε συνδυασμό με την ικανότητα τους να αντιλαμβάνονται κάπως καλύτερα τη **σειρά εμφάνισης** λέξεων στο κείμενο, είναι τα μεγαλύτερα πλεονεκτήματα τους."
   ]
  },
  {
   "cell_type": "markdown",
   "metadata": {},
   "source": [
    "Ένα άλλο παράδειγμα, στο οποίο φαίνεται η σημασιολογική υπεροχή των Word2Vec embeddings είναι η target movie 'Mars Attack!'. Όπως δείξαμε, οι αναπαραστάσεις με tf-idf εστιάζουν υπερβολικά στην εμφάνιση της λέξης 'president' στην πλοκή και προτείνουν άσχετες ταινίες, από ρομαντικές κομεντί (My Date with the President's Daughter) μέχρι ταινίες δράσης με κατασκόπους. Από την άλλη, οι αναπαραστάσεις με word embeddings, εξακολουθούν να προτείνουν ταινίες με προέδρους (γεγονός αναμενόμενο αφού εφαρμόσαμε έναν βεβαρυμένο ΜΟ διανυσμάτων με tf-idf ποσότητες ως βάρη), παρόλα αυτά προτείνει περισσότερες ταινίες παρωδίες και σάτιρες (Wrong Is Right) που είναι πιο κοντινές στo πνεύμα της target movie."
   ]
  },
  {
   "cell_type": "code",
   "execution_count": 43,
   "metadata": {},
   "outputs": [
    {
     "name": "stdout",
     "output_type": "stream",
     "text": [
      "Recommending Movies Similar to Movie with ID = 189\n",
      "Title: Mars Attacks!\n",
      "Category: \"Thriller\",  \"Parody\",  \"Science Fiction\",  \"Ensemble Film\",  \"Alien Film\",  \"Fantasy\",  \"Comedy\",  \"Action\" \n",
      "\n",
      "======= Plot Summary: ========\n",
      "When Martians surround Earth with an armada of flying saucers, President James \"Jimmy\" Dale addresses America concerning the historic event. People around the country follow the story, including news anchors in New York, employees and guests at the Luxor Las Vegas hotel in Nevada and a trailer trash...\n",
      "\n",
      "1) Movie ID: 2732\n",
      "Title: The Man\n",
      "Category:  \"Television movie\",  \"Drama\",  \"Political drama\",  \"Film adaptation\"\n",
      "Similarity:  97.07 %\n",
      "\n",
      "======= Plot Summary: =======\n",
      "President Fenton and the Speaker of the United States House of Representatives are killed while at a summit in Frankfurt, West Germany when the palace hosting the legation suffers a collapse. Vice President Noah Calvin, elderly and in very ill health, refuses to assume the office, pointing out that ...\n",
      "\n",
      "2) Movie ID: 3492\n",
      "Title: Death of a President\n",
      "Category:  \"Crime Fiction\",  \"Thriller\",  \"Parody\",  \"Mockumentary\",  \"Mystery\",  \"Drama\",  \"Comedy\",  \"Political cinema\",  \"Political drama\"\n",
      "Similarity:  96.11 %\n",
      "\n",
      "======= Plot Summary: =======\n",
      "Broadcast in the year 2008, the film is presented in a TV documentary style format, combining talking head interviews, news coverage clips and video surveillance footage surrounding the assassination of U.S. President George W. Bush in Chicago around a year earlier on 19 October 2007. The president ...\n",
      "\n",
      "3) Movie ID: 865\n",
      "Title: Executive Suite\n",
      "Category:  \"Drama\",  \"Film adaptation\"\n",
      "Similarity:  93.34 %\n",
      "\n",
      "======= Plot Summary: =======\n",
      "Avery Bullard, president and driving force of the Tredway Corporation, a major company in the small town of Millburgh, Pennsylvania, dies suddenly while in New York City. Bullard drops dead in the street after a stroke moments after telegraphing his secretary with orders to call a meeting of the exe...\n",
      "\n",
      "4) Movie ID: 3357\n",
      "Title: Wrong Is Right\n",
      "Category:  \"Parody\",  \"Thriller\",  \"Media Satire\",  \"Satire\",  \"Comedy\",  \"Political cinema\",  \"Black comedy\"\n",
      "Similarity:  92.75 %\n",
      "\n",
      "======= Plot Summary: =======\n",
      "In the near future, violence has become something of a national sport and television news has fallen to tabloid depths. Patrick Hale , a globe-trotting reporter with access to a staggering array of world leaders, has ventured to the Arab country of Hegreb to interview his old acquaintance, King Ibn ...\n",
      "\n",
      "5) Movie ID: 3193\n",
      "Title: My Date with the President's Daughter\n",
      "Category:  \"Romantic comedy\",  \"Family Film\",  \"Comedy\",  \"Teen\"\n",
      "Similarity:  91.37 %\n",
      "\n",
      "======= Plot Summary: =======\n",
      "Duncan Fletcher  is an average teenager in search of a date to his school's spring dance. At the mall with his friends, he meets a girl named Hallie  who just happens to be the daughter of the President of the United States, George Richmond . Duncan, not realizing this, asks her to his school's danc...\n",
      "\n"
     ]
    }
   ],
   "source": [
    "content_recommender(target_movie = 189, max_recommendations = 5, corpus_type = csr_matrix(tfw2v_corpus), print_plots = True)"
   ]
  },
  {
   "cell_type": "markdown",
   "metadata": {},
   "source": [
    "Πέραν τον ποιοτικών χαρακτηριστικών, η αναπαράσταση με Word Embeddings φαίνεται να είναι πιο συμφέρουσα από αναπαραστάσεις με tf-idf. Αυτό διότι, η πρώτη χρησιμοποιεί πυκνές διανυσματικές αναπαραστάσεις (**dense vector**), σε αντίθεση με τις tf-idf αναπαραστάσεις που χρησιμοποιούν αραιούς πίνακες (**sparse matrices**). Ως εκ τούτου, σε κείμενα με πάρα πολλές διαφορετικές λέξεις, η χρήση word embeddings μπορεί να μας γλυτώσει πάρα πολύ μνήμη."
   ]
  },
  {
   "cell_type": "markdown",
   "metadata": {},
   "source": [
    "Παρόλα αυτά οι αναπαραστάσεις με word embeddings δεν συνοδεύονται μόνο από πλεονεκτήματα, αλλά και πολλά μειονεκτήματα. Ειδικότερα:\n",
    "- Χρειαζόμαστε ένα τεράστιο dataset από κείμενα, ώστε να εκπαιδεύσουμε τις διανυσματικές αναπαραστάσεις. Ευτυχώς οι τεχνικές transfer learning με χρήση προεκπαιδευμένων embeddings διευκολύνουν τη δουλειά αυτή, ωστόσο η εκπαίδευση πάνω στο δικό μας corpus εξακολουθεί να είναι **πιο αργή διαδικασία** σε σχέση με τον tf-idf vectorizer.\n",
    "- Δεν μπορούμε να εκφράσουμε word embeddings για **out-of-vocabulary λέξεις**, οπότε χρειαζόμαστε ένα αρκετά μεγάλο λεξικό λέξεων.\n",
    "- Πόλλες φορές, **σημασιολογικά αντίθετες λέξεις** (πχ good & bad) βρίσκονται σε πολύ κοντινά σημεία του διανυσματικού χώρου των αναπαραστάσεων. Κάτι τέτοιο, μπορεί να προκαλέσει σύγχυση και προβλήματα στην ταξινόμηση κειμένων ως προς το περιεχόμενο, ιδίως όταν πρόκειται για sentiment analysis.\n",
    "\n",
    "Reference: https://www.quora.com/What-are-the-advantages-and-disadvantages-of-Word2vec-and-GloVe"
   ]
  },
  {
   "cell_type": "markdown",
   "metadata": {},
   "source": [
    "Properties | tf-idf | Word Embeddings\n",
    ":------------:|:-------------:|:-------------:|\n",
    "Memory Efficient| No| Yes\n",
    "Time Efficient| Yes| No\n",
    "Needs Huge Train Dataset| No| Yes\n",
    "Uses Transfer Learning| No| Yes\n",
    "Captures Semantic Context| No | Yes\n",
    "Captures Word Order| No | Yes (Partially)"
   ]
  },
  {
   "cell_type": "markdown",
   "metadata": {},
   "source": [
    "Σε δεύτερο στάδιο, θα συγκρίνουμε τα ποιοτικά αποτελέσματα ανάμεσα σε διαφορετικές word2vec αναπαραστάσεις, εστιάζοντας κυρίως στη διάσταση των διανυσμάτων αναπαράστασης. Έχοντας ήδη δημιουργήσει ένα 200-dimensional glove model, φορτώνουμε με transfer learning ένα απλούστερο μοντέλο διανυσμάτων 25 διαστάσεων:"
   ]
  },
  {
   "cell_type": "code",
   "execution_count": 120,
   "metadata": {},
   "outputs": [
    {
     "name": "stdout",
     "output_type": "stream",
     "text": [
      "[==================================================] 100.0% 104.8/104.8MB downloaded\n"
     ]
    }
   ],
   "source": [
    "model_25 = api.load(\"glove-twitter-25\") # load glove twitter model of 25 dimensional vectors"
   ]
  },
  {
   "cell_type": "code",
   "execution_count": 123,
   "metadata": {},
   "outputs": [],
   "source": [
    "tfw2v_corpus25 = build_tfw2v(clean_corpus, vectors = model_25, embeddings_size = 25, vectorizer = optimal_vectorizer)"
   ]
  },
  {
   "cell_type": "markdown",
   "metadata": {},
   "source": [
    "Συγκρίνουμε τις προτεινόμενες ταινίες που θα δώσουν τα 25-dimensional word embeddings για την ταινία με ID = 131 (Dreams and Shadows), την οπόια εξετάσαμε και πριν:"
   ]
  },
  {
   "cell_type": "code",
   "execution_count": 125,
   "metadata": {},
   "outputs": [
    {
     "name": "stdout",
     "output_type": "stream",
     "text": [
      "Recommending Movies Similar to Movie with ID = 131\n",
      "Title: Dreams and Shadows\n",
      "Category: \"Drama\" \n",
      "\n",
      "======= Plot Summary: ========\n",
      "Billy , a teenage outcast drifts into his own vivid imagination to escape his bleak surroundings. His father  is a paraplegic whose own dreams of happiness have faded away in an alcoholic haze. In a twisted attempt to find his purpose in life, the teen hatches a plot to seek vengeance on the man who...\n",
      "\n",
      "1) Movie ID: 18\n",
      "Title: Death's Requiem\n",
      "Category:  \"Short Film\",  \"Drama\",  \"Horror\"\n",
      "Similarity:  97.79 %\n",
      "\n",
      "======= Plot Summary: =======\n",
      "Nathan Chapel is a terminally ill comic book artist who possesses a lifelong obsession with death and a voyeuristic preoccupation with his self-destructive neighbor Sarah. When Death himself, comes to life to haunt him, Nathan must confront his greatest fears, leading him to an act of self-sacrifice...\n",
      "\n",
      "2) Movie ID: 1737\n",
      "Title: Oseam\n",
      "Category:  \"Animation\"\n",
      "Similarity:  97.67 %\n",
      "\n",
      "======= Plot Summary: =======\n",
      " Oseam follows two orphans, Ga-mi  and her younger brother Gil-son . Ga-mi is a gentle and reserved blind girl, while Gil-son is hyperactive and often gets into mischief. The two seek refuge at a Mahayana Buddhist temple, helping with the chores, as they cope with the loss of their mother and home s...\n",
      "\n",
      "3) Movie ID: 3039\n",
      "Title: Sidlingu\n",
      "Category:  \"Coming of age\"\n",
      "Similarity:  97.65 %\n",
      "\n",
      "======= Plot Summary: =======\n",
      "Sidlingu has a passion for cars since his childhood and gets closer to a young girl and a middle-aged lecturer because of his desire to own a car. But the lecturer, who gives him lift, seduces him. Later Sidlingu moves to Srirangapattana where he finds one vintage car and wants to purchase it. There...\n",
      "\n",
      "4) Movie ID: 4513\n",
      "Title: Yugant\n",
      "Category:  \"Drama\"\n",
      "Similarity:  97.35 %\n",
      "\n",
      "======= Plot Summary: =======\n",
      "Deepak  and Anasuya  are an estranged couple, now leading separate lives in Cuttack and Bombay. They meet again after 18 months of separation, at a small fishing village where they had once honeymooned. Though driven apart by their careers, Deepak and Anasuya realize that their feelings for each oth...\n",
      "\n",
      "5) Movie ID: 1574\n",
      "Title: Lafangey Parindey\n",
      "Category:  \"Romantic drama\",  \"Romance Film\",  \"Drama\",  \"World cinema\"\n",
      "Similarity:  97.21 %\n",
      "\n",
      "======= Plot Summary: =======\n",
      "Pinky Palkar  is an aspiring skater who dreams of making it big through a television show. She is the archetypical Mumbai chawl girl who dreams big, despite her lowly surroundings.  Her dreams go awry when One-Shot-Nandu , a fighter who pummels his opponents in the ring blindfolded, knocks her down ...\n",
      "\n"
     ]
    }
   ],
   "source": [
    "content_recommender(target_movie = 131, max_recommendations = 5, corpus_type = csr_matrix(tfw2v_corpus25), print_plots = True)"
   ]
  },
  {
   "cell_type": "markdown",
   "metadata": {},
   "source": [
    "Παρατηρούμε ότι οι προτεινόμενες ταινίες είναι λίγο άσχετες μεταξύ τους, αφού προτείνονται από ρομαντικά δράματα, μέχρι horror films και animation. Οδηγούμαστε εύκολα στο συμπέρασμα, ότι **όσο πιο μεγάλη είναι η διάσταση των word embeddings, τόσο καλύτερα κάνουν capture το σημασιολογικό περιεχόμενο** των κειμένων και άρα προτείνουν πιο κοντινές ταινίες. Από την άλλη, βέβαια, χρησιμοποιώντας διανυσματικές αναπαραστάσεις πολύ μεγάλης διαστατικότητας μπορεί να επιβραδύνουμε κατά πολύ τον χρόνο εκπαίδευσης και το inference time για το recommendation system μας."
   ]
  },
  {
   "cell_type": "markdown",
   "metadata": {
    "id": "4irg4K-IPSym"
   },
   "source": [
    "## Πρακτικό tip - persistence αντικειμένων με joblib.dump\n",
    "\n",
    "Καθώς στην δεύτερη εργασία καλείστε να δημιουργήσετε διάφορα corpora των οποίων η δημιουργία παίρνει χρόνο, υπάρχει ένας εύκολος τρόπος να αποθηκεύουμε μεταβλητές σε dump files και να τις διαβάζουμε απευθείας.\n",
    "\n",
    "H βιβλιοθήκη [joblib](https://pypi.python.org/pypi/joblib) της Python δίνει κάποιες εξαιρετικά χρήσιμες ιδιότητες στην ανάπτυξη κώδικα: pipelining, παραλληλισμό, caching και variable persistence. Τις τρεις πρώτες ιδιότητες τις είδαμε στην πρώτη άσκηση. Στην παρούσα άσκηση θα μας φανεί χρήσιμη η τέταρτη, το persistence των αντικειμένων. Συγκεκριμένα μπορούμε με:\n",
    "\n",
    "```python\n",
    "joblib.dump(my_object, 'my_object.pkl') \n",
    "```\n",
    "\n",
    "να αποθηκεύσουμε οποιοδήποτε αντικείμενο-μεταβλητή (εδώ το `my_object`) απευθείας πάνω στο filesystem ως αρχείο, το οποίο στη συνέχεια μπορούμε να ανακαλέσουμε ως εξής:\n",
    "\n",
    "```python\n",
    "my_object = joblib.load('my_object.pkl')\n",
    "```\n",
    "\n",
    "Μπορούμε έτσι να ανακαλέσουμε μεταβλητές ακόμα και αφού κλείσουμε και ξανανοίξουμε το notebook, χωρίς να χρειαστεί να ακολουθήσουμε ξανά όλα τα βήματα ένα - ένα για την παραγωγή τους, κάτι ιδιαίτερα χρήσιμο αν αυτή η διαδικασία είναι χρονοβόρα.\n",
    "\n",
    "Ας αποθηκεύσουμε το `corpus_tf_idf` και στη συνέχεια ας το ανακαλέσουμε."
   ]
  },
  {
   "cell_type": "code",
   "execution_count": 47,
   "metadata": {
    "id": "aESOPYQaPSyo",
    "scrolled": true
   },
   "outputs": [
    {
     "data": {
      "text/plain": [
       "['corpus_tf_idf_plain.pkl']"
      ]
     },
     "execution_count": 47,
     "metadata": {},
     "output_type": "execute_result"
    }
   ],
   "source": [
    "import joblib\n",
    "\n",
    "joblib.dump(corpus_tf_idf_plain, 'corpus_tf_idf_plain.pkl') "
   ]
  },
  {
   "cell_type": "markdown",
   "metadata": {
    "id": "7_rAEj5ZPSy1"
   },
   "source": [
    "\n",
    "\n",
    "Μπορείτε με ένα απλό `!ls` να δείτε ότι το αρχείο `corpus_tf_idf.pkl` υπάρχει στο filesystem σας (== persistence):"
   ]
  },
  {
   "cell_type": "code",
   "execution_count": null,
   "metadata": {
    "id": "ZhwXmTEIPSy3",
    "scrolled": true
   },
   "outputs": [],
   "source": [
    "!ls -lh"
   ]
  },
  {
   "cell_type": "markdown",
   "metadata": {
    "id": "cey5AbkO475S"
   },
   "source": [
    "και μπορούμε να τα διαβάσουμε με `joblib.load`"
   ]
  },
  {
   "cell_type": "code",
   "execution_count": 23,
   "metadata": {
    "id": "DSJPTKY8PSyu"
   },
   "outputs": [],
   "source": [
    "corpus_tf_idf_plain = joblib.load('corpus_tf_idf_plain.pkl')\n",
    "corpus_tf_idf_optimal = joblib.load('corpus_tf_idf_optimal.pkl') \n",
    "tfw2v_corpus = joblib.load('tfw2v_corpus.pkl')"
   ]
  },
  {
   "cell_type": "code",
   "execution_count": 46,
   "metadata": {},
   "outputs": [
    {
     "data": {
      "text/plain": [
       "['tfw2v_corpus.pkl']"
      ]
     },
     "execution_count": 46,
     "metadata": {},
     "output_type": "execute_result"
    }
   ],
   "source": [
    "# Save Corpora\n",
    "joblib.dump(corpus_tf_idf_optimal, 'corpus_tf_idf_optimal.pkl') \n",
    "joblib.dump(tfw2v_corpus, 'tfw2v_corpus.pkl') "
   ]
  },
  {
   "cell_type": "markdown",
   "metadata": {
    "id": "zHOQtO83PSy9"
   },
   "source": [
    "# Εφαρμογή 2.  Τοπολογική και σημασιολογική απεικόνιση της ταινιών με χρήση SOM\n",
    "<img src=\"https://i.imgur.com/Z4FdurD.jpg\" width=\"60%\">"
   ]
  },
  {
   "cell_type": "markdown",
   "metadata": {
    "id": "UB_clmizPSy-"
   },
   "source": [
    "## Δημιουργία dataset\n",
    "Στη δεύτερη εφαρμογή θα βασιστούμε στις τοπολογικές ιδιότητες των Self Organizing Maps (SOM) για να φτιάξουμε ενά χάρτη (grid) δύο διαστάσεων όπου θα απεικονίζονται όλες οι ταινίες της συλλογής της ομάδας με τρόπο χωρικά συνεκτικό ως προς το περιεχόμενο και κυρίως το είδος τους (ο παραπάνω χάρτης είναι ενδεικτικός, δεν αντιστοιχεί στο dataset μας). \n",
    "\n",
    "Διαλέξτε για την αναπαράσταση των documents αυτήν που πιστεύετε απέδωσε καλύτερα στο πρώτα σκέλος της άσκησης. Έστω ότι αυτή είναι η `my_best_corpus`.\n",
    "\n",
    "Η έτοιμη συνάρτηση `build_final_set` θα ενώσει την αναπαράσταση που θα της δώσετε ως όρισμα `mycorpus` με τις binarized κατηγορίες `catbins` των ταινιών ως επιπλέον κολόνες (χαρακτηριστικά). Συνεπώς, κάθε ταινία αναπαρίσταται στο Vector Space Model από τα χαρακτηριστικά της αναπαράστασης `mycorpus` και τις κατηγορίες της.\n",
    "\n",
    "Τέλος, η συνάρτηση δέχεται ένα ορισμα για το πόσες ταινίες να επιστρέψει, με default τιμή όλες τις ταινίες (5000). Αυτό είναι χρήσιμο για να μπορείτε αν θέλετε να φτιάχνετε μικρότερα σύνολα δεδομένων ώστε να εκπαιδεύεται ταχύτερα το SOM. \n",
    "\n",
    "Θα τρέχουμε τη συνάρτηση με `final_set = build_final_set(my_best_corpus)`."
   ]
  },
  {
   "cell_type": "code",
   "execution_count": 44,
   "metadata": {
    "id": "U-FDDOkQPSzA"
   },
   "outputs": [],
   "source": [
    "def build_final_set(mycorpus, doc_limit = 5000, tf_idf_only=False):\n",
    "    # convert sparse tf_idf to dense tf_idf representation\n",
    "    dense_tf_idf = mycorpus.toarray()[0:doc_limit,:]\n",
    "    if tf_idf_only:\n",
    "        # use only tf_idf\n",
    "        final_set = dense_tf_idf\n",
    "    else:\n",
    "        # append the binary categories features horizontaly to the (dense) tf_idf features\n",
    "        final_set = np.hstack((dense_tf_idf, catbins[0:doc_limit,:]))\n",
    "    # η somoclu θέλει δεδομ΄ένα σε float32\n",
    "    return np.array(final_set, dtype=np.float32)"
   ]
  },
  {
   "cell_type": "code",
   "execution_count": 48,
   "metadata": {},
   "outputs": [],
   "source": [
    "my_best_corpus = corpus_tf_idf_optimal\n",
    "final_set = build_final_set(my_best_corpus)"
   ]
  },
  {
   "cell_type": "markdown",
   "metadata": {
    "id": "KjvPPENS_dYL"
   },
   "source": [
    "Στο επόμενο κελί, τυπώνουμε τις διαστάσεις του τελικού dataset μας. **Χωρίς βελτιστοποίηση του TFIDF** θα έχουμε περίπου 50.000 χαρακτηριστικά και ο θα είναι ανέφικτο να προχωρήσουμε στην εκπαίδευση του SOM."
   ]
  },
  {
   "cell_type": "code",
   "execution_count": 49,
   "metadata": {
    "id": "fvEgNn-L-jEw"
   },
   "outputs": [
    {
     "data": {
      "text/plain": [
       "(5000, 5679)"
      ]
     },
     "execution_count": 49,
     "metadata": {},
     "output_type": "execute_result"
    }
   ],
   "source": [
    "final_set.shape"
   ]
  },
  {
   "cell_type": "markdown",
   "metadata": {
    "id": "8tikdip0PSzQ"
   },
   "source": [
    "## Εκπαίδευση χάρτη SOM\n",
    "\n",
    "Θα δουλέψουμε με τη βιβλιοθήκη SOM [\"Somoclu\"](http://somoclu.readthedocs.io/en/stable/index.html). Εισάγουμε τις somoclu και matplotlib και λέμε στη matplotlib να τυπώνει εντός του notebook (κι όχι σε pop up window)."
   ]
  },
  {
   "cell_type": "code",
   "execution_count": 130,
   "metadata": {
    "id": "oX9rzxGSPSzR"
   },
   "outputs": [],
   "source": [
    "# import sompoclu, matplotlib\n",
    "import somoclu\n",
    "import matplotlib\n",
    "# we will plot inside the notebook and not in separate window\n",
    "%matplotlib inline"
   ]
  },
  {
   "cell_type": "markdown",
   "metadata": {
    "id": "EqBfn0ijPSzX"
   },
   "source": [
    "Καταρχάς διαβάστε το [function reference](http://somoclu.readthedocs.io/en/stable/reference.html) του somoclu. Θα δoυλέψουμε με χάρτη τύπου planar, παραλληλόγραμμου σχήματος νευρώνων με τυχαία αρχικοποίηση (όλα αυτά είναι default). Μπορείτε να δοκιμάσετε διάφορα μεγέθη χάρτη ωστόσο όσο ο αριθμός των νευρώνων μεγαλώνει, μεγαλώνει και ο χρόνος εκπαίδευσης. Για το training δεν χρειάζεται να ξεπεράσετε τα 100 epochs. Σε γενικές γραμμές μπορούμε να βασιστούμε στις default παραμέτρους μέχρι να έχουμε τη δυνατότητα να οπτικοποιήσουμε και να αναλύσουμε ποιοτικά τα αποτελέσματα. Ξεκινήστε με ένα χάρτη 10 x 10, 100 epochs training και ένα υποσύνολο των ταινιών (π.χ. 2000). Χρησιμοποιήστε την `time` για να έχετε μια εικόνα των χρόνων εκπαίδευσης. "
   ]
  },
  {
   "cell_type": "code",
   "execution_count": 50,
   "metadata": {},
   "outputs": [
    {
     "name": "stdout",
     "output_type": "stream",
     "text": [
      "CPU times: user 5min 13s, sys: 2.46 s, total: 5min 15s\n",
      "Wall time: 45.7 s\n"
     ]
    }
   ],
   "source": [
    "subset = final_set = build_final_set(my_best_corpus, doc_limit = 2000) # use only a subset of total movies\n",
    "n_rows, n_columns = 10, 10 # 10 x 10 map\n",
    "som = somoclu.Somoclu(n_columns, n_rows, compactsupport=False)\n",
    "%time som.train(subset,epochs=100)"
   ]
  },
  {
   "cell_type": "code",
   "execution_count": 218,
   "metadata": {},
   "outputs": [
    {
     "data": {
      "text/plain": [
       "['som2.pkl']"
      ]
     },
     "execution_count": 218,
     "metadata": {},
     "output_type": "execute_result"
    }
   ],
   "source": [
    "joblib.dump(som, 'som2.pkl')"
   ]
  },
  {
   "cell_type": "markdown",
   "metadata": {
    "id": "ntd2GE9SaHiS"
   },
   "source": [
    "\n",
    "## Best matching units\n",
    "\n",
    "Μετά από κάθε εκπαίδευση αποθηκεύστε σε μια μεταβλητή τα best matching units (bmus) για κάθε ταινία. Τα bmus μας δείχνουν σε ποιο νευρώνα ανήκει η κάθε ταινία. **Προσοχή: η σύμβαση των συντεταγμένων των νευρώνων στη Somoclu είναι (στήλη, γραμμή) δηλαδή το ανάποδο από την Python**. Με χρήση της [np.unique](https://docs.scipy.org/doc/numpy-1.13.0/reference/generated/numpy.unique.html) (μια πολύ χρήσιμη συνάρτηση στην άσκηση) αποθηκεύστε τα μοναδικά best matching units και τους δείκτες τους (indices) προς τις ταινίες. \n",
    "\n",
    "Σημειώστε ότι μπορεί να έχετε λιγότερα μοναδικά bmus από αριθμό νευρώνων γιατί μπορεί σε κάποιους νευρώνες να μην έχουν ανατεθεί ταινίες. Ως αριθμό νευρώνα θα θεωρήσουμε τον αριθμό γραμμής στον πίνακα μοναδικών bmus.\n"
   ]
  },
  {
   "cell_type": "code",
   "execution_count": 51,
   "metadata": {},
   "outputs": [],
   "source": [
    "bmus, indices = np.unique(som.bmus,axis=0,return_index=True)"
   ]
  },
  {
   "cell_type": "markdown",
   "metadata": {
    "id": "grzqcyHyaKdg"
   },
   "source": [
    "\n",
    "## Ομαδοποίηση (clustering)\n",
    "\n",
    "Τυπικά, η ομαδοποίηση σε ένα χάρτη SOM προκύπτει από το unified distance matrix (U-matrix): για κάθε κόμβο υπολογίζεται η μέση απόστασή του από τους γειτονικούς κόμβους. Εάν χρησιμοποιηθεί μπλε χρώμα στις περιοχές του χάρτη όπου η τιμή αυτή είναι χαμηλή (μικρή απόσταση) και κόκκινο εκεί που η τιμή είναι υψηλή (μεγάλη απόσταση), τότε μπορούμε να πούμε ότι οι μπλε περιοχές αποτελούν clusters και οι κόκκινες αποτελούν σύνορα μεταξύ clusters.\n",
    "\n",
    "To somoclu δίνει την επιπρόσθετη δυνατότητα να κάνουμε ομαδοποίηση των νευρώνων χρησιμοποιώντας οποιονδήποτε αλγόριθμο ομαδοποίησης του scikit-learn. Στην άσκηση θα χρησιμοποιήσουμε τον k-Means. Για τον αρχικό σας χάρτη δοκιμάστε ένα k=20 ή 25. Οι δύο προσεγγίσεις ομαδοποίησης είναι διαφορετικές, οπότε περιμένουμε τα αποτελέσματα να είναι κοντά αλλά όχι τα ίδια.\n"
   ]
  },
  {
   "cell_type": "code",
   "execution_count": 52,
   "metadata": {},
   "outputs": [],
   "source": [
    "from sklearn.cluster import KMeans\n",
    "som.cluster(KMeans(n_clusters=25))"
   ]
  },
  {
   "cell_type": "markdown",
   "metadata": {
    "id": "2nupuqcuaMe3"
   },
   "source": [
    "\n",
    "## Αποθήκευση του SOM\n",
    "\n",
    "Επειδή η αρχικοποίηση του SOM γίνεται τυχαία και το clustering είναι και αυτό στοχαστική διαδικασία, οι θέσεις και οι ετικέτες των νευρώνων και των clusters θα είναι διαφορετικές κάθε φορά που τρέχετε τον χάρτη, ακόμα και με τις ίδιες παραμέτρους. Για να αποθηκεύσετε ένα συγκεκριμένο som και clustering χρησιμοποιήστε και πάλι την `joblib`. Μετά την ανάκληση ενός SOM θυμηθείτε να ακολουθήσετε τη διαδικασία για τα bmus.\n"
   ]
  },
  {
   "cell_type": "code",
   "execution_count": 36,
   "metadata": {},
   "outputs": [],
   "source": [
    "#joblib.dump(som, 'som.pkl') \n",
    "som = joblib.load('som.pkl')"
   ]
  },
  {
   "cell_type": "markdown",
   "metadata": {
    "id": "ejX0Qs18aRHU"
   },
   "source": [
    "\n",
    "## Οπτικοποίηση U-matrix, clustering και μέγεθος clusters\n",
    "\n",
    "Για την εκτύπωση του U-matrix χρησιμοποιήστε τη `view_umatrix` με ορίσματα `bestmatches=True` και `figsize=(15, 15)` ή `figsize=(20, 20)`. Τα διαφορετικά χρώματα που εμφανίζονται στους κόμβους αντιπροσωπεύουν τα διαφορετικά clusters που προκύπτουν από τον k-Means. Μπορείτε να εμφανίσετε τη λεζάντα του U-matrix με το όρισμα `colorbar`. Μην τυπώνετε τις ετικέτες (labels) των δειγμάτων, είναι πολύ μεγάλος ο αριθμός τους.\n",
    "\n",
    "Για μια δεύτερη πιο ξεκάθαρη οπτικοποίηση του clustering τυπώστε απευθείας τη μεταβλητή `clusters`.\n",
    "\n",
    "Τέλος, χρησιμοποιώντας πάλι την `np.unique` (με διαφορετικό όρισμα) και την `np.argsort` (υπάρχουν και άλλοι τρόποι υλοποίησης) εκτυπώστε τις ετικέτες των clusters (αριθμοί από 0 έως k-1) και τον αριθμό των νευρώνων σε κάθε cluster, με φθίνουσα ή αύξουσα σειρά ως προς τον αριθμό των νευρώνων. Ουσιαστικά είναι ένα εργαλείο για να βρίσκετε εύκολα τα μεγάλα και μικρά clusters. \n",
    "\n",
    "Ακολουθεί ένα μη βελτιστοποιημένο παράδειγμα για τις τρεις προηγούμενες εξόδους:\n",
    "\n",
    "<img src=\"https://image.ibb.co/i0tsfR/umatrix_s.jpg\" width=\"35%\">\n",
    "<img src=\"https://image.ibb.co/nLgHEm/clusters.png\" width=\"35%\">\n",
    "\n"
   ]
  },
  {
   "cell_type": "code",
   "execution_count": 53,
   "metadata": {},
   "outputs": [
    {
     "data": {
      "image/png": "[encoded data removed]",
      "text/plain": [
       "<Figure size 1080x1080 with 2 Axes>"
      ]
     },
     "metadata": {
      "needs_background": "light"
     },
     "output_type": "display_data"
    }
   ],
   "source": [
    "som.view_umatrix(bestmatches=True, colorbar=True,figsize=(15, 15)); matplotlib.pyplot.show()"
   ]
  },
  {
   "cell_type": "markdown",
   "metadata": {},
   "source": [
    "Ο χάρτης παρουσιάζει κυρίως μόνο κόκκινες περιοχές, γι'αυτό κια θα χρειαστεί να αυξήσουμε τους νευρώνες του grid. Παρακάτω θα δημιουργήσουμε ένα grid 30x30."
   ]
  },
  {
   "cell_type": "code",
   "execution_count": 54,
   "metadata": {},
   "outputs": [
    {
     "name": "stdout",
     "output_type": "stream",
     "text": [
      "[[19  7 20 20 20 12 12  0  9  9]\n",
      " [19  7 11 11 11 12 12  9  9  9]\n",
      " [19 19 19 11  4  4 17 17  9  9]\n",
      " [19 19 19  4  4  1 13 17  9 18]\n",
      " [19 15 14 14 14  1 13 13  5  5]\n",
      " [15 15 14 14 14 14 13  5  5  5]\n",
      " [15 21 21 14 22 22 10 10  5  5]\n",
      " [21 21  2  2 22 10 10 10  3 24]\n",
      " [ 8  8  2 23  6  6 16  3  3 24]\n",
      " [ 8  8 23 23  6  6 16 16 24 24]]\n"
     ]
    }
   ],
   "source": [
    "print(som.clusters)"
   ]
  },
  {
   "cell_type": "code",
   "execution_count": 55,
   "metadata": {},
   "outputs": [
    {
     "name": "stdout",
     "output_type": "stream",
     "text": [
      "Clusters sorted by increasing number of neurons:\n",
      "Custer Index\n",
      "Number of Neurons\n",
      "[[ 0 18  1  7  2  3 22 20 17 16 23 21 15 12 11  8  6  4 13 24 10  5 14  9\n",
      "  19]\n",
      " [ 1  1  2  2  3  3  3  3  3  3  3  4  4  4  4  4  4  4  4  4  5  7  8  8\n",
      "   9]]\n"
     ]
    }
   ],
   "source": [
    "print(\"Clusters sorted by increasing number of neurons:\")\n",
    "print('Custer Index')\n",
    "print('Number of Neurons')\n",
    "vals, counts = np.unique(som.clusters,return_counts=True)\n",
    "sorted_counts = np.argsort(counts) # increasing sort\n",
    "print(np.array([list(vals[sorted_counts]),list(counts[sorted_counts])]))"
   ]
  },
  {
   "cell_type": "markdown",
   "metadata": {
    "id": "fMO_KcQYaTv-"
   },
   "source": [
    "\n",
    "## Σημασιολογική ερμηνεία των clusters\n",
    "\n",
    "Προκειμένου να μελετήσουμε τις τοπολογικές ιδιότητες του SOM και το αν έχουν ενσωματώσει σημασιολογική πληροφορία για τις ταινίες διαμέσου της διανυσματικής αναπαράστασης του tf-idf, των εμφυτευμάτων και των κατηγοριών, χρειαζόμαστε ένα κριτήριο ποιοτικής επισκόπησης των clusters. \n",
    "\n",
    "Θα υλοποιήσουμε το εξής κριτήριο: Λαμβάνουμε όρισμα έναν αριθμό (ετικέτα) cluster. Για το cluster αυτό βρίσκουμε όλους τους νευρώνες που του έχουν ανατεθεί από τον k-Means. Για όλους τους νευρώνες αυτούς βρίσκουμε όλες τις ταινίες που τους έχουν ανατεθεί (για τις οποίες αποτελούν bmus). Για όλες αυτές τις ταινίες τυπώνουμε ταξινομημένη τη συνολική στατιστική όλων των ειδών (κατηγοριών) και τις συχνότητές τους. Αν το cluster διαθέτει καλή συνοχή και εξειδίκευση, θα πρέπει κάποιες κατηγορίες να έχουν σαφώς μεγαλύτερη συχνότητα από τις υπόλοιπες. Θα μπορούμε τότε να αναθέσουμε αυτήν/ές την/τις κατηγορία/ες ως ετικέτες κινηματογραφικού είδους στο cluster.\n",
    "\n",
    "Μπορείτε να υλοποιήσετε τη συνάρτηση αυτή όπως θέλετε. Μια πιθανή διαδικασία θα μπορούσε να είναι η ακόλουθη:"
   ]
  },
  {
   "cell_type": "markdown",
   "metadata": {},
   "source": [
    "1. Ορίζουμε συνάρτηση `print_categories_stats` που δέχεται ως είσοδο λίστα με ids ταινιών. Δημιουργούμε μια κενή λίστα συνολικών κατηγοριών. Στη συνέχεια, για κάθε ταινία επεξεργαζόμαστε το string `categories` ως εξής: δημιουργούμε μια λίστα διαχωρίζοντας το string κατάλληλα με την `split` και αφαιρούμε τα whitespaces μεταξύ ετικετών με την `strip`. Προσθέτουμε τη λίστα αυτή στη συνολική λίστα κατηγοριών με την `extend`. Τέλος χρησιμοποιούμε πάλι την `np.unique` για να μετρήσουμε συχνότητα μοναδικών ετικετών κατηγοριών και ταξινομούμε με την `np.argsort`. Τυπώνουμε τις κατηγορίες και τις συχνότητες εμφάνισης ταξινομημένα. Χρήσιμες μπορεί να σας φανούν και οι `np.ravel`, `np.nditer`, `np.array2string` και `zip`."
   ]
  },
  {
   "cell_type": "code",
   "execution_count": 56,
   "metadata": {},
   "outputs": [],
   "source": [
    "def print_categories_stats(movie_IDs):\n",
    "    total_categories = []\n",
    "    for ID in movie_IDs:\n",
    "        category = [cat.strip(\" \").strip('\"') for cat in categories[ID][0].split(\",\")] # split categories with , and strip spaces and \"\n",
    "        total_categories.extend(category)\n",
    "    \n",
    "    freqs, counts = np.unique(total_categories, return_counts = True) # count frequencies of unique category labels\n",
    "    sorted_idx = np.argsort(counts)[::-1] # sort by decreasing freq\n",
    "    \n",
    "    stats = [(freqs[i], counts[i]) for i in sorted_idx]\n",
    "    \n",
    "    print('Overall Cluster Genres stats:')\n",
    "    print(stats)\n",
    "    return stats"
   ]
  },
  {
   "cell_type": "markdown",
   "metadata": {},
   "source": [
    "2. Ορίζουμε τη βασική μας συνάρτηση `print_cluster_neurons_movies_report` που δέχεται ως όρισμα τον αριθμό ενός cluster. Με τη χρήση της `np.where` μπορούμε να βρούμε τις συντεταγμένες των bmus που αντιστοιχούν στο cluster και με την `column_stack` να φτιάξουμε έναν πίνακα bmus για το cluster. Προσοχή στη σειρά (στήλη - σειρά) στον πίνακα bmus. Για κάθε bmu αυτού του πίνακα ελέγχουμε αν υπάρχει στον πίνακα μοναδικών bmus που έχουμε υπολογίσει στην αρχή συνολικά και αν ναι προσθέτουμε το αντίστοιχο index του νευρώνα σε μια λίστα. Χρήσιμες μπορεί να είναι και οι `np.rollaxis`, `np.append`, `np.asscalar`. Επίσης πιθανώς να πρέπει να υλοποιήσετε ένα κριτήριο ομοιότητας μεταξύ ενός bmu και ενός μοναδικού bmu από τον αρχικό πίνακα bmus."
   ]
  },
  {
   "cell_type": "code",
   "execution_count": 57,
   "metadata": {},
   "outputs": [],
   "source": [
    "def print_cluster_neurons_movies_report(cluster_ID, bmus, indices, som_model):\n",
    "    cluster_bmus = np.column_stack(np.where(som_model.clusters==cluster_ID)[::-1])\n",
    "    \n",
    "    neuron_idx = []\n",
    "    for bmu in cluster_bmus:\n",
    "        if bmu in bmus:\n",
    "            neuron_idx.append(bmu)\n",
    "\n",
    "    return neuron_idx"
   ]
  },
  {
   "cell_type": "markdown",
   "metadata": {},
   "source": [
    "3. Υλοποιούμε μια βοηθητική συνάρτηση `neuron_movies_report`. Λαμβάνει ένα σύνολο νευρώνων από την `print_cluster_neurons_movies_report` και μέσω της `indices` φτιάχνει μια λίστα με το σύνολο ταινιών που ανήκουν σε αυτούς τους νευρώνες. Στο τέλος καλεί με αυτή τη λίστα την `print_categories_stats` που τυπώνει τις στατιστικές των κατηγοριών."
   ]
  },
  {
   "cell_type": "code",
   "execution_count": 133,
   "metadata": {},
   "outputs": [],
   "source": [
    "def neuron_movies_report(neurons, som_model):\n",
    "    indices = []\n",
    "    for neuron in neurons:\n",
    "        indices.append(list(np.where(np.all(neuron==som_model.bmus,axis=1))[0]))\n",
    "    indices = np.concatenate(indices)\n",
    "    indices = [int(x) for x in indices] #convert to int\n",
    "    stats = print_categories_stats(indices)\n",
    "    return indices, stats"
   ]
  },
  {
   "cell_type": "markdown",
   "metadata": {},
   "source": [
    "Μπορείτε βέβαια να προσθέσετε οποιαδήποτε επιπλέον έξοδο σας βοηθάει. Μια χρήσιμη έξοδος είναι πόσοι νευρώνες ανήκουν στο cluster και σε πόσους και ποιους από αυτούς έχουν ανατεθεί ταινίες.\n",
    "\n",
    "Θα επιτελούμε τη σημασιολογική ερμηνεία του χάρτη καλώντας την `print_cluster_neurons_movies_report` με τον αριθμός ενός cluster που μας ενδιαφέρει. \n",
    "\n",
    "Παράδειγμα εξόδου για ένα cluster (μη βελτιστοποιημένος χάρτης, ωστόσο βλέπετε ότι οι μεγάλες κατηγορίες έχουν σημασιολογική  συνάφεια):\n",
    "\n",
    "```\n",
    "Overall Cluster Genres stats:  \n",
    "[('\"Horror\"', 86), ('\"Science Fiction\"', 24), ('\"B-movie\"', 16), ('\"Monster movie\"', 10), ('\"Creature Film\"', 10), ('\"Indie\"', 9), ('\"Zombie Film\"', 9), ('\"Slasher\"', 8), ('\"World cinema\"', 8), ('\"Sci-Fi Horror\"', 7), ('\"Natural horror films\"', 6), ('\"Supernatural\"', 6), ('\"Thriller\"', 6), ('\"Cult\"', 5), ('\"Black-and-white\"', 5), ('\"Japanese Movies\"', 4), ('\"Short Film\"', 3), ('\"Drama\"', 3), ('\"Psychological thriller\"', 3), ('\"Crime Fiction\"', 3), ('\"Monster\"', 3), ('\"Comedy\"', 2), ('\"Western\"', 2), ('\"Horror Comedy\"', 2), ('\"Archaeology\"', 2), ('\"Alien Film\"', 2), ('\"Teen\"', 2), ('\"Mystery\"', 2), ('\"Adventure\"', 2), ('\"Comedy film\"', 2), ('\"Combat Films\"', 1), ('\"Chinese Movies\"', 1), ('\"Action/Adventure\"', 1), ('\"Gothic Film\"', 1), ('\"Costume drama\"', 1), ('\"Disaster\"', 1), ('\"Docudrama\"', 1), ('\"Film adaptation\"', 1), ('\"Film noir\"', 1), ('\"Parody\"', 1), ('\"Period piece\"', 1), ('\"Action\"', 1)]```"
   ]
  },
  {
   "cell_type": "code",
   "execution_count": 134,
   "metadata": {},
   "outputs": [
    {
     "name": "stdout",
     "output_type": "stream",
     "text": [
      "Overall Cluster Genres stats:\n",
      "[('Comedy', 104), ('Romance Film', 98), ('Romantic comedy', 88), ('Drama', 54), ('Romantic drama', 19), ('Indie', 18), ('Black-and-white', 15), ('Comedy-drama', 14), ('World cinema', 11), ('Musical', 11), ('Coming of age', 7), ('Teen', 5), ('Screwball comedy', 5), ('Comedy of manners', 4), ('Slapstick', 4), ('Sports', 4), ('Crime Fiction', 4), ('Thriller', 4), ('Ensemble Film', 4), ('Family Film', 4), ('Adventure', 4), ('Period piece', 4), ('Musical comedy', 3), ('Crime Comedy', 3), ('Action', 3), ('Sex comedy', 3), ('Parody', 3), ('Fantasy', 2), ('Biography', 2), ('Black comedy', 2), ('Comedy film', 2), ('Silent film', 2), ('Costume drama', 2), ('Satire', 2), ('Remake', 2), ('Mystery', 2), ('Music', 2), ('Workplace Comedy', 2), ('Feminist Film', 1), (\"Children's\", 1), ('Caper story', 1), ('Boxing', 1), ('Social problem film', 1), ('Melodrama', 1), ('Biopic [feature]', 1), ('Biographical film', 1), ('Slice of life story', 1), ('Beach Film', 1), ('Backstage Musical', 1), ('Animation', 1), ('Animated Musical', 1), ('Western', 1), ('Action/Adventure', 1), (\"Children's/Family\", 1), ('Comedy Thriller', 1), ('Fantasy Comedy', 1), ('Kitchen sink realism', 1), ('Comedy of Errors', 1), ('Political cinema', 1), ('Short Film', 1), ('Musical Drama', 1), ('Holiday Film', 1), ('Film u00e0 clef', 1), ('Road movie', 1), ('Cult', 1), ('Domestic Comedy', 1), ('Film adaptation', 1), ('Religious Film', 1), ('Family Drama', 1), ('Political drama', 1), ('Filipino Movies', 1)]\n"
     ]
    }
   ],
   "source": [
    "clusterID = 12\n",
    "bmus, indices = np.unique(som.bmus,axis=0,return_index=True)\n",
    "cluster_bmus = print_cluster_neurons_movies_report(clusterID, bmus, indices, som_model = som)\n",
    "indices_, _ = neuron_movies_report(cluster_bmus, som_model = som)"
   ]
  },
  {
   "cell_type": "markdown",
   "metadata": {
    "id": "lq4QrImhaa7E"
   },
   "source": [
    "\n",
    "## Tips για το SOM και το clustering\n",
    "\n",
    "- Για την ομαδοποίηση ένα U-matrix καλό είναι να εμφανίζει και μπλε-πράσινες περιοχές (clusters) και κόκκινες περιοχές (ορίων). Παρατηρήστε ποια σχέση υπάρχει μεταξύ αριθμού ταινιών στο final set, μεγέθους grid και ποιότητας U-matrix.\n",
    "- Για το k του k-Means προσπαθήστε να προσεγγίζει σχετικά τα clusters του U-matrix (όπως είπαμε είναι διαφορετικοί μέθοδοι clustering). Μικρός αριθμός k δεν θα σέβεται τα όρια. Μεγάλος αριθμός θα δημιουργεί υπο-clusters εντός των clusters που φαίνονται στο U-matrix. Το τελευταίο δεν είναι απαραίτητα κακό, αλλά μεγαλώνει τον αριθμό clusters που πρέπει να αναλυθούν σημασιολογικά.\n",
    "- Σε μικρούς χάρτες και με μικρά final sets δοκιμάστε διαφορετικές παραμέτρους για την εκπαίδευση του SOM. Σημειώστε τυχόν παραμέτρους που επηρεάζουν την ποιότητα του clustering για το dataset σας ώστε να τις εφαρμόσετε στους μεγάλους χάρτες.\n",
    "- Κάποια τοπολογικά χαρακτηριστικά εμφανίζονται ήδη σε μικρούς χάρτες. Κάποια άλλα χρειάζονται μεγαλύτερους χάρτες. Δοκιμάστε μεγέθη 20x20, 25x25 ή και 30x30 και αντίστοιχη προσαρμογή των k. Όσο μεγαλώνουν οι χάρτες, μεγαλώνει η ανάλυση του χάρτη αλλά μεγαλώνει και ο αριθμός clusters που πρέπει να αναλυθούν.\n"
   ]
  },
  {
   "cell_type": "markdown",
   "metadata": {},
   "source": [
    "Επαναλαμβάνουμε την άνωθι διαδικασία για ένα grid 30x30 και πειραματιζόμαστε για τον αριθμό των clusters k του αλγορίθμου k-means:"
   ]
  },
  {
   "cell_type": "code",
   "execution_count": 60,
   "metadata": {},
   "outputs": [
    {
     "name": "stdout",
     "output_type": "stream",
     "text": [
      "CPU times: user 52min 14s, sys: 8.02 s, total: 52min 22s\n",
      "Wall time: 6min 55s\n"
     ]
    }
   ],
   "source": [
    "n_rows, n_columns = 30,30 # 30 x 30 map\n",
    "som2 = somoclu.Somoclu(n_columns, n_rows, compactsupport=False)\n",
    "%time som2.train(subset,epochs=100)"
   ]
  },
  {
   "cell_type": "code",
   "execution_count": 64,
   "metadata": {},
   "outputs": [],
   "source": [
    "#joblib.dump(som2, 'som2.pkl')\n",
    "#som2 = joblib.load('som2.pkl')"
   ]
  },
  {
   "cell_type": "code",
   "execution_count": 61,
   "metadata": {},
   "outputs": [],
   "source": [
    "som2.cluster(KMeans(n_clusters=30))"
   ]
  },
  {
   "cell_type": "code",
   "execution_count": 62,
   "metadata": {},
   "outputs": [],
   "source": [
    "bmus2, indices2 = np.unique(som2.bmus,axis=0,return_index=True)"
   ]
  },
  {
   "cell_type": "code",
   "execution_count": 63,
   "metadata": {},
   "outputs": [
    {
     "data": {
      "image/png": "[encoded data removed]",
      "text/plain": [
       "<Figure size 1080x1080 with 2 Axes>"
      ]
     },
     "metadata": {
      "needs_background": "light"
     },
     "output_type": "display_data"
    }
   ],
   "source": [
    "som2.view_umatrix(bestmatches=True, colorbar=True,figsize=(15, 15)); matplotlib.pyplot.show()"
   ]
  },
  {
   "cell_type": "markdown",
   "metadata": {},
   "source": [
    "Οι μπλε και κόκκινες περιοχές φαίνονται πολύ καλύτερα σε σχέση με πριν."
   ]
  },
  {
   "cell_type": "code",
   "execution_count": 183,
   "metadata": {},
   "outputs": [
    {
     "name": "stdout",
     "output_type": "stream",
     "text": [
      "[[13 13 13 13 13 13 21 21 21 21 21 21 21 21 21 21 21 21 21 21 21 21 21  3\n",
      "   3  3  3  3  3  3]\n",
      " [13 13 13 13 13 13 21 21 21 21 21 21 21 21 21 21 21 21 21 21 21 21 21  3\n",
      "   3  3  3  3  3  3]\n",
      " [13 13 13 13 13 13 13 21 21 21 21 21 21 21 21 21 21 21 21 21 21 21 21  3\n",
      "   3  3  3  3  3  3]\n",
      " [13 13 13 13  1 13  1 21 21 25 21 21 21 21 21 21 21 21 21 21 21 24 24  3\n",
      "   3  3  3  3  3  3]\n",
      " [20 20 20  1  1  1  1 25 25 25 25 15 21 21 21 21 21 21 21 21 24 24 24  3\n",
      "   3  3  3  3  3  3]\n",
      " [20 20 20  1  1  1  1 25 25 25 15 15 21 21 21 21 21 21 21 24 24 24 24 24\n",
      "   3  3  3  3  3  3]\n",
      " [20 20 20 20  1  1  1 25 25 25 15 15 15 21 21  4 21 21 21 24 24 24 24 24\n",
      "  24  3  3  3  3  3]\n",
      " [20 20 20 20  1  1  1  1 25 25 15 15 15  4  4  4  4 21 24 24 24 24 24 24\n",
      "   3  3  3  3  3  3]\n",
      " [10 10 20 10  1  1  1 15 15  5 15 15 15  4  4  4  4  4  4  4  4 24  3  3\n",
      "   3  3  3  3  3  3]\n",
      " [10 10 10 10 10 15 15 15 15 15  6 15  6  4  4  4  4  4  4  4  4  4  3  3\n",
      "  28 28  3  3  3  3]\n",
      " [10 10 10 10 10 10 15 15 15  6  6  6  6  6  4  4  4  4  4  4  4  4  4 28\n",
      "  28 28 28 28  3 25]\n",
      " [10 10 10 10 10 10 10 15  6  6  6  6  6  6  4  4  4  4  4  4  4  4 28 28\n",
      "  28 28 28 26 25 25]\n",
      " [10 10 10 10 10 10 10 10  6  6  6  6  6  4  4  4  4  4  4  4  4  4 28 28\n",
      "  28 28 28 26 25 25]\n",
      " [10 10 10 10 10 27 27 27 27 27 27 27  4  4  4  4  4  4 29 29 29 29 29 28\n",
      "  28 28 26 26 26 26]\n",
      " [10 10 10  5  5  5 27 27 27 27 27 27  7  4 16  4 29 29 29 29 29 29 29 17\n",
      "  17 26 26 26 26 26]\n",
      " [10 10  5  5  5  5  5 27 27 27 27  7  7  7  7  7 29 29 29 29 29 29 29 17\n",
      "  17 26 26 26 26 26]\n",
      " [10 10  5  5  5  5 27 27 27 27 27 16  7  7  7  7  7 29 29 29 29 17 17 17\n",
      "  17 17 26 26 26 26]\n",
      " [18 18 18  5  5  5 27 27 27 27 16 16  7  7  7  7 17 29 29 29 17 17 17 17\n",
      "  17 17 26 26 22 22]\n",
      " [18 18 18 18  5 18 18  5 27 16 16 16 16  7  7  7 17 17 29 12 17 17 29 29\n",
      "  17 17 22 22 22 22]\n",
      " [18 18 18 18 18 18 18 18 11 16 16 16 16  7  7  7 17  0 29 12 12 29 29 23\n",
      "  23 22 22 22 22 22]\n",
      " [18 18 18 18 18 18 18 11 11 11 22 22 22 17 17 17  0  0  0 12 23 23 23 23\n",
      "  23 22 22 22 22 22]\n",
      " [18 18 18 18 18 18 11 11 11 11 11 11 26 26 26  0  0  0  0 23 23 23 23 23\n",
      "  23 23 22 22 22 22]\n",
      " [18 18 18 18 18 11 11 11 11 11 11 11 26 26 26 26  0  0 23 23 23 23 23 23\n",
      "  23 23 23 22 22 22]\n",
      " [18 18 18 18 18 11 11 11 11 11 11 14  3 26 26  9  9  3 23 23 23 23 23 23\n",
      "  23 23 23 22 22 22]\n",
      " [18 18 18 18 18 11 11 11 11 11 11 14  9  9  9  9  9  3 23 23 19 23 23 23\n",
      "  23  8  8  8 22 22]\n",
      " [ 2  2  2  2 11 11 11 11 11 11 14  9  9  9  9  9  9  9 19 19 19 19 19  8\n",
      "   8  8  8  8  8  8]\n",
      " [ 2  2  2  2  2 11 14 11 11 14 14  9  9  9  9  9  9 19 19 19 19 19 19  8\n",
      "   8  8  8  8  8  8]\n",
      " [ 2  2  2  2  2 14 14 14 14 14 14  9  9  9  9  9  9  9 19 19 19 19 19  8\n",
      "   8  8  8  8  8  8]\n",
      " [ 2  2  2  2  2  2 14 14 14 14 14 14  9  9  9  9  9  9 19 19 19 19 19 19\n",
      "   8  8  8  8  8  8]\n",
      " [ 2  2  2  2  2  2 14 14 14 14 14 14  9  9  9  9  9  9 19 19 19 19 19 19\n",
      "   8  8  8  8  8  8]]\n"
     ]
    }
   ],
   "source": [
    "print(som2.clusters)"
   ]
  },
  {
   "cell_type": "code",
   "execution_count": 65,
   "metadata": {},
   "outputs": [
    {
     "name": "stdout",
     "output_type": "stream",
     "text": [
      "Clusters sorted by increasing number of neurons:\n",
      "Custer Index\n",
      "Number of Neurons\n",
      "[[12  0 16 20 25  5  6  1 28  7 24 15 13 14 17  2 27 19 22 26 29  8 23 11\n",
      "   9 10 18  4  3 21]\n",
      " [ 4 10 12 15 18 18 18 20 20 21 23 24 24 24 26 26 27 29 31 31 32 36 38 38\n",
      "  39 41 45 56 70 84]]\n"
     ]
    }
   ],
   "source": [
    "print(\"Clusters sorted by increasing number of neurons:\")\n",
    "print('Custer Index')\n",
    "print('Number of Neurons')\n",
    "vals, counts = np.unique(som2.clusters,return_counts=True)\n",
    "sorted_counts = np.argsort(counts) # increasing sort\n",
    "print(np.array([list(vals[sorted_counts]),list(counts[sorted_counts])]))"
   ]
  },
  {
   "cell_type": "code",
   "execution_count": 135,
   "metadata": {},
   "outputs": [
    {
     "name": "stdout",
     "output_type": "stream",
     "text": [
      "Overall Cluster Genres stats:\n",
      "[('Comedy', 118), ('Parody', 14), ('Adventure', 10), ('Crime Fiction', 10), ('World cinema', 9), ('Slapstick', 9), ('Musical', 7), ('Satire', 6), ('Black comedy', 5), ('Crime Comedy', 5), ('Teen', 5), ('Cult', 5), ('Coming of age', 4), ('Domestic Comedy', 4), ('Mystery', 4), ('Absurdism', 4), ('Sports', 4), ('Science Fiction', 4), ('Thriller', 4), (\"Children's/Family\", 3), ('Chinese Movies', 3), ('Fantasy', 3), ('Comedy-drama', 3), ('Comedy film', 3), ('Comedy Thriller', 3), ('Road movie', 3), ('Bollywood', 3), ('Action', 3), ('Screwball comedy', 3), ('Political cinema', 3), ('Political satire', 3), ('Caper story', 2), ('Slice of life story', 2), ('Buddy film', 2), ('War film', 2), ('Comedy of manners', 2), ('Spy', 2), ('Dance', 2), ('Fantasy Comedy', 2), ('Japanese Movies', 2), ('Master Criminal Films', 2), ('Mockumentary', 2), ('Heist', 2), ('Gangster Film', 2), ('Sex comedy', 2), ('Anime', 1), (\"Children's\", 1), ('Music', 1), ('Doomsday film', 1), ('Martial Arts Film', 1), ('Adventure Comedy', 1), ('Western', 1), ('Action/Adventure', 1), ('Action Comedy', 1), ('Musical comedy', 1), ('Animal Picture', 1), ('Christmas movie', 1), ('Disaster', 1), ('Travel', 1), ('Holiday Film', 1), ('Comedy of Errors', 1), ('Gross-out film', 1), ('Gross out', 1), ('Tollywood', 1), ('Female buddy film', 1), ('Workplace Comedy', 1), ('Ensemble Film', 1), ('Detective', 1), ('Detective fiction', 1), ('Romantic comedy', 1)]\n"
     ]
    }
   ],
   "source": [
    "clusterID = 10\n",
    "bmus2, indices2 = np.unique(som2.bmus,axis=0,return_index=True)\n",
    "cluster_bmus = print_cluster_neurons_movies_report(clusterID, bmus2, indices2, som_model = som2)\n",
    "indices_,_ = neuron_movies_report(cluster_bmus, som_model = som2)"
   ]
  },
  {
   "cell_type": "markdown",
   "metadata": {
    "id": "x4IUl8O8ayVf"
   },
   "source": [
    "\n",
    "\n",
    "## Ανάλυση τοπολογικών ιδιοτήτων χάρτη SOM\n",
    "\n",
    "Μετά το πέρας της εκπαίδευσης και του clustering θα έχετε ένα χάρτη με τοπολογικές ιδιότητες ως προς τα είδη των ταίνιών της συλλογής σας, κάτι αντίστοιχο με την εικόνα στην αρχή της Εφαρμογής 2 αυτού του notebook. Η συγκεκριμένη εικόνα είναι μόνο για εικονογράφιση, δεν είναι χάρτης SOM καιδεν έχει καμία σχέση με τη συλλογή δεδομένων και τις κατηγορίες μας.\n",
    "\n",
    "Για τον τελικό χάρτη SOM που θα παράξετε για τη συλλογή σας, αναλύστε σε markdown με συγκεκριμένη αναφορά σε αριθμούς clusters και τη σημασιολογική ερμηνεία τους τις εξής τρεις τοπολογικές ιδιότητες του SOM: \n",
    "\n",
    "1. Δεδομένα που έχουν μεγαλύτερη πυκνότητα πιθανότητας στο χώρο εισόδου τείνουν να απεικονίζονται με περισσότερους νευρώνες στο χώρο μειωμένης διαστατικότητας. Δώστε παραδείγματα από συχνές και λιγότερο συχνές κατηγορίες ταινιών. Χρησιμοποιήστε τις στατιστικές των κατηγοριών στη συλλογή σας και τον αριθμό κόμβων που χαρακτηρίζουν.\n",
    "2. Μακρινά πρότυπα εισόδου τείνουν να απεικονίζονται απομακρυσμένα στο χάρτη. Υπάρχουν χαρακτηριστικές κατηγορίες ταινιών που ήδη από μικρούς χάρτες τείνουν να τοποθετούνται σε διαφορετικά ή απομονωμένα σημεία του χάρτη.\n",
    "3. Κοντινά πρότυπα εισόδου τείνουν να απεικονίζονται κοντά στο χάρτη. Σε μεγάλους χάρτες εντοπίστε είδη ταινιών και κοντινά τους υποείδη.\n",
    "\n",
    "Προφανώς τοποθέτηση σε 2 διαστάσεις που να σέβεται μια απόλυτη τοπολογία δεν είναι εφικτή, αφενός γιατί δεν υπάρχει κάποια απόλυτη εξ ορισμού για τα κινηματογραφικά είδη ακόμα και σε πολλές διαστάσεις, αφετέρου γιατί πραγματοποιούμε μείωση διαστατικότητας.\n",
    "\n",
    "Εντοπίστε μεγάλα clusters και μικρά clusters που δεν έχουν σαφή χαρακτηριστικά. Εντοπίστε clusters συγκεκριμένων ειδών που μοιάζουν να μην έχουν τοπολογική συνάφεια με γύρω περιοχές. Προτείνετε πιθανές ερμηνείες.\n",
    "\n",
    "\n",
    "Τέλος, εντοπίστε clusters που έχουν κατά την άποψή σας ιδιαίτερο ενδιαφέρον στη συλλογή της ομάδας σας (data exploration / discovery value) και σχολιάστε.\n"
   ]
  },
  {
   "cell_type": "markdown",
   "metadata": {},
   "source": [
    "#### 1. Δεδομένα που έχουν μεγαλύτερη πυκνότητα πιθανότητας στο χώρο εισόδου τείνουν να απεικονίζονται με περισσότερους νευρώνες στο χώρο μειωμένης διαστατικότητας. Δώστε παραδείγματα από συχνές και λιγότερο συχνές κατηγορίες ταινιών. Χρησιμοποιήστε τις στατιστικές των κατηγοριών στη συλλογή σας και τον αριθμό κόμβων που χαρακτηρίζουν."
   ]
  },
  {
   "cell_type": "markdown",
   "metadata": {},
   "source": [
    "Σε πρώτη φάση, προσδιορίζουμε όλες τις μοναδικές κατηγορίες που εμφανίζονται στο subset των 2000 ταινιών σε συνδυασμό με τις συχνότητες εμφάνισης τους."
   ]
  },
  {
   "cell_type": "code",
   "execution_count": 103,
   "metadata": {
    "scrolled": true
   },
   "outputs": [
    {
     "name": "stdout",
     "output_type": "stream",
     "text": [
      "[('Drama', 893), ('Comedy', 527), ('Romance Film', 320), ('Thriller', 300), ('Action', 280), ('World cinema', 224), ('Horror', 193), ('Crime Fiction', 190), ('Indie', 186), ('Black-and-white', 185), ('Short Film', 178), ('Adventure', 169), ('Action/Adventure', 169), ('Family Film', 143), ('Romantic drama', 119), ('Science Fiction', 116), ('Animation', 110), ('Romantic comedy', 108), ('Mystery', 108), ('Musical', 106), ('Comedy film', 98), ('Fantasy', 89), ('Silent film', 71), ('War film', 70), ('Period piece', 63), ('Crime Thriller', 61), ('Comedy-drama', 59), ('Documentary', 57), ('Western', 55), ('Psychological thriller', 52), ('Black comedy', 50), ('Bollywood', 48), ('Parody', 43), ('Chinese Movies', 41), ('Teen', 40), ('Film adaptation', 40), ('Coming of age', 38), ('Sports', 37), (\"Children's/Family\", 37), ('Japanese Movies', 34), ('Cult', 33), ('Slasher', 32), ('Television movie', 31), ('Political drama', 30), ('Biography', 27), ('Suspense', 27), ('Satire', 27), ('Family Drama', 27), ('Martial Arts Film', 26), ('Costume drama', 25), ('Biographical film', 24), ('Melodrama', 23), ('Slapstick', 22), ('Gangster Film', 22), ('Ensemble Film', 21), (\"Children's\", 20), ('Supernatural', 19), ('History', 19), ('Buddy film', 18), ('Film noir', 18), ('B-movie', 18), ('Biopic [feature]', 17), ('Creature Film', 17), ('Road movie', 17), ('Crime Comedy', 17), ('Spy', 16), ('Historical fiction', 16), ('Action Thrillers', 15), ('Music', 14), (\"Children's Fantasy\", 13), ('Superhero movie', 13), ('Horror Comedy', 13), ('Art film', 13), ('Fantasy Adventure', 13), ('Action Comedy', 12), ('Docudrama', 11), ('Crime Drama', 11), ('Doomsday film', 11), ('Detective', 11), ('Comedy of manners', 10), ('Screwball comedy', 10), ('Zombie Film', 10), ('Anime', 10), ('Alien Film', 10), ('Epic', 10), ('Culture & Society', 10), ('Heist', 9), ('Musical comedy', 9), ('Childhood Drama', 9), ('Computer Animation', 9), ('Domestic Comedy', 9), ('Filipino Movies', 8), ('Caper story', 8), ('Detective fiction', 8), ('Monster', 8), ('Historical drama', 8), ('Natural horror films', 8), ('Sex comedy', 7), ('Adventure Comedy', 7), ('Musical Drama', 7), ('Family-Oriented Adventure', 7), ('Comedy Thriller', 7), ('Political cinema', 7), ('Marriage Drama', 6), ('Pre-Code', 6), ('Fantasy Comedy', 6), ('Monster movie', 6), ('Spaghetti Western', 6), ('Holiday Film', 6), ('Disaster', 6), ('Courtroom Drama', 6), ('Blaxploitation', 6), ('Absurdism', 6), ('Experimental film', 6), ('Swashbuckler films', 6), ('Christian film', 5), ('Gross out', 5), ('Chase Movie', 5), ('Social issues', 5), ('Sci-Fi Horror', 5), ('Slice of life story', 5), ('Haunted House Film', 5), ('Gross-out film', 5), ('Political satire', 5), ('Political thriller', 5), ('Addiction Drama', 5), ('Mockumentary', 5), ('Feminist Film', 4), ('Comedy of Errors', 4), ('Roadshow theatrical release', 4), ('Tragicomedy', 4), ('Prison', 4), ('Punk rock', 4), ('Dystopia', 4), ('Dance', 4), ('Animated cartoon', 4), ('Workplace Comedy', 4), ('Propaganda film', 4), ('Americana', 4), ('Media Satire', 4), ('Glamorized Spy Film', 4), ('Christmas movie', 4), ('Animal Picture', 4), ('Wuxia', 4), ('Time travel', 4), ('Superhero', 4), ('Master Criminal Films', 4), ('Historical Epic', 4), ('Avant-garde', 3), ('Apocalyptic and post-apocalyptic fiction', 3), ('Hagiography', 3), ('Medical fiction', 3), ('Costume Horror', 3), ('Gothic Film', 3), ('Tamil cinema', 3), ('Combat Films', 3), ('Juvenile Delinquency Film', 3), ('Sci-Fi Adventure', 3), ('Remake', 3), ('Sword and sorcery', 3), ('Romantic fantasy', 3), ('Religious Film', 3), ('Comedy horror', 3), ('Boxing', 3), ('Legal drama', 2), ('Film u00e0 clef', 2), ('Revisionist Western', 2), ('Neo-noir', 2), ('Inspirational Drama', 2), ('Sword and Sandal', 2), ('Tragedy', 2), ('Backstage Musical', 2), ('Erotic thriller', 2), ('Anti-war', 2), ('B-Western', 2), ('Stoner film', 2), ('New Hollywood', 2), ('Stop motion', 2), ('Law & Crime', 2), ('Travel', 2), ('Costume Adventure', 2), ('Whodunit', 2), ('Fairy tale', 2), ('Archaeology', 2), ('Road-Horror', 2), ('Surrealism', 2), ('Anti-war film', 2), ('Movie serial', 2), ('Future noir', 2), ('Splatter film', 2), ('Kitchen sink realism', 2), ('Anthropology', 1), ('Ealing Comedies', 1), ('Extreme Sports', 1), ('Fan film', 1), ('Animated Musical', 1), ('Sword and sorcery films', 1), ('Heavenly Comedy', 1), ('Horse racing', 1), ('Tollywood', 1), ('Hybrid Western', 1), ('Sci-Fi Thriller', 1), ('Bloopers & Candid Camera', 1), ('Psychological horror', 1), ('Essay Film', 1), ('Beach Film', 1), ('Airplanes and airports', 1), ('Mythological Fantasy', 1), ('Gender Issues', 1), ('Escape Film', 1), ('Bengali Cinema', 1), ('Hip hop movies', 1), ('Animals', 1), ('Media Studies', 1), ('Graphic & Applied Arts', 1), ('Reboot', 1), ('Psycho-biddy', 1), ('Computers', 1), ('Stand-up comedy', 1), ('Rockumentary', 1), ('Albino bias', 1), ('Comedy Western', 1), ('Jungle Film', 1), ('Gulf War', 1), ('Sci Fi Pictures original films', 1), ('Biker Film', 1), (\"Children's Entertainment\", 1), ('Mumblecore', 1), ('Social problem film', 1), ('Libraries and librarians', 1), ('Auto racing', 1), ('Business', 1), ('British Empire Film', 1), ('Erotic Drama', 1), ('Inventions & Innovations', 1), ('Interpersonal Relationships', 1), ('Existentialism', 1), ('Northern', 1), ('Indian Western', 1), ('Fantasy Drama', 1), ('Female buddy film', 1), ('Vampire movies', 1)]\n"
     ]
    }
   ],
   "source": [
    "category_set = []\n",
    "\n",
    "# Collect all categories of each movie in a list\n",
    "for movie in range(len(subset)):\n",
    "    cat = [category.strip(\" \").strip('\"') for category in categories[movie][0].split(\",\")]\n",
    "    for categ in cat:\n",
    "        category_set.append(categ)\n",
    "\n",
    "# Create a dictionary of distinc categories and their frequencies\n",
    "cat_freqs = {i:category_set.count(i) for i in set(category_set)}\n",
    "\n",
    "# Sort Dictionary wrt to most common categories\n",
    "cat_freqs_sorted = sorted(cat_freqs.items(), key=lambda cat_freqs: -cat_freqs[1])\n",
    "print(cat_freqs_sorted)"
   ]
  },
  {
   "cell_type": "markdown",
   "metadata": {},
   "source": [
    "Παρατηρούμε ότι στο υποσύνολο των 2000 ταινιών, οι πιο συνηθισμένες κατηγορίες είναι **Drama, Comedy, Romance Film**, ενώ οι πιο σπάνιες είναι αυτές που εμφανίζονται μόλις 1 φορά (πχ Female Buddy Film, Vampire Movies). "
   ]
  },
  {
   "cell_type": "code",
   "execution_count": 166,
   "metadata": {
    "scrolled": true
   },
   "outputs": [],
   "source": [
    "# Create Array of Distinct Categories\n",
    "distinct_categories = np.array([tupl[0] for tupl in cat_freqs_sorted])"
   ]
  },
  {
   "cell_type": "code",
   "execution_count": null,
   "metadata": {},
   "outputs": [],
   "source": [
    "total_neurons_per_cat = {}\n",
    "# Print activated categories for each of the 30 clusters\n",
    "for clusterID in range(30):\n",
    "    ID_list, stats = neuron_movies_report([clusterID],som_model = som2)\n",
    "    for pair in stats:\n",
    "        if pair[0] in total_neurons_per_cat:\n",
    "            total_neurons_per_cat[pair[0]] += pair[1]\n",
    "        else:\n",
    "            total_neurons_per_cat[pair[0]] = pair[1]\n",
    "\n",
    "total_neurons_per_cat = sorted(total_neurons_per_cat.items(), key=lambda total_neurons_per_cat: -total_neurons_per_cat[1])"
   ]
  },
  {
   "cell_type": "code",
   "execution_count": 167,
   "metadata": {},
   "outputs": [
    {
     "name": "stdout",
     "output_type": "stream",
     "text": [
      "5 Most Activated Categories:\n",
      "\n",
      "('Comedy', 29)\n",
      "('Short Film', 27)\n",
      "('Action/Adventure', 26)\n",
      "('Drama', 24)\n",
      "('Animation', 21)\n",
      "\n",
      "5 Least Activated Categories:\n",
      "\n",
      "('B-Western', 1)\n",
      "('Chase Movie', 1)\n",
      "('Comedy Western', 1)\n",
      "('Indian Western', 1)\n",
      "('Satire', 1)\n"
     ]
    }
   ],
   "source": [
    "print('5 Most Activated Categories:\\n')\n",
    "for i in range(5):\n",
    "    print(total_neurons_per_cat[i])\n",
    "print('\\n5 Least Activated Categories:\\n')\n",
    "for i in range(1,6):\n",
    "    print(total_neurons_per_cat[-i])"
   ]
  },
  {
   "cell_type": "markdown",
   "metadata": {},
   "source": [
    "Παρατηρούμε ότι πράγματι οι κατηγορίες που έχουν μεγαλύτερες συχνότητες εμφάνισης, όπως Comedy, Action, Drama, τείνουν να απεικονίζονται σε περισσότερους νευρώνες στον χώρο μειωμένης διαστατικότητας, σε αντίθεση με τις πιο σπάνιες κατηγορίες, οι οποίες μετά βίας ενεργοποιούν μόλις έναν νευρώνα."
   ]
  },
  {
   "cell_type": "markdown",
   "metadata": {},
   "source": [
    "#### 2. Μακρινά πρότυπα εισόδου τείνουν να απεικονίζονται απομακρυσμένα στο χάρτη. Υπάρχουν χαρακτηριστικές κατηγορίες ταινιών που ήδη από μικρούς χάρτες τείνουν να τοποθετούνται σε διαφορετικά ή απομονωμένα σημεία του χάρτη."
   ]
  },
  {
   "cell_type": "code",
   "execution_count": 178,
   "metadata": {},
   "outputs": [
    {
     "name": "stdout",
     "output_type": "stream",
     "text": [
      "Overall Cluster Genres stats:\n",
      "[('Romance Film', 21), ('Comedy', 21), ('Romantic comedy', 9), ('Black-and-white', 8), ('Musical', 7), ('Screwball comedy', 3), ('Musical comedy', 2), ('Sports', 2), ('Western', 1), (\"Children's/Family\", 1), ('Adventure', 1), ('Beach Film', 1), ('Boxing', 1), ('Fantasy', 1), ('Comedy film', 1), ('Crime Fiction', 1), ('Sex comedy', 1), ('Slapstick', 1), ('Action', 1)]\n"
     ]
    }
   ],
   "source": [
    "clusterID = 6\n",
    "bmus2, indices2 = np.unique(som2.bmus,axis=0,return_index=True)\n",
    "cluster_bmus = print_cluster_neurons_movies_report(clusterID, bmus2, indices2, som_model = som2)\n",
    "indices_,_ = neuron_movies_report(cluster_bmus, som_model = som2)"
   ]
  },
  {
   "cell_type": "code",
   "execution_count": 175,
   "metadata": {},
   "outputs": [
    {
     "name": "stdout",
     "output_type": "stream",
     "text": [
      "Overall Cluster Genres stats:\n",
      "[('Horror', 108), ('Slasher', 20), ('Comedy', 18), ('Cult', 18), ('B-movie', 16), ('Science Fiction', 14), ('Teen', 13), ('Creature Film', 13), ('Zombie Film', 9), ('Horror Comedy', 9), ('Black comedy', 8), ('Indie', 8), ('Natural horror films', 6), ('World cinema', 6), ('Monster movie', 5), ('Black-and-white', 4), ('Mystery', 4), ('Monster', 4), ('Short Film', 3), ('Japanese Movies', 3), ('Alien Film', 3), ('Television movie', 3), ('Drama', 3), ('Haunted House Film', 3), ('Fantasy', 3), ('Action/Adventure', 3), ('Psychological thriller', 3), ('Supernatural', 2), ('Animation', 2), ('Thriller', 2), ('Road-Horror', 2), ('Blaxploitation', 2), ('Chinese Movies', 2), ('Comedy film', 2), ('Film adaptation', 2), ('Doomsday film', 2), ('Splatter film', 2), ('Sci-Fi Horror', 2), ('Satire', 1), ('Adventure', 1), ('Sci Fi Pictures original films', 1), ('Apocalyptic and post-apocalyptic fiction', 1), ('Archaeology', 1), ('Parody', 1), ('Disaster', 1), ('Sports', 1), ('Filipino Movies', 1), ('Bollywood', 1), ('Psychological horror', 1), ('Media Satire', 1), ('Costume Horror', 1), ('Master Criminal Films', 1)]\n"
     ]
    }
   ],
   "source": [
    "clusterID = 18\n",
    "bmus2, indices2 = np.unique(som2.bmus,axis=0,return_index=True)\n",
    "cluster_bmus = print_cluster_neurons_movies_report(clusterID, bmus2, indices2, som_model = som2)\n",
    "indices_,_ = neuron_movies_report(cluster_bmus, som_model = som2)"
   ]
  },
  {
   "cell_type": "markdown",
   "metadata": {},
   "source": [
    "Στο παραπάνω παράδειγμα, βλέπουμε ότι το cluster 7 ενεργοποιεί κυρίως κατηγορίες Romance, Comedy, Romantic Comedy, Drama. Από την άλλη, το μακρινό cluster 18 ενεργοποιεί κυρίως κατηγορίες Thriller, Slasher, Horror κλπ. Με άλλα λόγια, μακρινά πρότυπα εισόδου τείνουν όντως να απεικονιστούν σε απομακρυσμένα clusters, δίχως ωστόσο να μην υπάρχουν εννοιολογικά σφάλματα, αφού μια τέλεια απεικόνιση όλων των κατηγοριών ταινιών στο επίπεδο είναι πρακτικά αδύνατη."
   ]
  },
  {
   "cell_type": "markdown",
   "metadata": {},
   "source": [
    "#### 3. Κοντινά πρότυπα εισόδου τείνουν να απεικονίζονται κοντά στο χάρτη. Σε μεγάλους χάρτες εντοπίστε είδη ταινιών και κοντινά τους υποείδη."
   ]
  },
  {
   "cell_type": "code",
   "execution_count": 176,
   "metadata": {},
   "outputs": [
    {
     "name": "stdout",
     "output_type": "stream",
     "text": [
      "Overall Cluster Genres stats:\n",
      "[('Horror', 108), ('Slasher', 20), ('Comedy', 18), ('Cult', 18), ('B-movie', 16), ('Science Fiction', 14), ('Teen', 13), ('Creature Film', 13), ('Zombie Film', 9), ('Horror Comedy', 9), ('Black comedy', 8), ('Indie', 8), ('Natural horror films', 6), ('World cinema', 6), ('Monster movie', 5), ('Black-and-white', 4), ('Mystery', 4), ('Monster', 4), ('Short Film', 3), ('Japanese Movies', 3), ('Alien Film', 3), ('Television movie', 3), ('Drama', 3), ('Haunted House Film', 3), ('Fantasy', 3), ('Action/Adventure', 3), ('Psychological thriller', 3), ('Supernatural', 2), ('Animation', 2), ('Thriller', 2), ('Road-Horror', 2), ('Blaxploitation', 2), ('Chinese Movies', 2), ('Comedy film', 2), ('Film adaptation', 2), ('Doomsday film', 2), ('Splatter film', 2), ('Sci-Fi Horror', 2), ('Satire', 1), ('Adventure', 1), ('Sci Fi Pictures original films', 1), ('Apocalyptic and post-apocalyptic fiction', 1), ('Archaeology', 1), ('Parody', 1), ('Disaster', 1), ('Sports', 1), ('Filipino Movies', 1), ('Bollywood', 1), ('Psychological horror', 1), ('Media Satire', 1), ('Costume Horror', 1), ('Master Criminal Films', 1)]\n"
     ]
    }
   ],
   "source": [
    "clusterID = 18\n",
    "bmus2, indices2 = np.unique(som2.bmus,axis=0,return_index=True)\n",
    "cluster_bmus = print_cluster_neurons_movies_report(clusterID, bmus2, indices2, som_model = som2)\n",
    "indices_,_ = neuron_movies_report(cluster_bmus, som_model = som2)"
   ]
  },
  {
   "cell_type": "code",
   "execution_count": 184,
   "metadata": {},
   "outputs": [
    {
     "name": "stdout",
     "output_type": "stream",
     "text": [
      "Overall Cluster Genres stats:\n",
      "[('Action', 83), ('Adventure', 26), ('Science Fiction', 19), ('Thriller', 19), ('Fantasy', 8), ('Western', 7), ('Horror', 7), ('Black-and-white', 6), ('Chinese Movies', 5), ('Crime Fiction', 5), ('Japanese Movies', 5), ('Indie', 5), ('Spy', 4), ('War film', 4), ('Mystery', 4), ('Fantasy Adventure', 3), ('World cinema', 3), ('Animation', 3), ('Comedy', 3), ('Comedy film', 3), ('Cult', 3), ('Family Film', 3), ('Martial Arts Film', 3), ('Alien Film', 2), ('Anime', 2), ('Computer Animation', 2), ('Superhero movie', 2), ('Historical fiction', 2), ('Silent film', 2), ('Spaghetti Western', 2), ('Romance Film', 2), ('Wuxia', 1), ('Glamorized Spy Film', 1), ('Adventure Comedy', 1), ('Sci-Fi Horror', 1), ('Sci-Fi Adventure', 1), ('Romantic fantasy', 1), ('Biographical film', 1), ('Bollywood', 1), ('Time travel', 1), ('Psychological thriller', 1), ('Parody', 1), ('Musical', 1), ('Swashbuckler films', 1), ('Movie serial', 1), ('Doomsday film', 1), ('Drama', 1), ('Ensemble Film', 1), ('Monster', 1), ('Fan film', 1), ('Sports', 1), ('Short Film', 1), ('Fantasy Comedy', 1), ('Gangster Film', 1), ('Zombie Film', 1)]\n"
     ]
    }
   ],
   "source": [
    "clusterID = 2\n",
    "bmus2, indices2 = np.unique(som2.bmus,axis=0,return_index=True)\n",
    "cluster_bmus = print_cluster_neurons_movies_report(clusterID, bmus2, indices2, som_model = som2)\n",
    "indices_,_ = neuron_movies_report(cluster_bmus, som_model = som2)"
   ]
  },
  {
   "cell_type": "markdown",
   "metadata": {},
   "source": [
    "Παρατηρούμε ότι στο cluster με αριθμό 18 απεικονίζονται ταινίες horror, slasher, cult και επιστημονικής φαντασίας. Στο γειτονικό του cluster με αριθμό 2, απεικονίζονται θρίλερ δράσης, επιστημονικής φατνασίας adevnture movies. Εννοιολογικά, τα πρότυπα εισόδου αυτά είναι μεταξύ τους κοινά, αφού διέπονται από το κοινό στοιχείο της δράσης και της αγωνίας, γι'αυτό και απεικονίζονται σε κοντινά clusters στο επίπεδο."
   ]
  },
  {
   "cell_type": "markdown",
   "metadata": {},
   "source": [
    "Εντελώς ανάλογα για τα γειτονικά clusters με ID 6 και 4 βλέπουμε ότι κατά κύριο λόγο έχουμε κατηγορίες τύπου Romance, Romantic Comedy, Comedy, Musical, δηλαδή κατά βάση πρόσχαρες ταινίες:"
   ]
  },
  {
   "cell_type": "code",
   "execution_count": 179,
   "metadata": {},
   "outputs": [
    {
     "name": "stdout",
     "output_type": "stream",
     "text": [
      "Overall Cluster Genres stats:\n",
      "[('Romance Film', 21), ('Comedy', 21), ('Romantic comedy', 9), ('Black-and-white', 8), ('Musical', 7), ('Screwball comedy', 3), ('Musical comedy', 2), ('Sports', 2), ('Western', 1), (\"Children's/Family\", 1), ('Adventure', 1), ('Beach Film', 1), ('Boxing', 1), ('Fantasy', 1), ('Comedy film', 1), ('Crime Fiction', 1), ('Sex comedy', 1), ('Slapstick', 1), ('Action', 1)]\n"
     ]
    }
   ],
   "source": [
    "clusterID = 6\n",
    "bmus2, indices2 = np.unique(som2.bmus,axis=0,return_index=True)\n",
    "cluster_bmus = print_cluster_neurons_movies_report(clusterID, bmus2, indices2, som_model = som2)\n",
    "indices_,_ = neuron_movies_report(cluster_bmus, som_model = som2)"
   ]
  },
  {
   "cell_type": "code",
   "execution_count": 181,
   "metadata": {},
   "outputs": [
    {
     "name": "stdout",
     "output_type": "stream",
     "text": [
      "Overall Cluster Genres stats:\n",
      "[('Romance Film', 95), ('Drama', 63), ('Comedy', 13), ('Comedy film', 12), ('Musical', 9), ('War film', 5), ('Black-and-white', 5), ('Family Film', 4), ('Period piece', 4), ('Mystery', 3), ('Adventure', 3), ('Romantic comedy', 3), ('History', 3), ('Fantasy', 2), ('Music', 2), ('Crime Fiction', 2), ('Comedy-drama', 2), ('Historical fiction', 2), ('Biographical film', 2), ('Costume drama', 2), ('Chinese Movies', 2), ('Science Fiction', 1), (\"Children's\", 1), ('Biography', 1), ('Bollywood', 1), ('Short Film', 1), ('Biopic [feature]', 1), ('Backstage Musical', 1), ('Animation', 1), ('Animated Musical', 1), ('Coming of age', 1), ('Dance', 1), ('Courtroom Drama', 1), ('Musical comedy', 1), ('Docudrama', 1), ('Pre-Code', 1), ('Family Drama', 1), ('Silent film', 1), ('Feminist Film', 1), ('Filipino Movies', 1), ('Film adaptation', 1), ('Film u00e0 clef', 1), ('Gothic Film', 1), ('Horror', 1), ('Legal drama', 1), ('Melodrama', 1), ('Musical Drama', 1), ('Action', 1)]\n"
     ]
    }
   ],
   "source": [
    "clusterID = 4\n",
    "bmus2, indices2 = np.unique(som2.bmus,axis=0,return_index=True)\n",
    "cluster_bmus = print_cluster_neurons_movies_report(clusterID, bmus2, indices2, som_model = som2)\n",
    "indices_,_ = neuron_movies_report(cluster_bmus, som_model = som2)"
   ]
  },
  {
   "cell_type": "markdown",
   "metadata": {},
   "source": [
    "#### Εντοπίστε μεγάλα clusters και μικρά clusters που δεν έχουν σαφή χαρακτηριστικά. Εντοπίστε clusters συγκεκριμένων ειδών που μοιάζουν να μην έχουν τοπολογική συνάφεια με γύρω περιοχές. Προτείνετε πιθανές ερμηνείες."
   ]
  },
  {
   "cell_type": "markdown",
   "metadata": {},
   "source": [
    "Βλέποντας καλύτερα τον χάρτη απεικόνισης στο 30x30 grid εστιάζουμε στο πολύ μικρό cluster με ID = 0 και τα γειτονικά του clusters:"
   ]
  },
  {
   "cell_type": "code",
   "execution_count": 193,
   "metadata": {},
   "outputs": [
    {
     "name": "stdout",
     "output_type": "stream",
     "text": [
      "Overall Cluster Genres stats:\n",
      "[('Romance Film', 12), ('Drama', 12), ('Thriller', 10), ('Crime Fiction', 8), ('Romantic drama', 4), ('Film adaptation', 3), ('World cinema', 2), ('Horror', 2), ('Black-and-white', 2), ('Film noir', 2), ('Mystery', 2), ('Indie', 1), ('Inspirational Drama', 1), ('War film', 1), ('Fantasy', 1), ('Psychological thriller', 1), ('Crime Thriller', 1), ('Science Fiction', 1), ('Crime Drama', 1), ('Coming of age', 1), ('Vampire movies', 1), ('Art film', 1), ('Adventure', 1), ('Action', 1)]\n"
     ]
    }
   ],
   "source": [
    "clusterID = 0\n",
    "bmus2, indices2 = np.unique(som2.bmus,axis=0,return_index=True)\n",
    "cluster_bmus = print_cluster_neurons_movies_report(clusterID, bmus2, indices2, som_model = som2)\n",
    "indices_,_ = neuron_movies_report(cluster_bmus, som_model = som2)"
   ]
  },
  {
   "cell_type": "markdown",
   "metadata": {},
   "source": [
    "Παρατηρούμε ότι το εν λόγω cluster φαίνεται να μην έχει αυστηρά καθορισμένα χαρακτηριστικά, καθώς ενεργοποιεί κατηγορίες που εκ πρώτης όψεως φαντάζουν αντιφατικές: από τη μία romantic film, romantic drama και από την άλλη thriller και crime fiction. Θέλοντας να κατανοήσουμε περισσότερο το εν λόγω cluster μελετάμε τους γείτονες του."
   ]
  },
  {
   "cell_type": "markdown",
   "metadata": {},
   "source": [
    "Από πάνω συνορεύει με τα μεγαλύτερα σε μέγεθος **clusters 29 και 7**, τα οποία συνδέονται κυρίως με το ρομάντζο και το δράμα:"
   ]
  },
  {
   "cell_type": "code",
   "execution_count": 190,
   "metadata": {},
   "outputs": [
    {
     "name": "stdout",
     "output_type": "stream",
     "text": [
      "Overall Cluster Genres stats:\n",
      "[('Drama', 45), ('Romantic drama', 45), ('Romance Film', 40), ('Period piece', 11), ('Film adaptation', 7), ('Black-and-white', 7), ('Indie', 5), ('War film', 4), ('Costume drama', 3), ('Melodrama', 3), ('Musical', 3), ('Fantasy', 2), ('Historical fiction', 2), ('Marriage Drama', 2), ('Coming of age', 2), ('Ensemble Film', 2), ('Silent film', 2), ('Courtroom Drama', 1), ('Comedy-drama', 1), ('Comedy', 1), ('Crime Fiction', 1), ('Chinese Movies', 1), ('Biography', 1), ('Americana', 1), ('Disaster', 1), ('Addiction Drama', 1), ('Western', 1), ('Horror', 1), ('Epic', 1), ('Family Drama', 1), ('Fantasy Drama', 1), ('Kitchen sink realism', 1), ('Monster', 1), ('Musical Drama', 1), ('Mystery', 1), ('Roadshow theatrical release', 1), ('Romantic comedy', 1), ('Romantic fantasy', 1), ('Science Fiction', 1), ('Teen', 1), ('Television movie', 1), ('Thriller', 1), ('Action/Adventure', 1)]\n"
     ]
    }
   ],
   "source": [
    "clusterID = 29\n",
    "bmus2, indices2 = np.unique(som2.bmus,axis=0,return_index=True)\n",
    "cluster_bmus = print_cluster_neurons_movies_report(clusterID, bmus2, indices2, som_model = som2)\n",
    "indices_,_ = neuron_movies_report(cluster_bmus, som_model = som2)"
   ]
  },
  {
   "cell_type": "code",
   "execution_count": 195,
   "metadata": {},
   "outputs": [
    {
     "name": "stdout",
     "output_type": "stream",
     "text": [
      "Overall Cluster Genres stats:\n",
      "[('Romance Film', 33), ('Drama', 33), ('Comedy', 32), ('Romantic comedy', 31), ('Romantic drama', 24), ('World cinema', 12), ('Comedy-drama', 6), ('Black-and-white', 4), ('Ensemble Film', 3), ('Family Film', 3), ('Musical', 3), ('Indie', 2), ('Bollywood', 2), ('Comedy of manners', 2), ('Thriller', 2), ('Fantasy', 2), ('Period piece', 2), ('Sports', 2), ('Kitchen sink realism', 1), ('Screwball comedy', 1), ('Action/Adventure', 1), ('Adventure', 1), ('Backstage Musical', 1), ('Biography', 1), ('Biopic [feature]', 1), ('Black comedy', 1), ('Slapstick', 1), ('Caper story', 1), (\"Children's/Family\", 1), ('Silent film', 1), ('Political drama', 1), ('Music', 1), ('Costume drama', 1), ('Crime Comedy', 1), ('Crime Fiction', 1), ('Domestic Comedy', 1), ('Political cinema', 1), ('Parody', 1), ('Mystery', 1), ('Feminist Film', 1), ('Filipino Movies', 1), ('Film adaptation', 1), ('Holiday Film', 1), ('Action', 1)]\n"
     ]
    }
   ],
   "source": [
    "clusterID = 7\n",
    "bmus2, indices2 = np.unique(som2.bmus,axis=0,return_index=True)\n",
    "cluster_bmus = print_cluster_neurons_movies_report(clusterID, bmus2, indices2, som_model = som2)\n",
    "indices_,_ = neuron_movies_report(cluster_bmus, som_model = som2)"
   ]
  },
  {
   "cell_type": "markdown",
   "metadata": {},
   "source": [
    "Από κάτω συνορεύει με τα μεγαλύτερα σε πλήθος **clusters με ID 9 και 23** τα οποία είναι κυρίως ταινίες δράσης/πολέμου και θρίλερ με έντονο το στοιχείο του δράματος:"
   ]
  },
  {
   "cell_type": "code",
   "execution_count": 188,
   "metadata": {},
   "outputs": [
    {
     "name": "stdout",
     "output_type": "stream",
     "text": [
      "Overall Cluster Genres stats:\n",
      "[('Thriller', 65), ('Crime Fiction', 46), ('Drama', 44), ('Mystery', 34), ('Crime Thriller', 31), ('Suspense', 17), ('Black-and-white', 13), ('Psychological thriller', 12), ('Film noir', 9), ('World cinema', 7), ('Indie', 7), ('Comedy', 7), ('Detective', 6), ('Film adaptation', 5), ('Detective fiction', 4), ('Horror', 4), ('Black comedy', 4), ('Period piece', 4), ('Gangster Film', 3), ('Crime Drama', 3), ('Melodrama', 3), ('Action', 3), ('Supernatural', 2), ('Political drama', 2), ('Political thriller', 2), ('Courtroom Drama', 2), ('Comedy-drama', 2), ('Caper story', 2), ('Ensemble Film', 2), ('Fantasy', 2), ('Comedy film', 1), ('Crime Comedy', 1), ('Creature Film', 1), ('Coming of age', 1), ('Neo-noir', 1), ('Television movie', 1), ('Blaxploitation', 1), ('Tragedy', 1), ('War film', 1), ('Biographical film', 1), ('Adventure', 1), ('Time travel', 1), ('Cult', 1), ('Teen', 1), ('Parody', 1), ('Spy', 1), ('Slasher', 1), ('Doomsday film', 1), ('Science Fiction', 1), ('Erotic thriller', 1), ('Satire', 1), ('Romantic drama', 1), ('Romance Film', 1), ('Whodunit', 1), ('History', 1), ('Road movie', 1), ('Master Criminal Films', 1), ('Heist', 1)]\n"
     ]
    }
   ],
   "source": [
    "clusterID = 9\n",
    "bmus2, indices2 = np.unique(som2.bmus,axis=0,return_index=True)\n",
    "cluster_bmus = print_cluster_neurons_movies_report(clusterID, bmus2, indices2, som_model = som2)\n",
    "indices_,_ = neuron_movies_report(cluster_bmus, som_model = som2)"
   ]
  },
  {
   "cell_type": "code",
   "execution_count": 196,
   "metadata": {},
   "outputs": [
    {
     "name": "stdout",
     "output_type": "stream",
     "text": [
      "Overall Cluster Genres stats:\n",
      "[('Action', 56), ('Drama', 54), ('War film', 11), ('Crime Fiction', 9), ('Romance Film', 9), ('Thriller', 8), ('Action/Adventure', 7), ('Adventure', 7), ('Sports', 4), ('Western', 4), ('Period piece', 4), ('Mystery', 4), ('Black-and-white', 4), ('Biography', 3), ('Television movie', 3), ('Bollywood', 2), ('Combat Films', 2), ('Coming of age', 2), ('Docudrama', 2), ('World cinema', 2), ('Musical', 2), ('History', 2), ('Political drama', 2), ('Indie', 2), ('Family Film', 2), ('Historical fiction', 2), ('Historical drama', 2), ('Crime Drama', 1), ('Science Fiction', 1), ('Action Thrillers', 1), ('Teen', 1), ('Spy', 1), ('Anti-war', 1), ('Anti-war film', 1), ('Biographical film', 1), ('Psychological thriller', 1), ('Crime Comedy', 1), ('Buddy film', 1), ('Film noir', 1), ('Comedy', 1), ('Comedy film', 1), ('Costume drama', 1), ('Film adaptation', 1)]\n"
     ]
    }
   ],
   "source": [
    "clusterID = 23\n",
    "bmus2, indices2 = np.unique(som2.bmus,axis=0,return_index=True)\n",
    "cluster_bmus = print_cluster_neurons_movies_report(clusterID, bmus2, indices2, som_model = som2)\n",
    "indices_,_ = neuron_movies_report(cluster_bmus, som_model = som2)"
   ]
  },
  {
   "cell_type": "markdown",
   "metadata": {},
   "source": [
    "Παρατηρούμε λοιπόν ότι το πολύ μικρό cluster με ID = 0, βρίσκεται στη συγκεκριμένη θέση του χάρτη για να αποτελέσει **ένα είδος γέφυρας ή μετάβασης** από το δράμα που διέπει τις ρομαντικές ταινίες στο δράμα που διέπει τις ταινίες δράσης, τα θρίλερ και τις ταινίες πολέμου."
   ]
  },
  {
   "cell_type": "markdown",
   "metadata": {},
   "source": [
    "Εντελώς ανάλογα μπορούμε να πούμε για **το πολύ μικρό cluster με ID = 12**, το οποίο επίσης δεν φαίνεται να έχει αυστηρώς καθορισμένα χαρακτηριστικά και περιβάλλεται από τα clusters 29 και 23, τα οποία είναι κυρίως romance-drama και action-drama. Επίσης κοντινό είναι το cluster 17 που υπάγεται στην κατηγορία world cinema. Συνεπώς το μικρό κέντρο με ID = 12 αποτελεί συνδετικό κρίκο για τρεις περιοχές."
   ]
  },
  {
   "cell_type": "code",
   "execution_count": 198,
   "metadata": {},
   "outputs": [
    {
     "name": "stdout",
     "output_type": "stream",
     "text": [
      "Overall Cluster Genres stats:\n",
      "[('World cinema', 2), ('Romantic drama', 2), ('Romance Film', 2), ('Drama', 2), ('Action', 2), ('Thriller', 1), ('Tamil cinema', 1), ('Musical', 1), ('Family Film', 1)]\n"
     ]
    }
   ],
   "source": [
    "clusterID = 12\n",
    "bmus2, indices2 = np.unique(som2.bmus,axis=0,return_index=True)\n",
    "cluster_bmus = print_cluster_neurons_movies_report(clusterID, bmus2, indices2, som_model = som2)\n",
    "indices_,_ = neuron_movies_report(cluster_bmus, som_model = som2)"
   ]
  },
  {
   "cell_type": "code",
   "execution_count": 200,
   "metadata": {},
   "outputs": [
    {
     "name": "stdout",
     "output_type": "stream",
     "text": [
      "Overall Cluster Genres stats:\n",
      "[('World cinema', 41), ('Romance Film', 40), ('Drama', 40), ('Romantic drama', 36), ('Bollywood', 15), ('Musical', 12), ('Comedy', 7), ('Art film', 3), ('War film', 2), ('Filipino Movies', 2), ('Coming of age', 2), ('Crime Fiction', 1), ('Black comedy', 1), ('Comedy film', 1), ('Biography', 1), ('Avant-garde', 1), ('Black-and-white', 1), ('Experimental film', 1), ('Docudrama', 1), ('Documentary', 1), ('Fantasy', 1), ('Juvenile Delinquency Film', 1), ('Music', 1), ('Mystery', 1), ('Political cinema', 1), ('Political drama', 1), ('Road movie', 1), ('Romantic comedy', 1), ('Action/Adventure', 1)]\n"
     ]
    }
   ],
   "source": [
    "clusterID = 17\n",
    "bmus2, indices2 = np.unique(som2.bmus,axis=0,return_index=True)\n",
    "cluster_bmus = print_cluster_neurons_movies_report(clusterID, bmus2, indices2, som_model = som2)\n",
    "indices_,_ = neuron_movies_report(cluster_bmus, som_model = som2)"
   ]
  },
  {
   "cell_type": "markdown",
   "metadata": {},
   "source": [
    "#### Τέλος, εντοπίστε clusters που έχουν κατά την άποψή σας ιδιαίτερο ενδιαφέρον στη συλλογή της ομάδας σας (data exploration / discovery value) και σχολιάστε."
   ]
  },
  {
   "cell_type": "markdown",
   "metadata": {},
   "source": [
    "Τέλος, εστιάζουμε στα clusters που αποτελούν τις πιο μπλε περιοχές του χάρτη απεικόνισης. Ειδικότερα:\n",
    "- Η πρώτη μπλε περιοχή βρίσκεται στην τέρμα πάνω δεξιά γωνία του χάρτη και αντιστοιχεί κυρίως σε cluster ID = 3.\n",
    "- Η δεύτερη μπλε περιοχή βρίσκεται τέρμα αριστερά στα μέσα του χάρτη και αντιστοιχεί κυρίως σε cluster ID = 10.\n",
    "- Η τρίτη μπλε περιοχή βρίσκεται κάτω και τέρμα αριστερά του χάρτη και αντιστοιχεί κυρίως σε cluster ID = 2.\n",
    "- Η τέταρτη μπλε περιοχή βρίσκεται περίπου στο κέντρο του χάρτη και αντιστοιχεί κυρίως σε cluster ID = 4."
   ]
  },
  {
   "cell_type": "code",
   "execution_count": 204,
   "metadata": {},
   "outputs": [
    {
     "name": "stdout",
     "output_type": "stream",
     "text": [
      "Overall Cluster Genres stats:\n",
      "[('Drama', 337), ('Crime Fiction', 25), ('Black-and-white', 20), ('War film', 19), ('Period piece', 16), ('Television movie', 14), ('Comedy film', 14), ('Family Film', 12), ('Adventure', 11), ('Thriller', 11), ('Political drama', 11), ('Biopic [feature]', 11), ('Short Film', 10), ('Biography', 10), ('Biographical film', 10), ('Melodrama', 9), ('Family Drama', 8), ('Mystery', 8), ('Film adaptation', 8), ('Musical', 7), ('Sports', 6), ('Chinese Movies', 5), ('History', 5), ('Horror', 5), ('Docudrama', 5), ('Costume drama', 5), ('Film noir', 4), ('Epic', 4), ('Pre-Code', 4), ('Satire', 3), ('Coming of age', 3), ('Crime Drama', 3), ('Silent film', 3), ('Prison', 3), ('Music', 3), ('Christian film', 3), ('Black comedy', 3), ('Ensemble Film', 2), ('Detective', 2), ('Detective fiction', 2), ('Childhood Drama', 2), ('Comedy-drama', 2), (\"Children's/Family\", 2), ('Fantasy', 2), ('Gangster Film', 2), ('Addiction Drama', 2), ('Slice of life story', 2), ('Historical drama', 2), ('New Hollywood', 2), ('Marriage Drama', 2), ('Roadshow theatrical release', 2), ('Science Fiction', 2), ('Medical fiction', 2), ('Anti-war', 1), ('Anti-war film', 1), ('Teen', 1), ('Combat Films', 1), ('Animation', 1), ('Americana', 1), ('Road movie', 1), ('Remake', 1), (\"Children's\", 1), ('Psychological thriller', 1), ('Political satire', 1), ('Albino bias', 1), ('Tragicomedy', 1), ('Hagiography', 1), ('Martial Arts Film', 1), ('Hip hop movies', 1), ('Horse racing', 1), ('Experimental film', 1), ('Existentialism', 1), ('Essay Film', 1), ('Historical Epic', 1), ('Historical fiction', 1), ('Documentary', 1), ('Disaster', 1), ('Libraries and librarians', 1), ('Indie', 1), ('Inspirational Drama', 1), ('Crime Thriller', 1), ('Japanese Movies', 1), ('Legal drama', 1), ('Courtroom Drama', 1), ('Western', 1)]\n"
     ]
    }
   ],
   "source": [
    "clusterID = 3\n",
    "bmus2, indices2 = np.unique(som2.bmus,axis=0,return_index=True)\n",
    "cluster_bmus = print_cluster_neurons_movies_report(clusterID, bmus2, indices2, som_model = som2)\n",
    "indices_,_ = neuron_movies_report(cluster_bmus, som_model = som2)"
   ]
  },
  {
   "cell_type": "code",
   "execution_count": 205,
   "metadata": {},
   "outputs": [
    {
     "name": "stdout",
     "output_type": "stream",
     "text": [
      "Overall Cluster Genres stats:\n",
      "[('Comedy', 118), ('Parody', 14), ('Adventure', 10), ('Crime Fiction', 10), ('World cinema', 9), ('Slapstick', 9), ('Musical', 7), ('Satire', 6), ('Black comedy', 5), ('Crime Comedy', 5), ('Teen', 5), ('Cult', 5), ('Coming of age', 4), ('Domestic Comedy', 4), ('Mystery', 4), ('Absurdism', 4), ('Sports', 4), ('Science Fiction', 4), ('Thriller', 4), (\"Children's/Family\", 3), ('Chinese Movies', 3), ('Fantasy', 3), ('Comedy-drama', 3), ('Comedy film', 3), ('Comedy Thriller', 3), ('Road movie', 3), ('Bollywood', 3), ('Action', 3), ('Screwball comedy', 3), ('Political cinema', 3), ('Political satire', 3), ('Caper story', 2), ('Slice of life story', 2), ('Buddy film', 2), ('War film', 2), ('Comedy of manners', 2), ('Spy', 2), ('Dance', 2), ('Fantasy Comedy', 2), ('Japanese Movies', 2), ('Master Criminal Films', 2), ('Mockumentary', 2), ('Heist', 2), ('Gangster Film', 2), ('Sex comedy', 2), ('Anime', 1), (\"Children's\", 1), ('Music', 1), ('Doomsday film', 1), ('Martial Arts Film', 1), ('Adventure Comedy', 1), ('Western', 1), ('Action/Adventure', 1), ('Action Comedy', 1), ('Musical comedy', 1), ('Animal Picture', 1), ('Christmas movie', 1), ('Disaster', 1), ('Travel', 1), ('Holiday Film', 1), ('Comedy of Errors', 1), ('Gross-out film', 1), ('Gross out', 1), ('Tollywood', 1), ('Female buddy film', 1), ('Workplace Comedy', 1), ('Ensemble Film', 1), ('Detective', 1), ('Detective fiction', 1), ('Romantic comedy', 1)]\n"
     ]
    }
   ],
   "source": [
    "clusterID = 10\n",
    "bmus2, indices2 = np.unique(som2.bmus,axis=0,return_index=True)\n",
    "cluster_bmus = print_cluster_neurons_movies_report(clusterID, bmus2, indices2, som_model = som2)\n",
    "indices_,_ = neuron_movies_report(cluster_bmus, som_model = som2)"
   ]
  },
  {
   "cell_type": "code",
   "execution_count": 211,
   "metadata": {},
   "outputs": [
    {
     "name": "stdout",
     "output_type": "stream",
     "text": [
      "Overall Cluster Genres stats:\n",
      "[('Action', 83), ('Adventure', 26), ('Science Fiction', 19), ('Thriller', 19), ('Fantasy', 8), ('Western', 7), ('Horror', 7), ('Black-and-white', 6), ('Chinese Movies', 5), ('Crime Fiction', 5), ('Japanese Movies', 5), ('Indie', 5), ('Spy', 4), ('War film', 4), ('Mystery', 4), ('Fantasy Adventure', 3), ('World cinema', 3), ('Animation', 3), ('Comedy', 3), ('Comedy film', 3), ('Cult', 3), ('Family Film', 3), ('Martial Arts Film', 3), ('Alien Film', 2), ('Anime', 2), ('Computer Animation', 2), ('Superhero movie', 2), ('Historical fiction', 2), ('Silent film', 2), ('Spaghetti Western', 2), ('Romance Film', 2), ('Wuxia', 1), ('Glamorized Spy Film', 1), ('Adventure Comedy', 1), ('Sci-Fi Horror', 1), ('Sci-Fi Adventure', 1), ('Romantic fantasy', 1), ('Biographical film', 1), ('Bollywood', 1), ('Time travel', 1), ('Psychological thriller', 1), ('Parody', 1), ('Musical', 1), ('Swashbuckler films', 1), ('Movie serial', 1), ('Doomsday film', 1), ('Drama', 1), ('Ensemble Film', 1), ('Monster', 1), ('Fan film', 1), ('Sports', 1), ('Short Film', 1), ('Fantasy Comedy', 1), ('Gangster Film', 1), ('Zombie Film', 1)]\n"
     ]
    }
   ],
   "source": [
    "clusterID = 2\n",
    "bmus2, indices2 = np.unique(som2.bmus,axis=0,return_index=True)\n",
    "cluster_bmus = print_cluster_neurons_movies_report(clusterID, bmus2, indices2, som_model = som2)\n",
    "indices_,_ = neuron_movies_report(cluster_bmus, som_model = som2)"
   ]
  },
  {
   "cell_type": "code",
   "execution_count": 216,
   "metadata": {},
   "outputs": [
    {
     "name": "stdout",
     "output_type": "stream",
     "text": [
      "Overall Cluster Genres stats:\n",
      "[('Romance Film', 95), ('Drama', 63), ('Comedy', 13), ('Comedy film', 12), ('Musical', 9), ('War film', 5), ('Black-and-white', 5), ('Family Film', 4), ('Period piece', 4), ('Mystery', 3), ('Adventure', 3), ('Romantic comedy', 3), ('History', 3), ('Fantasy', 2), ('Music', 2), ('Crime Fiction', 2), ('Comedy-drama', 2), ('Historical fiction', 2), ('Biographical film', 2), ('Costume drama', 2), ('Chinese Movies', 2), ('Science Fiction', 1), (\"Children's\", 1), ('Biography', 1), ('Bollywood', 1), ('Short Film', 1), ('Biopic [feature]', 1), ('Backstage Musical', 1), ('Animation', 1), ('Animated Musical', 1), ('Coming of age', 1), ('Dance', 1), ('Courtroom Drama', 1), ('Musical comedy', 1), ('Docudrama', 1), ('Pre-Code', 1), ('Family Drama', 1), ('Silent film', 1), ('Feminist Film', 1), ('Filipino Movies', 1), ('Film adaptation', 1), ('Film u00e0 clef', 1), ('Gothic Film', 1), ('Horror', 1), ('Legal drama', 1), ('Melodrama', 1), ('Musical Drama', 1), ('Action', 1)]\n"
     ]
    }
   ],
   "source": [
    "clusterID = 4\n",
    "bmus2, indices2 = np.unique(som2.bmus,axis=0,return_index=True)\n",
    "cluster_bmus = print_cluster_neurons_movies_report(clusterID, bmus2, indices2, som_model = som2)\n",
    "indices_,_ = neuron_movies_report(cluster_bmus, som_model = som2)"
   ]
  },
  {
   "cell_type": "markdown",
   "metadata": {},
   "source": [
    "Παρατηρούμε ότι τα παραπάνω clusters δίνουν αντίστοιχα κατηγορίες ταινιών **Drama, Comedy, Action και Romance**, οι οποίες όπως δείξαμε είναι και οι πιο συνηθισμένες κατηγορίες ταινιών. Για τον λόγο αυτόν, τα εν λόγω clusters θα ενεργοποιούνται για το μεγαλύτερο πλήθος ταινιών εισόδου και είναι ιδιαίτερου ενδιαφέροντος."
   ]
  },
  {
   "cell_type": "markdown",
   "metadata": {
    "id": "tYjxGR5DawIy"
   },
   "source": [
    "\n",
    "# Τελική παράδοση άσκησης\n",
    "\n",
    "- Θα παραδώσετε στο helios το παρόν notebook επεξεργασμένο ή ένα ή δύο νέα zipαρισμένα με τις απαντήσεις σας για τα ζητούμενα και των δύο εφαρμογών. \n",
    "- Θυμηθείτε ότι η ανάλυση του χάρτη στο markdown με αναφορά σε αριθμούς clusters πρέπει να αναφέρεται στον τελικό χάρτη με τα κελιά ορατά που θα παραδώσετε αλλιώς ο χάρτης που θα προκύψει θα είναι διαφορετικός και τα labels των clusters δεν θα αντιστοιχούν στην ανάλυσή σας. \n",
    "- Μην ξεχάσετε στην αρχή ένα κελί markdown με **τα στοιχεία της ομάδας σας**."
   ]
  },
  {
   "cell_type": "markdown",
   "metadata": {
    "id": "UHhCkvxjnitd"
   },
   "source": [
    "<table>\n",
    "  <tr><td align=\"center\">\n",
    "    <font size=\"4\">Παρακαλούμε διατρέξτε βήμα-βήμα το notebook για να μην ξεχάσετε παραδοτέα</font>\n",
    "</td>\n",
    "  </tr>\n",
    "</table>"
   ]
  }
 ],
 "metadata": {
  "colab": {
   "name": "Εργασία 2 Unsupervised Learning - Εκφώνηση.ipynb",
   "provenance": [],
   "toc_visible": true
  },
  "kernelspec": {
   "display_name": "Python 3 (ipykernel)",
   "language": "python",
   "name": "python3"
  },
  "language_info": {
   "codemirror_mode": {
    "name": "ipython",
    "version": 3
   },
   "file_extension": ".py",
   "mimetype": "text/x-python",
   "name": "python",
   "nbconvert_exporter": "python",
   "pygments_lexer": "ipython3",
   "version": "3.8.3"
  }
 },
 "nbformat": 4,
 "nbformat_minor": 1
}
